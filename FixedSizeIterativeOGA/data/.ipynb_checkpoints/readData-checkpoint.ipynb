{
 "cells": [
  {
   "cell_type": "code",
   "execution_count": 1,
   "id": "7025a1cf",
   "metadata": {},
   "outputs": [],
   "source": [
    "import torch\n",
    "import numpy as np\n",
    "import torch.nn as nn\n",
    "import torch.nn.functional as F\n",
    "import torch.optim as optim\n",
    "import matplotlib.pyplot as plt\n",
    "import time\n",
    "import sys\n",
    "from scipy.sparse import linalg\n",
    "from pathlib import Path\n",
    "if torch.cuda.is_available():  \n",
    "    device = \"cuda\" \n",
    "else:  \n",
    "    device = \"cpu\" \n",
    "\n",
    "pi = torch.tensor(np.pi,dtype=torch.float64)\n",
    "torch.set_default_tensor_type(torch.DoubleTensor)\n",
    "\n",
    "class model(nn.Module):\n",
    "    \"\"\" ReLU k shallow neural network\n",
    "    Parameters: \n",
    "    input size: input dimension\n",
    "    hidden_size1 : number of hidden layers \n",
    "    num_classes: output classes \n",
    "    k: degree of relu functions\n",
    "    \"\"\"\n",
    "    def __init__(self, input_size, hidden_size1, num_classes,k = 1):\n",
    "        super().__init__()\n",
    "        self.fc1 = nn.Linear(input_size, hidden_size1)\n",
    "        self.fc2 = nn.Linear(hidden_size1, num_classes,bias = False)\n",
    "        self.k = k \n",
    "    def forward(self, x):\n",
    "        u1 = self.fc2(F.relu(self.fc1(x))**self.k)\n",
    "        return u1\n"
   ]
  },
  {
   "cell_type": "markdown",
   "id": "90db6ae7",
   "metadata": {},
   "source": [
    "## read data \n",
    "\n",
    "- for each different neurons numbers, 32, 64, ..., 512, we run the fixed-size iterative OGA for 10 trials and take the average errors. \n",
    "- The initial error is the result from a random feature method\n",
    "- The final error is the result after iterations of the fixed-size iterative OGA. "
   ]
  },
  {
   "cell_type": "code",
   "execution_count": 10,
   "id": "945c822b",
   "metadata": {},
   "outputs": [
    {
     "name": "stdout",
     "output_type": "stream",
     "text": [
      "neuron number:  32\n",
      "0.4556589219588214 0.07919531539942878\n",
      "neuron number:  64\n",
      "0.34367072884423394 0.03396997828891653\n",
      "neuron number:  128\n",
      "0.22073302282476776 0.013976294236950876\n",
      "neuron number:  256\n",
      "0.10492060651584689 0.005450210399065525\n",
      "neuron number:  512\n",
      "0.04399820757950909 0.0021439328572591763\n",
      "rfm order\n",
      "[nan nan nan nan]\n",
      "iterative oga order\n",
      "[nan nan nan nan]\n"
     ]
    },
    {
     "name": "stderr",
     "output_type": "stream",
     "text": [
      "/tmp/ipykernel_2298014/3656633404.py:47: RuntimeWarning: invalid value encountered in true_divide\n",
      "  print(np.log(err_arr_rfm[:-1] / err_arr_rfm[1:])/np.log(neuron_num_list[:-1]/neuron_num_list[1:]))\n",
      "/tmp/ipykernel_2298014/3656633404.py:50: RuntimeWarning: invalid value encountered in true_divide\n",
      "  print(np.log(err_arr_iter[:-1] / err_arr_iter[1:])/np.log(neuron_num_list[:-1]/neuron_num_list[1:]))\n"
     ]
    }
   ],
   "source": [
    "def target(x):\n",
    "    z = torch.cos(4 * pi *x[:,0:1]) * torch.cos(2 * pi *x[:,1:2])\n",
    "    return z \n",
    "function_name = 'cos4pix1cos2pix2'\n",
    "load_oga = False \n",
    "load_init = False \n",
    "model_none = False\n",
    "plot = False \n",
    "save_data = True \n",
    "relu_k = 1 \n",
    "\n",
    "start_time = time.time() \n",
    "exponent = 9 \n",
    "neuron_num_list = np.array([2**ii for ii in range(5,exponent + 1)])\n",
    "num_trials = 10  \n",
    "err_trials = torch.zeros(len(neuron_num_list),num_trials)\n",
    "err_arr_rfm = np.zeros(len(neuron_num_list))\n",
    "err_arr_iter = np.zeros(len(neuron_num_list))\n",
    "for i, num_neurons in enumerate(neuron_num_list):\n",
    "    print(\"neuron number: \",num_neurons)\n",
    "    errl2_trials = []\n",
    "    for trial in range(num_trials):\n",
    "        num_epochs = num_neurons * 2  ###  \n",
    "        for N1 in [2**7]: \n",
    "            s = 2**2\n",
    "            N = s * N1 \n",
    "            nn_size = num_neurons    \n",
    "            plot = False \n",
    "            plot_freq = num_epochs \n",
    "            Nx = 100 \n",
    "            order = 3 \n",
    "\n",
    "            folder_name = './'\n",
    "\n",
    "            filename = folder_name + 'err_{}_N_{}_neuron_{}_epochs_{}_randomized_{}.pt'.format(function_name,s*N, num_neurons,num_epochs,trial)\n",
    "            errl2 = torch.load(filename)\n",
    "            errl2_trials.append(errl2)\n",
    "    errl2_trials = torch.stack(errl2_trials,dim = 0)\n",
    "    errl2_mean = errl2_trials.mean(dim = 0)\n",
    "    err_arr_rfm[i] = errl2_mean[0].item()\n",
    "    err_arr_iter[i] = errl2_mean[-1].item()\n",
    "    print(errl2_mean[0].item(),errl2_mean[-1].item())    \n",
    "\n",
    "#compute convergence order \n",
    "\n",
    "print(\"rfm order\")\n",
    "print(np.log(err_arr_rfm[:-1] / err_arr_rfm[1:])/ np.log(neuron_num_list[:-1]/neuron_num_list[1:]))\n",
    "\n",
    "print(\"iterative oga order\")\n",
    "print(np.log(err_arr_iter[:-1] / err_arr_iter[1:]) /np.log(neuron_num_list[:-1]/neuron_num_list[1:]))\n"
   ]
  },
  {
   "cell_type": "code",
   "execution_count": 11,
   "id": "ce64c05f",
   "metadata": {},
   "outputs": [
    {
     "name": "stdout",
     "output_type": "stream",
     "text": [
      "rfm order\n",
      "[nan nan nan nan]\n"
     ]
    },
    {
     "name": "stderr",
     "output_type": "stream",
     "text": [
      "/tmp/ipykernel_2298014/1551838532.py:2: RuntimeWarning: invalid value encountered in true_divide\n",
      "  print(np.log(err_arr_rfm[:-1] / err_arr_rfm[1:])/ np.log(neuron_num_list[:-1]/neuron_num_list[1:]))\n"
     ]
    }
   ],
   "source": [
    "print(\"rfm order\")\n",
    "print(np.log(err_arr_rfm[:-1] / err_arr_rfm[1:])/ np.log(neuron_num_list[:-1]/neuron_num_list[1:]))\n",
    "\n",
    "# print(\"iterative oga order\")\n",
    "# print(np.log(err_arr_iter[:-1] / err_arr_iter[1:]) /np.log(neuron_num_list[:-1]/neuron_num_list[1:]))"
   ]
  },
  {
   "cell_type": "code",
   "execution_count": 12,
   "id": "0828ef4b",
   "metadata": {},
   "outputs": [
    {
     "data": {
      "text/plain": [
       "array([ 32,  64, 128, 256, 512])"
      ]
     },
     "execution_count": 12,
     "metadata": {},
     "output_type": "execute_result"
    }
   ],
   "source": [
    "neuron_num_list"
   ]
  },
  {
   "cell_type": "code",
   "execution_count": 13,
   "id": "fc3983db",
   "metadata": {},
   "outputs": [
    {
     "data": {
      "text/plain": [
       "array([0., 0., 0., 0., 0.])"
      ]
     },
     "execution_count": 13,
     "metadata": {},
     "output_type": "execute_result"
    }
   ],
   "source": [
    "err_arr_rfm"
   ]
  },
  {
   "cell_type": "code",
   "execution_count": null,
   "id": "bfd4dac7",
   "metadata": {},
   "outputs": [],
   "source": []
  }
 ],
 "metadata": {
  "kernelspec": {
   "display_name": "Python 3 (ipykernel)",
   "language": "python",
   "name": "python3"
  },
  "language_info": {
   "codemirror_mode": {
    "name": "ipython",
    "version": 3
   },
   "file_extension": ".py",
   "mimetype": "text/x-python",
   "name": "python",
   "nbconvert_exporter": "python",
   "pygments_lexer": "ipython3",
   "version": "3.9.12"
  }
 },
 "nbformat": 4,
 "nbformat_minor": 5
}
