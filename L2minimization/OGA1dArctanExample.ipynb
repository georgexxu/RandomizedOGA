{
 "cells": [
  {
   "cell_type": "code",
   "execution_count": 6,
   "metadata": {},
   "outputs": [],
   "source": [
    "import torch\n",
    "import numpy as np\n",
    "import torch.nn as nn\n",
    "import torch.nn.functional as F\n",
    "import torch.optim as optim\n",
    "import matplotlib.pyplot as plt\n",
    "import time\n",
    "import sys\n",
    "import os \n",
    "from scipy.sparse import linalg\n",
    "from pathlib import Path\n",
    "if torch.cuda.is_available():  \n",
    "    device = \"cuda\" \n",
    "else:  \n",
    "    device = \"cpu\" \n",
    "\n",
    "pi = torch.tensor(np.pi,dtype=torch.float64)\n",
    "torch.set_default_dtype(torch.float64)\n",
    "\n",
    "class model(nn.Module):\n",
    "    \"\"\" ReLU k shallow neural network\n",
    "    Parameters: \n",
    "    input size: input dimension\n",
    "    hidden_size1 : number of hidden layers \n",
    "    num_classes: output classes \n",
    "    k: degree of relu functions\n",
    "    \"\"\"\n",
    "    def __init__(self, input_size, hidden_size1, num_classes,k = 1):\n",
    "        super().__init__()\n",
    "        self.fc1 = nn.Linear(input_size, hidden_size1)\n",
    "        self.fc2 = nn.Linear(hidden_size1, num_classes,bias = False)\n",
    "        self.k = k \n",
    "    def forward(self, x):\n",
    "        u1 = self.fc2(F.relu(self.fc1(x))**self.k)\n",
    "        return u1\n",
    "\n"
   ]
  },
  {
   "cell_type": "code",
   "execution_count": 8,
   "metadata": {},
   "outputs": [],
   "source": [
    "def PiecewiseGQ1D_weights_points(x_l,x_r,Nx, order):\n",
    "    \"\"\" Output the coeffients and weights for piecewise Gauss Quadrature \n",
    "    Parameters\n",
    "    ----------\n",
    "    x_l : float \n",
    "    left endpoint of an interval \n",
    "    \n",
    "    x_r: float\n",
    "    right endpoint of an interval \n",
    "    \n",
    "    integration_intervals: int\n",
    "    number of subintervals for integration\n",
    "    \n",
    "    Returns\n",
    "    -------\n",
    "    coef1_expand\n",
    "    \n",
    "    gw_expand\n",
    "    \n",
    "    integration_points\n",
    "    \"\"\"\n",
    "    x,w = np.polynomial.legendre.leggauss(order)\n",
    "    gx = torch.tensor(x).to(device)\n",
    "    gx = gx.view(1,-1) # row vector \n",
    "    gw = torch.tensor(w).to(device)    \n",
    "    gw = gw.view(-1,1) # Column vector \n",
    "    nodes = torch.linspace(x_l,x_r,Nx+1).view(-1,1).to(device) \n",
    "    coef1 = ((nodes[1:,:] - nodes[:-1,:])/2) # n by 1  \n",
    "    coef2 = ((nodes[1:,:] + nodes[:-1,:])/2) # n by 1  \n",
    "    coef2_expand = coef2.expand(-1,gx.size(1)) # Expand to n by p shape, -1: keep the first dimension n , expand the 2nd dim (columns)\n",
    "    integration_points = coef1@gx + coef2_expand\n",
    "    integration_points = integration_points.flatten().view(-1,1) # Make it a column vector\n",
    "    gw_expand = torch.tile(gw,(Nx,1)) # rows: n copies of current tensor, columns: 1 copy, no change\n",
    "    # Modify coef1 to be compatible with func_values\n",
    "    coef1_expand = coef1.expand(coef1.size(0),gx.size(1))    \n",
    "    coef1_expand = coef1_expand.flatten().view(-1,1)\n",
    "\n",
    "    return coef1_expand.to(device) * gw_expand.to(device), integration_points.to(device)\n",
    "\n",
    "\n",
    "def minimize_linear_layer_explicit_assemble(model,target,weights, integration_points,solver=\"direct\"):\n",
    "    \"\"\"\n",
    "    calls the following functions (dependency): \n",
    "    1. GQ_piecewise_2D\n",
    "    input: the nn model containing parameter \n",
    "    1. define the loss function  \n",
    "    2. take derivative to extract the linear system A\n",
    "    3. call the cg solver in scipy to solve the linear system \n",
    "    output: sol. solution of Ax = b\n",
    "    \"\"\"\n",
    "    start_time = time.time() \n",
    "    w = model.fc1.weight.data \n",
    "    b = model.fc1.bias.data \n",
    "    basis_value_col = F.relu(integration_points @ w.t()+ b)**(model.k) \n",
    "    weighted_basis_value_col = basis_value_col * weights \n",
    "    jac = weighted_basis_value_col.t() @ basis_value_col \n",
    "     \n",
    "    rhs = weighted_basis_value_col.t() @ (target(integration_points)) \n",
    "    print(\"assembling the matrix time taken: \", time.time()-start_time) \n",
    "    start_time = time.time()    \n",
    "    if solver == \"cg\": \n",
    "        sol, exit_code = linalg.cg(np.array(jac.detach().cpu()),np.array(rhs.detach().cpu()),tol=1e-12)\n",
    "        sol = torch.tensor(sol).view(1,-1)\n",
    "    elif solver == \"direct\": \n",
    "#         sol = np.linalg.inv( np.array(jac.detach().cpu()) )@np.array(rhs.detach().cpu())\n",
    "        sol = (torch.linalg.solve( jac.detach(), rhs.detach())).view(1,-1)\n",
    "    elif solver == \"ls\":\n",
    "        sol = (torch.linalg.lstsq(jac.detach().cpu(),rhs.detach().cpu(),driver='gelsd').solution).view(1,-1)\n",
    "        # sol = (torch.linalg.lstsq(jac.detach(),rhs.detach()).solution).view(1,-1) # gpu/cpu, driver = 'gels', cannot solve singular\n",
    "    print(\"solving Ax = b time taken: \", time.time()-start_time)\n",
    "    return sol \n",
    "\n",
    "\n",
    "def plot_solution_modified(r1,r2,model,x_test,u_true,name=None): \n",
    "    # Plot function: test results \n",
    "    u_model_cpu = model(x_test).cpu().detach()\n",
    "    \n",
    "    w = model.fc1.weight.data.squeeze()\n",
    "    b = model.fc1.bias.data.squeeze()\n",
    "    x_model_pt = (-b/w).view(-1,1)\n",
    "    u_model_pt = model(x_model_pt).cpu().detach()\n",
    "    plt.figure(dpi = 100)\n",
    "    plt.plot(x_test.cpu(),u_model_cpu,'-.',label = \"nn function\")\n",
    "    plt.plot(x_test.cpu(),u_true.cpu(),label = \"true\")\n",
    "#     plt.plot(x_model_pt,u_model_pt,'.r')\n",
    "    if name!=None: \n",
    "        plt.title(name)\n",
    "    plt.legend()\n",
    "    plt.show()\n",
    "\n",
    "\n",
    "def plot_solution_adaptive(r1,r2,model,target,name=None): \n",
    "    # Plot function: test results \n",
    "    x_test = torch.linspace(r1,r2,200).view(-1,1).to(device)\n",
    "    u_true = target(x_test)\n",
    "    u_model_cpu = model(x_test).cpu().detach()\n",
    "    \n",
    "    w = model.fc1.weight.data.squeeze()\n",
    "    b = model.fc1.bias.data.squeeze()\n",
    "    x_model_pt = (-b/w).view(-1,1)\n",
    "    u_model_pt = model(x_model_pt).cpu().detach()\n",
    "    plt.figure(dpi = 200)\n",
    "    plt.plot(x_test.cpu(),u_true.cpu(),label = \"true\")\n",
    "    plt.plot(x_model_pt.cpu(),u_model_pt,'.',label = \"nn function\",markersize=3)\n",
    "    plt.plot(x_model_pt.cpu(),torch.ones(u_model_pt.size()) * 1.05* min(u_true.cpu()),'.',label = \"nodes\",markersize=4)\n",
    "#     plt.plot(x_model_pt,u_model_pt,'.r')\n",
    "    plt.xlim(r1,r2) \n",
    "    if name!=None: \n",
    "        plt.title(name)\n",
    "    plt.legend()\n",
    "    plt.show()"
   ]
  },
  {
   "cell_type": "markdown",
   "metadata": {},
   "source": [
    "## OGA"
   ]
  },
  {
   "cell_type": "code",
   "execution_count": 9,
   "metadata": {},
   "outputs": [],
   "source": [
    "# relu dictionary\n",
    "def relu_dict(x_l,x_r,N):\n",
    "    \"\"\"generate relu dictionary parameters \n",
    "    \n",
    "    Parameters\n",
    "    ----------\n",
    "    x_l: float \n",
    "    x_r: float\n",
    "    N: int \n",
    "        number of degrbuhee of freedoms\n",
    "        \n",
    "    Returns\n",
    "    torch tensor\n",
    "        containing relu dictionary parameters, corresponds to nodal points\n",
    "        \n",
    "    \"\"\"\n",
    "    # w = 1 \n",
    "    relu_dict_parameters = torch.zeros((N,2)).to(device)\n",
    "    relu_dict_parameters[:N,0] = torch.ones(N)[:]\n",
    "    relu_dict_parameters[:N,1] = torch.linspace(x_l,x_r,N+1)[:-1] # relu(x-bi)\n",
    "\n",
    "\n",
    "    # relu_dict_parameters[N:,0] = -torch.ones(N)[:]\n",
    "    # relu_dict_parameters[N:,1] = torch.linspace(x_l,x_r,N+1)[1:] # relu(x-bi)\n",
    "    \n",
    "    return relu_dict_parameters\n",
    "\n",
    "\n",
    "def OGAL2FittingReLU1D(my_model,target,N,num_epochs,plot_freq = 10,Nx = 1024,order =5, k = 1, solver = 'direct'): \n",
    "    \"\"\" Orthogonal greedy algorithm using 1D ReLU dictionary over [-pi,pi]\n",
    "    Parameters\n",
    "    ----------\n",
    "    my_model: \n",
    "        nn model \n",
    "    target: \n",
    "        target function\n",
    "    num_epochs: int \n",
    "        number of training epochs \n",
    "    integration_intervals: int \n",
    "        number of subintervals for piecewise numerical quadrature \n",
    "\n",
    "    Returns\n",
    "    -------\n",
    "    err: tensor \n",
    "        rank 1 torch tensor to record the L2 error history  \n",
    "    model: \n",
    "        trained nn model \n",
    "    \"\"\"\n",
    "\n",
    "    weights, integration_points = PiecewiseGQ1D_weights_points(x_l= -pi,x_r= pi, Nx = Nx,order =order)\n",
    "\n",
    "    err = torch.zeros(num_epochs+1)\n",
    "    if my_model == None: \n",
    "        func_values = target(integration_points)\n",
    "        num_neuron = 0\n",
    "        list_a = []\n",
    "        list_b = []\n",
    "        list_w = []\n",
    "    else: \n",
    "        func_values = target(integration_points) - my_model(integration_points).detach()\n",
    "        bias = my_model.fc1.bias.detach().data\n",
    "        weights = my_model.fc1.weight.detach().data\n",
    "        num_neuron = int(bias.size(0))\n",
    "        list_a = list(my_model.fc2.weight.detach().data)\n",
    "        list_b = list(bias)\n",
    "        list_w = list(weights)\n",
    "        \n",
    "    func_values_sqrd = func_values*func_values\n",
    "    err[0]= torch.sum(func_values_sqrd*weights)**0.5\n",
    "    start_time = time.time()\n",
    "    \n",
    "    solver = \"direct\"\n",
    "    print(\"using linear solver: \",solver)\n",
    "    relu_dict_parameters = relu_dict(-pi,pi,N).to(device) \n",
    "    for i in range(num_epochs): \n",
    "        print('epoch: ',i+1)\n",
    "        if num_neuron == 0: \n",
    "            func_values = target(integration_points)\n",
    "        else: \n",
    "            func_values = target(integration_points) - my_model(integration_points).detach()\n",
    "\n",
    "        weight_func_values = func_values*weights\n",
    "\n",
    "#         basis_values = F.relu(integration_points - bi).T # uses broadcasting\n",
    "        basis_values = (F.relu(relu_dict_parameters[:,0] *integration_points - relu_dict_parameters[:,1])**k).T # uses broadcasting\n",
    "        \n",
    "        output = torch.abs(torch.matmul(basis_values,weight_func_values)) # \n",
    "\n",
    "        neuron_index = torch.argmax(output.flatten())\n",
    "        \n",
    "        list_w.append(relu_dict_parameters[neuron_index,0])\n",
    "        list_b.append(-relu_dict_parameters[neuron_index,1])\n",
    "        num_neuron += 1\n",
    "        my_model = model(1,num_neuron,1,k).to(device)\n",
    "        my_model.fc1.weight.data[:,0] = torch.tensor(list_w)[:]\n",
    "        my_model.fc1.bias.data[:] = torch.tensor(list_b)[:]\n",
    "#         sol = minimize_linear_layer(my_model,target,solver,Nx,order)\n",
    "        sol = minimize_linear_layer_explicit_assemble(my_model,target,weights, integration_points,solver=solver)\n",
    "        my_model.fc2.weight.data[0,:] = sol[:]\n",
    "        if (i+1)%plot_freq == 0: \n",
    "            x_test = torch.linspace(-pi,pi,200).view(-1,1).to(device)\n",
    "            u_true = target(x_test)\n",
    "            plot_solution_modified(-pi,pi,my_model,x_test,u_true)\n",
    "        func_values = target(integration_points) - my_model(integration_points).detach()\n",
    "        func_values_sqrd = func_values*func_values\n",
    "        err[i+1]= torch.sum(func_values_sqrd*weights)**0.5\n",
    "    print(\"time taken: \",time.time() - start_time)\n",
    "    return err, my_model\n",
    "\n",
    "\n",
    "\n",
    "##\n",
    "\n",
    "# relu dictionary\n",
    "def relu_dict_MC(x_l,x_r,N):\n",
    "    \"\"\"generate relu dictionary parameters \n",
    "    \n",
    "    Parameters\n",
    "    ----------\n",
    "    x_l: float \n",
    "    x_r: float\n",
    "    N: int \n",
    "        number of degree of freedoms\n",
    "        \n",
    "    Returns\n",
    "    torch tensor\n",
    "        containing relu dictionary parameters, corresponds to nodal points\n",
    "        \n",
    "    \"\"\"\n",
    "    # w = 1 \n",
    "    relu_dict_parameters = torch.zeros((N,2)).to(device)\n",
    "    relu_dict_parameters[:N,0] = torch.ones(N)[:]\n",
    "    relu_dict_parameters[:N,1] = torch.rand(N)*(x_r-x_l) + x_l # relu(x-bi) \n",
    "    # torch.linspace(x_l,x_r,N+1)[:-1] # relu(x-bi)\n",
    "    return relu_dict_parameters\n",
    "\n",
    "def generate_relu_dict4plusD_sphere(dim, s,N0): # \n",
    "    samples = torch.randn(s*N0,dim +1) \n",
    "    samples = samples/samples.norm(dim=1,keepdim=True)  \n",
    "    Wb = samples \n",
    "    return Wb \n",
    "\n",
    "def generate_relu_dict_1D_semicircle(s,N0):\n",
    "    theta = (torch.rand(s*N0) - 0.5) * torch.pi  # [-π/2, π/2]\n",
    "    # theta = (torch.linspace(0,1,s*N0+1)- 0.5)* torch.pi  # [-π/2, π/2]\n",
    "    Wb = torch.stack([torch.cos(theta), torch.sin(theta)], dim=1)\n",
    "    return Wb\n",
    "\n",
    "def OGAL2FittingReLU1D_MC(my_model,target,N0,num_epochs,plot_freq = 10,Nx = 1024, order = 3, k = 1, solver = 'direct'): \n",
    "    \"\"\" Orthogonal greedy algorithm using 1D ReLU dictionary over [-pi,pi]\n",
    "    Parameters\n",
    "    ----------\n",
    "    my_model: \n",
    "        nn model \n",
    "    target: \n",
    "        target function\n",
    "    num_epochs: int \n",
    "        number of training epochs \n",
    "    integration_intervals: int \n",
    "        number of subintervals for piecewise numerical quadrature \n",
    "\n",
    "    Returns\n",
    "    -------\n",
    "    err: tensor \n",
    "        rank 1 torch tensor to record the L2 error history  \n",
    "    model: \n",
    "        trained nn model \n",
    "    \"\"\"\n",
    "    x_l = -0.5 \n",
    "    x_r = 0.5 \n",
    "    weights, integration_points = PiecewiseGQ1D_weights_points(x_l= x_l ,x_r= x_r,Nx = Nx, order = order)\n",
    "\n",
    "    err = torch.zeros(num_epochs+1)\n",
    "    if my_model == None: \n",
    "        func_values = target(integration_points)\n",
    "        num_neuron = 0\n",
    "        list_a = []\n",
    "        list_b = []\n",
    "        list_w = []\n",
    "    else: \n",
    "        func_values = target(integration_points) - my_model(integration_points).detach()\n",
    "        bias = my_model.fc1.bias.detach().data\n",
    "        weights = my_model.fc1.weight.detach().data\n",
    "        num_neuron = int(bias.size(0))\n",
    "        list_a = list(my_model.fc2.weight.detach().data)\n",
    "        list_b = list(bias)\n",
    "        list_w = list(weights)\n",
    "        \n",
    "    func_values_sqrd = func_values*func_values\n",
    "    err[0]= torch.sum(func_values_sqrd*weights)**0.5\n",
    "    start_time = time.time()\n",
    "    \n",
    "    for i in range(num_epochs): \n",
    "        print('epoch ',i + 1 )\n",
    "        # relu_dict_parameters = relu_dict_MC(-pi,pi,N0).to(device)\n",
    "#         relu_dict_parameters = generate_relu_dict4plusD_sphere(1,1, N0).to(device) \n",
    "        relu_dict_parameters = generate_relu_dict_1D_semicircle(1,N0).to(device)\n",
    "        if num_neuron == 0: \n",
    "            func_values = target(integration_points)\n",
    "        else: \n",
    "            func_values = target(integration_points) - my_model(integration_points).detach()\n",
    "\n",
    "        weight_func_values = func_values*weights\n",
    "\n",
    "#         basis_values = F.relu(integration_points - bi).T # uses broadcasting\n",
    "        basis_values = (F.relu(relu_dict_parameters[:,0] *integration_points - relu_dict_parameters[:,1])**k).T # uses broadcasting\n",
    "        \n",
    "        output = torch.abs(torch.matmul(basis_values,weight_func_values)) # \n",
    "\n",
    "        neuron_index = torch.argmax(output.flatten())\n",
    "        \n",
    "        list_w.append(relu_dict_parameters[neuron_index,0])\n",
    "        list_b.append(-relu_dict_parameters[neuron_index,1])\n",
    "        num_neuron += 1\n",
    "        my_model = model(1,num_neuron,1,k).to(device)\n",
    "        my_model.fc1.weight.data[:,0] = torch.tensor(list_w)[:]\n",
    "        my_model.fc1.bias.data[:] = torch.tensor(list_b)[:]\n",
    "#         sol = minimize_linear_layer(my_model,target,solver, Nx, order)\n",
    "        sol = minimize_linear_layer_explicit_assemble(my_model,target,weights, integration_points,solver=solver)\n",
    "        my_model.fc2.weight.data[0,:] = sol[:]\n",
    "        if (i+1)%plot_freq == 0: \n",
    "            x_test = torch.linspace(x_l,x_r,200).view(-1,1).to(device)\n",
    "            u_true = target(x_test)\n",
    "            plot_solution_modified(x_l,x_r,my_model,x_test,u_true)\n",
    "        func_values = target(integration_points) - my_model(integration_points).detach()\n",
    "        func_values_sqrd = func_values*func_values\n",
    "        err[i+1]= torch.sum(func_values_sqrd*weights)**0.5\n",
    "    # print(\"time taken: \",time.time() - start_time)\n",
    "    return err, my_model\n",
    "\n",
    "# relu dictionary\n"
   ]
  },
  {
   "cell_type": "code",
   "execution_count": 11,
   "metadata": {},
   "outputs": [],
   "source": [
    "def show_convergence_order(err_l2,exponent,dict_size, filename,write2file = False):\n",
    "    \n",
    "    if write2file:\n",
    "        file_mode = \"a\" if os.path.exists(filename) else \"w\"\n",
    "        f_write = open(filename, file_mode)\n",
    "    \n",
    "    neuron_nums = [2**j for j in range(2,exponent+1)]\n",
    "    err_list = [err_l2[i] for i in neuron_nums ]\n",
    "#     err_list2 = [err_h10[i] for i in neuron_nums ] \n",
    "    # f_write.write('M:{}, relu {} \\n'.format(M,k))\n",
    "    if write2file:\n",
    "        f_write.write('dictionary size: {}\\n'.format(dict_size))\n",
    "        f_write.write(\"neuron num \\t\\t error \\t\\t order \\t\\t h10 error \\\\ order \\n\")\n",
    "    print(\"neuron num \\t\\t error \\t\\t order\")\n",
    "    for i, item in enumerate(err_list):\n",
    "        if i == 0: \n",
    "            # print(neuron_nums[i], end = \"\\t\\t\")\n",
    "            # print(item, end = \"\\t\\t\")\n",
    "            \n",
    "            # print(\"*\")\n",
    "            print(\"{} \\t\\t {:.6f} \\t\\t *  \\n\".format(neuron_nums[i],item ) )\n",
    "            if write2file: \n",
    "                f_write.write(\"{} \\t\\t {} \\t\\t * \\t\\t \\n\".format(neuron_nums[i],item ))\n",
    "        else: \n",
    "            # print(neuron_nums[i], end = \"\\t\\t\")\n",
    "            # print(item, end = \"\\t\\t\") \n",
    "            # print(np.log(err_list[i-1]/err_list[i])/np.log(2))\n",
    "            print(\"{} \\t\\t {:.6f} \\t\\t {:.6f} \\n\".format(neuron_nums[i],item,np.log(err_list[i-1]/err_list[i])/np.log(2) ) )\n",
    "            if write2file: \n",
    "                f_write.write(\"{} \\t\\t {} \\t\\t {} \\n\".format(neuron_nums[i],item,np.log(err_list[i-1]/err_list[i])/np.log(2) ))\n",
    "    if write2file:     \n",
    "        f_write.write(\"\\n\")\n",
    "        f_write.close()\n",
    "\n",
    "def show_convergence_order_latex(err_l2,exponent,k=1,d=1): \n",
    "    neuron_nums = [2**j for j in range(2,exponent+1)]\n",
    "    err_list = [err_l2[i] for i in neuron_nums ]\n",
    "#     err_list2 = [err_h10[i] for i in neuron_nums ] \n",
    "    # f_write.write('M:{}, relu {} \\n'.format(M,k))\n",
    "    # f_write.write('randomized dictionary size: {}\\n'.format(N))\n",
    "    # f_write.write(\"neuron num \\t\\t error \\t\\t order \\t\\t h10 error \\\\ order \\n\")\n",
    "    l2_order = -1/2-(2*k + 1)/(2*d)\n",
    "#     h10_order = -1/2-(2*(k-1) + 1)/(2*d)\n",
    "#     print(\"neuron num  & \\t $\\|u-u_n \\|_{L^2}$ & \\t order $O(n^{{{}})$ & \\t $ | u -u_n |_{H^1}$ & \\t order $O(n^{{{}})$ \\\\\\ \\hline \\hline \".format(l2_order,h10_order))\n",
    "    print(\"neuron num  & \\t $\\\\|u-u_n \\\\|_{{L^2}}$ & \\t order $O(n^{{{:.2f}}})$  \\\\\\\\ \\\\hline \\\\hline \".format(l2_order))\n",
    "    for i, item in enumerate(err_list):\n",
    "        if i == 0: \n",
    "            # print(neuron_nums[i], end = \"\\t\\t\")\n",
    "            # print(item, end = \"\\t\\t\")\n",
    "\n",
    "            # print(\"*\")\n",
    "            print(\"{} \\t\\t & {:.6f} &\\t\\t *  \\\\\\ \\hline  \\n\".format(neuron_nums[i],item) )   \n",
    "            # f_write.write(\"{} \\t\\t {} \\t\\t * \\t\\t {} \\t\\t * \\n\".format(neuron_nums[i],item, err_list2[i] ))\n",
    "        else: \n",
    "            # print(neuron_nums[i], end = \"\\t\\t\")\n",
    "            # print(item, end = \"\\t\\t\") \n",
    "            # print(np.log(err_list[i-1]/err_list[i])/np.log(2))\n",
    "            print(\"{} \\t\\t &  {:.3e} &  \\t\\t {:.2f} \\\\\\ \\hline  \\n\".format(neuron_nums[i],item,np.log(err_list[i-1]/err_list[i])/np.log(2) ) )\n",
    "            # f_write.write(\"{} \\t\\t {} \\t\\t {} \\t\\t {} \\t\\t {} \\n\".format(neuron_nums[i],item,np.log(err_list[i-1]/err_list[i])/np.log(2),err_list2[i] , np.log(err_list2[i-1]/err_list2[i])/np.log(2) ))\n",
    "    # f_write.write(\"\\n\")\n",
    "    # f_write.close()"
   ]
  },
  {
   "cell_type": "markdown",
   "metadata": {},
   "source": [
    "## randomized "
   ]
  },
  {
   "cell_type": "code",
   "execution_count": 29,
   "metadata": {},
   "outputs": [
    {
     "name": "stdout",
     "output_type": "stream",
     "text": [
      "epoch  1\n",
      "assembling the matrix time taken:  0.00022125244140625\n",
      "solving Ax = b time taken:  0.0002319812774658203\n",
      "epoch  2\n",
      "assembling the matrix time taken:  0.00021648406982421875\n",
      "solving Ax = b time taken:  0.00017142295837402344\n",
      "epoch  3\n",
      "assembling the matrix time taken:  0.0001857280731201172\n",
      "solving Ax = b time taken:  0.0001423358917236328\n",
      "epoch  4\n",
      "assembling the matrix time taken:  0.00019931793212890625\n",
      "solving Ax = b time taken:  0.00013947486877441406\n",
      "epoch  5\n",
      "assembling the matrix time taken:  0.00018358230590820312\n",
      "solving Ax = b time taken:  0.0001327991485595703\n",
      "epoch  6\n",
      "assembling the matrix time taken:  0.00018286705017089844\n",
      "solving Ax = b time taken:  0.00013065338134765625\n",
      "epoch  7\n",
      "assembling the matrix time taken:  0.0001919269561767578\n",
      "solving Ax = b time taken:  0.00013709068298339844\n",
      "epoch  8\n",
      "assembling the matrix time taken:  0.00017976760864257812\n",
      "solving Ax = b time taken:  0.00012922286987304688\n",
      "epoch  9\n",
      "assembling the matrix time taken:  0.00019049644470214844\n",
      "solving Ax = b time taken:  0.00016570091247558594\n",
      "epoch  10\n",
      "assembling the matrix time taken:  0.0001888275146484375\n",
      "solving Ax = b time taken:  0.0001423358917236328\n",
      "epoch  11\n",
      "assembling the matrix time taken:  0.00018787384033203125\n",
      "solving Ax = b time taken:  0.0001423358917236328\n",
      "epoch  12\n",
      "assembling the matrix time taken:  0.00018978118896484375\n",
      "solving Ax = b time taken:  0.00015234947204589844\n",
      "epoch  13\n",
      "assembling the matrix time taken:  0.0001876354217529297\n",
      "solving Ax = b time taken:  0.00013899803161621094\n",
      "epoch  14\n",
      "assembling the matrix time taken:  0.0001823902130126953\n",
      "solving Ax = b time taken:  0.00013637542724609375\n",
      "epoch  15\n",
      "assembling the matrix time taken:  0.0001919269561767578\n",
      "solving Ax = b time taken:  0.00015091896057128906\n",
      "epoch  16\n",
      "assembling the matrix time taken:  0.0001811981201171875\n",
      "solving Ax = b time taken:  0.00013637542724609375\n",
      "epoch  17\n",
      "assembling the matrix time taken:  0.0001819133758544922\n",
      "solving Ax = b time taken:  0.000179290771484375\n",
      "epoch  18\n",
      "assembling the matrix time taken:  0.00019311904907226562\n",
      "solving Ax = b time taken:  0.0001842975616455078\n",
      "epoch  19\n",
      "assembling the matrix time taken:  0.0001862049102783203\n",
      "solving Ax = b time taken:  0.00019216537475585938\n",
      "epoch  20\n",
      "assembling the matrix time taken:  0.00019288063049316406\n",
      "solving Ax = b time taken:  0.0001933574676513672\n",
      "epoch  21\n",
      "assembling the matrix time taken:  0.00018596649169921875\n",
      "solving Ax = b time taken:  0.000194549560546875\n",
      "epoch  22\n",
      "assembling the matrix time taken:  0.0001857280731201172\n",
      "solving Ax = b time taken:  0.0002009868621826172\n",
      "epoch  23\n",
      "assembling the matrix time taken:  0.00019240379333496094\n",
      "solving Ax = b time taken:  0.0002243518829345703\n",
      "epoch  24\n",
      "assembling the matrix time taken:  0.00019097328186035156\n",
      "solving Ax = b time taken:  0.00021505355834960938\n",
      "epoch  25\n",
      "assembling the matrix time taken:  0.00022530555725097656\n",
      "solving Ax = b time taken:  0.00023412704467773438\n",
      "epoch  26\n",
      "assembling the matrix time taken:  0.00020742416381835938\n",
      "solving Ax = b time taken:  0.0002319812774658203\n",
      "epoch  27\n",
      "assembling the matrix time taken:  0.0002560615539550781\n",
      "solving Ax = b time taken:  0.0002627372741699219\n",
      "epoch  28\n",
      "assembling the matrix time taken:  0.0002455711364746094\n",
      "solving Ax = b time taken:  0.0002551078796386719\n",
      "epoch  29\n",
      "assembling the matrix time taken:  0.0002579689025878906\n",
      "solving Ax = b time taken:  0.00026798248291015625\n",
      "epoch  30\n",
      "assembling the matrix time taken:  0.0002732276916503906\n",
      "solving Ax = b time taken:  0.0002694129943847656\n",
      "epoch  31\n",
      "assembling the matrix time taken:  0.0002486705780029297\n",
      "solving Ax = b time taken:  0.0002791881561279297\n",
      "epoch  32\n",
      "assembling the matrix time taken:  0.00027179718017578125\n",
      "solving Ax = b time taken:  0.0002830028533935547\n"
     ]
    },
    {
     "data": {
      "image/png": "[encoded data removed]",
      "text/plain": [
       "<Figure size 640x480 with 1 Axes>"
      ]
     },
     "metadata": {},
     "output_type": "display_data"
    },
    {
     "name": "stdout",
     "output_type": "stream",
     "text": [
      "neuron num \t\t error \t\t order\n",
      "4 \t\t 0.168855 \t\t *  \n",
      "\n",
      "8 \t\t 0.020581 \t\t 3.036402 \n",
      "\n",
      "16 \t\t 0.004665 \t\t 2.141239 \n",
      "\n",
      "32 \t\t 0.001195 \t\t 1.964985 \n",
      "\n",
      "neuron num  & \t $\\|u-u_n \\|_{L^2}$ & \t order $O(n^{-2.00})$  \\\\ \\hline \\hline \n",
      "4 \t\t & 0.168855 &\t\t *  \\\\ \\hline  \n",
      "\n",
      "8 \t\t &  2.058e-02 &  \t\t 3.04 \\\\ \\hline  \n",
      "\n",
      "16 \t\t &  4.665e-03 &  \t\t 2.14 \\\\ \\hline  \n",
      "\n",
      "32 \t\t &  1.195e-03 &  \t\t 1.96 \\\\ \\hline  \n",
      "\n"
     ]
    }
   ],
   "source": [
    "def target(x):\n",
    "    return torch.sin(2*pi * x)\n",
    "\n",
    "function_name = \"sine1d\" \n",
    "Nx = 2**10\n",
    "order = 3    \n",
    "filename_write = \"1DMCOGA-{}-order.txt\".format(function_name)\n",
    "f_write = open(filename_write, \"a\")\n",
    "f_write.write(\"\\n\")\n",
    "f_write.close() \n",
    "\n",
    "save = True  \n",
    "write2file = True \n",
    "\n",
    "for N in [2**11]: # 2**12,2**14\n",
    "    \n",
    "    f_write = open(filename_write, \"a\")\n",
    "    my_model = None \n",
    "    exponent = 5\n",
    "    num_epochs = 2**exponent\n",
    "    plot_freq = num_epochs \n",
    "    relu_k = 1 \n",
    "    err_QMC2, my_model = OGAL2FittingReLU1D_MC(None,target,N,num_epochs,plot_freq, Nx, order, k =relu_k, solver = \"direct\")\n",
    "\n",
    "    if save: \n",
    "        folder = 'data/'\n",
    "        filename = folder + 'err_OGA_1D_{}_neuron_{}_N_{}_randomized.pt'.format(function_name,num_epochs,N)\n",
    "        torch.save(err_QMC2,filename) \n",
    "        folder = 'data/'\n",
    "        filename = folder + 'model_OGA_1D_{}_neuron_{}_N_{}_randomized.pt'.format(function_name,num_epochs,N)\n",
    "        torch.save(my_model.state_dict(),filename)\n",
    "        \n",
    "    show_convergence_order(err_QMC2,exponent,N,filename_write,write2file = write2file)\n",
    "    show_convergence_order_latex(err_QMC2,exponent,k=relu_k,d=1)\n",
    "    "
   ]
  },
  {
   "cell_type": "code",
   "execution_count": null,
   "metadata": {},
   "outputs": [],
   "source": []
  },
  {
   "cell_type": "code",
   "execution_count": 70,
   "metadata": {},
   "outputs": [
    {
     "data": {
      "application/vnd.plotly.v1+json": {
       "config": {
        "plotlyServerURL": "https://plot.ly"
       },
       "data": [
        {
         "line": {
          "color": "red",
          "dash": "dash",
          "width": 1
         },
         "mode": "lines",
         "name": "Unit Circle",
         "type": "scatter",
         "x": [
          1,
          0.9999207274348142,
          0.9996829223075361,
          0.9992866223210104,
          0.9987318903066703,
          0.9980188142145753,
          0.9971475070994674,
          0.9961181071028467,
          0.99493077743107,
          0.9935857063294746,
          0.992083107052534,
          0.9904232178300463,
          0.9886063018293647,
          0.9866326471136735,
          0.9845025665963167,
          0.9822163979911878,
          0.9797745037591863,
          0.9771772710507515,
          0.9744251116444819,
          0.9715184618818493,
          0.9684577825980192,
          0.9652435590487878,
          0.9618763008336467,
          0.9583565418149885,
          0.954684840033466,
          0.9508617776195164,
          0.946887960701069,
          0.9427640193074448,
          0.93849060726947,
          0.9340684021158131,
          0.9294981049655668,
          0.9247804404170886,
          0.9199161564331194,
          0.9149060242221977,
          0.9097508381163878,
          0.9044514154453432,
          0.899008596406722,
          0.8934232439329785,
          0.8876962435545485,
          0.8818285032594538,
          0.8758209533493445,
          0.8696745462920044,
          0.8633902565703414,
          0.856969080527889,
          0.8504120362108399,
          0.8437201632066402,
          0.8368945224791678,
          0.8299361962005216,
          0.8228462875794489,
          0.815625920686436,
          0.8082762402754935,
          0.8007984116026603,
          0.7931936202412582,
          0.7854630718939251,
          0.7776079922014563,
          0.7696296265484861,
          0.761529239866037,
          0.7533081164309715,
          0.7449675596623766,
          0.7365088919149123,
          0.7279334542691597,
          0.7192426063189981,
          0.7104377259560487,
          0.7015202091512169,
          0.692491469733367,
          0.6833529391651669,
          0.6741060663161371,
          0.6647523172329389,
          0.6552931749069403,
          0.6457301390390944,
          0.6360647258021697,
          0.626298467600368,
          0.616432912826369,
          0.6064696256158407,
          0.5964101855994527,
          0.5862561876524338,
          0.5760092416417125,
          0.56567097217068,
          0.5552430183216172,
          0.5447270333958267,
          0.5341246846515094,
          0.5234376530394296,
          0.5126676329364072,
          0.5018163318766836,
          0.4908854702811999,
          0.4798767811848332,
          0.468792009961631,
          0.4576329140480923,
          0.4464012626645338,
          0.43509883653458786,
          0.42372742760287924,
          0.4122888387509191,
          0.4007848835112687,
          0.3892173857800108,
          0.37758817952758156,
          0.3658991085080025,
          0.3541520259665621,
          0.3423487943459936,
          0.3304912849911928,
          0.31858137785252655,
          0.3066209611877746,
          0.2946119312627564,
          0.2825561920506874,
          0.2704556549303122,
          0.25831223838286654,
          0.2461278676879097,
          0.2339044746180824,
          0.2216439971328321,
          0.20934837907116027,
          0.19701956984343574,
          0.18465952412232445,
          0.17227020153288702,
          0.15985356634188821,
          0.14741158714637362,
          0.13494623656155638,
          0.12245949090807033,
          0.10995332989863325,
          0.09742973632417239,
          0.08489069573946416,
          0.07233819614833235,
          0.05977422768846161,
          0.04720078231586891,
          0.034619853489090295,
          0.02203343585312703,
          0.009443524923203677,
          -0.00314788323160957,
          -0.01573879230486569,
          -0.02832720606924372,
          -0.04091112869304266,
          -0.053488565056609316,
          -0.06605752106865548,
          -0.07861600398241199,
          -0.0911620227115676,
          -0.10369358814594769,
          -0.11620871346687627,
          -0.12870541446217815,
          -0.14118170984076459,
          -0.15363562154675803,
          -0.16606517507310384,
          -0.1784683997746173,
          -0.1908433291804215,
          -0.20318800130572,
          -0.21550045896286182,
          -0.22777875007164222,
          -0.2400209279687964,
          -0.2522250517166341,
          -0.2643891864107642,
          -0.27651140348686615,
          -0.2885897810264529,
          -0.3006224040615831,
          -0.3126073648784687,
          -0.3245427633199343,
          -0.3364267070866785,
          -0.3482573120372869,
          -0.36003270248695574,
          -0.3717510115048705,
          -0.3834103812102007,
          -0.3950089630666561,
          -0.40654491817556393,
          -0.41801641756741775,
          -0.42942164249185133,
          -0.4407587847059912,
          -0.4520260467611475,
          -0.46322164228778867,
          -0.4743437962787628,
          -0.4853907453707145,
          -0.49636073812366033,
          -0.5072520352986695,
          -0.5180629101336104,
          -0.5287916486169236,
          -0.5394365497593675,
          -0.5499959258637029,
          -0.5604681027922681,
          -0.570851420232407,
          -0.5811442319597027,
          -0.5913449060989773,
          -0.6014518253830198,
          -0.6114633874089948,
          -0.621378004892496,
          -0.6311941059192011,
          -0.6409101341940935,
          -0.6505245492882039,
          -0.6600358268828372,
          -0.6694424590112475,
          -0.6787429542977176,
          -0.68793583819401,
          -0.6970196532131485,
          -0.7059929591604966,
          -0.7148543333620937,
          -0.7236023708902108,
          -0.732235684786098,
          -0.7407529062798781,
          -0.749152685007559,
          -0.7574336892251271,
          -0.7655946060196892,
          -0.7736341415176283,
          -0.7815510210897404,
          -0.7893439895533217,
          -0.7970118113711714,
          -0.8045532708474797,
          -0.8119671723205705,
          -0.8192523403524682,
          -0.8264076199152578,
          -0.8334318765742076,
          -0.8403239966676301,
          -0.8470828874834466,
          -0.8537074774324318,
          -0.860196716218108,
          -0.8665495750032662,
          -0.8727650465730824,
          -0.8788421454948057,
          -0.8847799082739953,
          -0.8905773935072777,
          -0.8962336820316006,
          -0.9017478770699623,
          -0.9071191043735916,
          -0.9123465123605555,
          -0.9174292722507732,
          -0.9223665781974151,
          -0.9271576474146663,
          -0.9318017203018334,
          -0.9362980605637745,
          -0.940645955327637,
          -0.9448447152558787,
          -0.9488936746555591,
          -0.9527921915838825,
          -0.9565396479499741,
          -0.9601354496128762,
          -0.9635790264757449,
          -0.9668698325762377,
          -0.9700073461730725,
          -0.9729910698287467,
          -0.9758205304884047,
          -0.9784952795548371,
          -0.9810148929596045,
          -0.9833789712302712,
          -0.9855871395537394,
          -0.9876390478356747,
          -0.9895343707560108,
          -0.9912728078205282,
          -0.9928540834084959,
          -0.9942779468163697,
          -0.9955441722975399,
          -0.9966525590981226,
          -0.9976029314887879,
          -0.9983951387926212,
          -0.9990290554090123,
          -0.9995045808335686,
          -0.9998216396740497,
          -0.9999801816623203,
          -0.9999801816623203,
          -0.9998216396740497,
          -0.9995045808335686,
          -0.9990290554090123,
          -0.9983951387926212,
          -0.9976029314887879,
          -0.9966525590981226,
          -0.99554417229754,
          -0.9942779468163697,
          -0.992854083408496,
          -0.9912728078205283,
          -0.9895343707560109,
          -0.9876390478356748,
          -0.9855871395537396,
          -0.9833789712302713,
          -0.9810148929596045,
          -0.9784952795548372,
          -0.9758205304884048,
          -0.972991069828747,
          -0.9700073461730725,
          -0.9668698325762379,
          -0.9635790264757451,
          -0.9601354496128763,
          -0.9565396479499744,
          -0.9527921915838826,
          -0.9488936746555593,
          -0.9448447152558788,
          -0.9406459553276372,
          -0.9362980605637747,
          -0.9318017203018334,
          -0.9271576474146666,
          -0.9223665781974153,
          -0.9174292722507734,
          -0.9123465123605556,
          -0.9071191043735918,
          -0.9017478770699625,
          -0.8962336820316007,
          -0.890577393507278,
          -0.8847799082739957,
          -0.878842145494806,
          -0.8727650465730825,
          -0.8665495750032666,
          -0.8601967162181083,
          -0.8537074774324319,
          -0.8470828874834471,
          -0.8403239966676305,
          -0.8334318765742079,
          -0.8264076199152579,
          -0.8192523403524685,
          -0.8119671723205708,
          -0.8045532708474799,
          -0.7970118113711717,
          -0.7893439895533222,
          -0.7815510210897408,
          -0.7736341415176284,
          -0.7655946060196896,
          -0.7574336892251275,
          -0.7491526850075592,
          -0.7407529062798784,
          -0.7322356847860985,
          -0.7236023708902113,
          -0.7148543333620938,
          -0.7059929591604972,
          -0.6970196532131491,
          -0.6879358381940103,
          -0.6787429542977181,
          -0.6694424590112481,
          -0.6600358268828378,
          -0.6505245492882045,
          -0.640910134194094,
          -0.6311941059192013,
          -0.6213780048924966,
          -0.6114633874089954,
          -0.6014518253830201,
          -0.5913449060989778,
          -0.5811442319597029,
          -0.570851420232408,
          -0.5604681027922688,
          -0.5499959258637032,
          -0.5394365497593685,
          -0.5287916486169243,
          -0.5180629101336107,
          -0.5072520352986701,
          -0.49636073812366105,
          -0.4853907453707148,
          -0.4743437962787634,
          -0.4632216422877893,
          -0.45202604676114766,
          -0.44075878470599184,
          -0.4294216424918515,
          -0.4180164175674188,
          -0.40654491817556454,
          -0.3950089630666563,
          -0.3834103812102015,
          -0.3717510115048711,
          -0.3600327024869559,
          -0.3482573120372877,
          -0.33642670708667893,
          -0.32454276331993454,
          -0.3126073648784693,
          -0.30062240406158347,
          -0.2885897810264531,
          -0.2765114034868668,
          -0.2643891864107646,
          -0.25222505171663495,
          -0.24002092796879707,
          -0.22777875007164244,
          -0.2155004589628627,
          -0.2031880013057207,
          -0.19084332918042174,
          -0.1784683997746182,
          -0.1660651750731043,
          -0.15363562154675828,
          -0.14118170984076528,
          -0.12870541446217862,
          -0.1162087134668765,
          -0.10369358814594837,
          -0.09116202271156805,
          -0.07861600398241289,
          -0.06605752106865616,
          -0.05348856505660956,
          -0.04091112869304357,
          -0.02832720606924441,
          -0.015738792304865933,
          -0.003147883231610481,
          0.00944352492320321,
          0.022033435853126785,
          0.03461985348908961,
          0.047200782315868446,
          0.05977422768846137,
          0.07233819614833169,
          0.0848906957394637,
          0.09742973632417148,
          0.10995332989863257,
          0.1224594909080701,
          0.13494623656155547,
          0.14741158714637292,
          0.159853566341888,
          0.17227020153288614,
          0.18465952412232398,
          0.19701956984343552,
          0.20934837907115958,
          0.22164399713283162,
          0.23390447461808217,
          0.246127867687909,
          0.2583122383828661,
          0.2704556549303113,
          0.28255619205068677,
          0.2946119312627562,
          0.3066209611877737,
          0.31858137785252594,
          0.33049128499119257,
          0.34234879434599275,
          0.35415202596656165,
          0.36589910850800234,
          0.37758817952758095,
          0.38921738578001036,
          0.40078488351126845,
          0.4122888387509185,
          0.42372742760287885,
          0.43509883653458703,
          0.44640126266453317,
          0.45763291404809214,
          0.46879200996163023,
          0.4798767811848325,
          0.4908854702811996,
          0.5018163318766827,
          0.5126676329364066,
          0.5234376530394294,
          0.5341246846515088,
          0.5447270333958262,
          0.555243018321617,
          0.5656709721706793,
          0.5760092416417122,
          0.586256187652433,
          0.5964101855994521,
          0.6064696256158404,
          0.6164329128263683,
          0.6262984676003674,
          0.6360647258021694,
          0.6457301390390937,
          0.6552931749069398,
          0.6647523172329387,
          0.6741060663161365,
          0.6833529391651665,
          0.6924914697333668,
          0.7015202091512164,
          0.7104377259560486,
          0.7192426063189974,
          0.7279334542691592,
          0.7365088919149121,
          0.744967559662376,
          0.7533081164309712,
          0.7615292398660368,
          0.7696296265484857,
          0.777607992201456,
          0.7854630718939248,
          0.7931936202412577,
          0.80079841160266,
          0.8082762402754935,
          0.8156259206864356,
          0.8228462875794487,
          0.8299361962005212,
          0.8368945224791675,
          0.84372016320664,
          0.8504120362108394,
          0.8569690805278887,
          0.8633902565703413,
          0.8696745462920039,
          0.8758209533493443,
          0.8818285032594537,
          0.8876962435545481,
          0.8934232439329782,
          0.899008596406722,
          0.9044514154453429,
          0.9097508381163877,
          0.9149060242221972,
          0.9199161564331192,
          0.9247804404170885,
          0.9294981049655665,
          0.9340684021158129,
          0.9384906072694699,
          0.9427640193074446,
          0.9468879607010687,
          0.9508617776195164,
          0.9546848400334658,
          0.9583565418149884,
          0.9618763008336466,
          0.9652435590487877,
          0.9684577825980192,
          0.9715184618818491,
          0.9744251116444818,
          0.9771772710507515,
          0.9797745037591861,
          0.9822163979911877,
          0.9845025665963166,
          0.9866326471136733,
          0.9886063018293646,
          0.9904232178300463,
          0.9920831070525339,
          0.9935857063294745,
          0.9949307774310698,
          0.9961181071028467,
          0.9971475070994673,
          0.9980188142145753,
          0.9987318903066703,
          0.9992866223210104,
          0.9996829223075361,
          0.9999207274348142,
          1
         ],
         "y": [
          0,
          0.01259122099845663,
          0.025180445720138524,
          0.037765678204770906,
          0.05034492312502874,
          0.06291618610288617,
          0.07547747402581544,
          0.08802679536278515,
          0.1005621604800079,
          0.11308158195638689,
          0.125583074898612,
          0.13806465725585482,
          0.15052435013401333,
          0.1629601781094557,
          0.1753701695422144,
          0.1877523568885797,
          0.20010477701304455,
          0.2124254714995499,
          0.2247124869619821,
          0.23696387535387278,
          0.24917769427725217,
          0.26135200729060665,
          0.27348488421589234,
          0.2855744014445554,
          0.2976186422425107,
          0.3096156970540306,
          0.32156366380449597,
          0.33346064820196075,
          0.34530476403748256,
          0.35709413348417207,
          0.3688268873949134,
          0.3805011655987083,
          0.39211511719559666,
          0.40366690085010865,
          0.41515468508319875,
          0.42657664856261784,
          0.43793098039167716,
          0.4492158803963565,
          0.4604295594107135,
          0.4715702395605467,
          0.48263615454526954,
          0.4936255499179479,
          0.5045366833634598,
          0.5153678249747305,
          0.5261172575270014,
          0.5367832767500869,
          0.5473641915985787,
          0.557858324519953,
          0.5682640117205373,
          0.5785796034292979,
          0.5888034641594024,
          0.5989339729675186,
          0.6089695237108067,
          0.6189085253015657,
          0.6287494019594928,
          0.6384905934615152,
          0.6481305553891561,
          0.6576677593733951,
          0.667100693336983,
          0.6764278617341748,
          0.685647785787841,
          0.6947590037239207,
          0.7037600710031781,
          0.7126495605502278,
          0.721426062979791,
          0.7300881868201454,
          0.738634558733738,
          0.747063823734919,
          0.7553746454047702,
          0.7635657061029861,
          0.7716357071767809,
          0.7795833691667818,
          0.7874074320098827,
          0.7951066552390201,
          0.8026798181798434,
          0.8101257201442467,
          0.8174431806207323,
          0.8246310394615751,
          0.831688157066758,
          0.8386134145646502,
          0.8454057139893991,
          0.8520639784550065,
          0.8585871523260649,
          0.8649742013851223,
          0.8712241129966533,
          0.8773358962676061,
          0.8833085822045057,
          0.8891412238670814,
          0.8948328965184003,
          0.9003826977714798,
          0.9057897477323569,
          0.9110531891395905,
          0.9161721875001766,
          0.9211459312218527,
          0.925973631741772,
          0.9306545236515261,
          0.935187864818497,
          0.9395729365035184,
          0.9438090434748282,
          0.9478955141182944,
          0.9518317005438962,
          0.9556169786884434,
          0.9592507484145191,
          0.9627324336056285,
          0.9660614822575389,
          0.9692373665657978,
          0.9722595830094136,
          0.9751276524306862,
          0.9778411201111752,
          0.9803995558437935,
          0.9828025540010144,
          0.9850497335991816,
          0.9871407383589128,
          0.9890752367615858,
          0.9908529221018992,
          0.992473512536499,
          0.9939367511286633,
          0.9952424058890388,
          0.9963902698124213,
          0.9973801609105755,
          0.998211922241088,
          0.9988854219322504,
          0.9994005532039664,
          0.9997572343846811,
          0.9999554089243304,
          0.9999950454033061,
          0.9998761375374373,
          0.9995987041789873,
          0.999162789313664,
          0.9985684620536465,
          0.9978158166266278,
          0.9969049723608752,
          0.9958360736663117,
          0.9946092900116199,
          0.9932248158973744,
          0.9916828708252043,
          0.989983699262992,
          0.9881275706061142,
          0.986114779134731,
          0.9839456439671286,
          0.9816205090091248,
          0.9791397428995449,
          0.9765037389517748,
          0.9737129150914043,
          0.9707677137899663,
          0.9676686019947848,
          0.9644160710549436,
          0.9610106366433847,
          0.9574528386751506,
          0.9537432412217841,
          0.9498824324218971,
          0.9458710243879241,
          0.941709653109075,
          0.9373989783505013,
          0.932939683548695,
          0.9283324757031317,
          0.9235780852641798,
          0.9186772660172914,
          0.9136307949634929,
          0.9084394721961955,
          0.9031041207743439,
          0.8976255865919252,
          0.8920047382438554,
          0.8862424668882687,
          0.8803396861052282,
          0.874297331751883,
          0.8681163618140917,
          0.8617977562545388,
          0.8553425168573667,
          0.8487516670693471,
          0.842026251837619,
          0.8351673374440167,
          0.8281760113360176,
          0.8210533819543306,
          0.8138005785571594,
          0.8064187510411646,
          0.7989090697591519,
          0.7912727253345192,
          0.7835109284724887,
          0.7756249097681562,
          0.767615919511385,
          0.7594852274885794,
          0.7512341227813666,
          0.7428639135622178,
          0.7343759268870451,
          0.7257715084848019,
          0.7170520225441264,
          0.7082188514970533,
          0.6992733957998378,
          0.6902170737109201,
          0.6810513210660664,
          0.6717775910507243,
          0.6623973539696282,
          0.6529120970136896,
          0.6433233240242087,
          0.633632555254449,
          0.6238413271286091,
          0.6139511919982283,
          0.6039637178960706,
          0.5938804882875189,
          0.5837031018195269,
          0.5734331720671587,
          0.5630723272777653,
          0.5526222101128354,
          0.5420844773875569,
          0.5314607998081387,
          0.5207528617069271,
          0.5099623607753652,
          0.49909100779482957,
          0.4881405263653954,
          0.4771126526325694,
          0.4660091350120299,
          0.45483173391242554,
          0.4435822214562705,
          0.4322623811989846,
          0.4208740078461167,
          0.4094189069688045,
          0.3978988947175108,
          0.3863157975340793,
          0.3746714518621632,
          0.36296770385606475,
          0.35120640908803813,
          0.33938943225409535,
          0.3275186468783687,
          0.31559593501607397,
          0.3036231869551174,
          0.29160230091640127,
          0.2795351827528692,
          0.26742374564734456,
          0.25526990980920183,
          0.24307560216992805,
          0.2308427560776185,
          0.2185733109904513,
          0.20626921216919736,
          0.19393241036880798,
          0.18156486152913387,
          0.1691685264648177,
          0.15674537055441798,
          0.144297363428809,
          0.13182647865890293,
          0.11933469344275147,
          0.10682398829206982,
          0.09429634671823804,
          0.08175375491782225,
          0.0691982014576742,
          0.05663167695965503,
          0.044056173785029115,
          0.03147368571858678,
          0.018886207652538477,
          0.006295735270236124,
          -0.006295735270235435,
          -0.018886207652538234,
          -0.03147368571858609,
          -0.04405617378502842,
          -0.056631676959654334,
          -0.06919820145767396,
          -0.08175375491782155,
          -0.09429634671823735,
          -0.10682398829206957,
          -0.11933469344275077,
          -0.13182647865890226,
          -0.14429736342880833,
          -0.15674537055441776,
          -0.16916852646481706,
          -0.1815648615291332,
          -0.1939324103688078,
          -0.20626921216919672,
          -0.21857331099045063,
          -0.23084275607761784,
          -0.24307560216992782,
          -0.2552699098092012,
          -0.26742374564734395,
          -0.279535182752869,
          -0.2916023009164006,
          -0.3036231869551168,
          -0.31559593501607336,
          -0.32751864687836846,
          -0.33938943225409474,
          -0.3512064090880375,
          -0.3629677038560645,
          -0.3746714518621626,
          -0.3863157975340787,
          -0.39789889471751017,
          -0.40941890696880434,
          -0.4208740078461161,
          -0.43226238119898397,
          -0.4435822214562703,
          -0.45483173391242493,
          -0.46600913501202934,
          -0.47711265263256886,
          -0.48814052636539523,
          -0.49909100779482896,
          -0.5099623607753646,
          -0.5207528617069269,
          -0.5314607998081381,
          -0.5420844773875564,
          -0.5526222101128349,
          -0.5630723272777651,
          -0.5734331720671582,
          -0.5837031018195264,
          -0.5938804882875187,
          -0.6039637178960701,
          -0.6139511919982279,
          -0.6238413271286085,
          -0.6336325552544487,
          -0.6433233240242081,
          -0.652912097013689,
          -0.6623973539696281,
          -0.6717775910507239,
          -0.6810513210660658,
          -0.6902170737109197,
          -0.6992733957998376,
          -0.7082188514970529,
          -0.7170520225441258,
          -0.7257715084848017,
          -0.7343759268870445,
          -0.7428639135622173,
          -0.751234122781366,
          -0.7594852274885789,
          -0.7676159195113845,
          -0.775624909768156,
          -0.7835109284724882,
          -0.7912727253345188,
          -0.7989090697591518,
          -0.8064187510411641,
          -0.8138005785571591,
          -0.82105338195433,
          -0.8281760113360173,
          -0.8351673374440166,
          -0.8420262518376184,
          -0.8487516670693468,
          -0.8553425168573665,
          -0.8617977562545384,
          -0.8681163618140914,
          -0.8742973317518828,
          -0.8803396861052278,
          -0.8862424668882684,
          -0.8920047382438553,
          -0.8976255865919248,
          -0.9031041207743438,
          -0.908439472196195,
          -0.9136307949634926,
          -0.9186772660172913,
          -0.9235780852641795,
          -0.9283324757031315,
          -0.9329396835486949,
          -0.9373989783505011,
          -0.9417096531090747,
          -0.9458710243879241,
          -0.9498824324218968,
          -0.953743241221784,
          -0.9574528386751505,
          -0.9610106366433845,
          -0.9644160710549435,
          -0.9676686019947845,
          -0.9707677137899661,
          -0.9737129150914042,
          -0.9765037389517746,
          -0.9791397428995446,
          -0.9816205090091248,
          -0.9839456439671285,
          -0.986114779134731,
          -0.9881275706061142,
          -0.9899836992629919,
          -0.9916828708252043,
          -0.9932248158973744,
          -0.9946092900116198,
          -0.9958360736663115,
          -0.9969049723608752,
          -0.9978158166266278,
          -0.9985684620536465,
          -0.999162789313664,
          -0.9995987041789873,
          -0.9998761375374373,
          -0.9999950454033061,
          -0.9999554089243304,
          -0.9997572343846811,
          -0.9994005532039664,
          -0.9988854219322505,
          -0.998211922241088,
          -0.9973801609105755,
          -0.9963902698124213,
          -0.9952424058890389,
          -0.9939367511286633,
          -0.9924735125364991,
          -0.9908529221018993,
          -0.9890752367615859,
          -0.9871407383589128,
          -0.9850497335991817,
          -0.9828025540010145,
          -0.9803995558437936,
          -0.9778411201111754,
          -0.9751276524306863,
          -0.9722595830094137,
          -0.9692373665657981,
          -0.966061482257539,
          -0.9627324336056288,
          -0.9592507484145193,
          -0.9556169786884434,
          -0.9518317005438964,
          -0.9478955141182946,
          -0.9438090434748283,
          -0.9395729365035187,
          -0.9351878648184972,
          -0.9306545236515262,
          -0.9259736317417723,
          -0.921145931221853,
          -0.9161721875001767,
          -0.9110531891395909,
          -0.9057897477323571,
          -0.9003826977714802,
          -0.8948328965184005,
          -0.8891412238670815,
          -0.8833085822045061,
          -0.8773358962676064,
          -0.8712241129966534,
          -0.8649742013851228,
          -0.8585871523260652,
          -0.8520639784550066,
          -0.8454057139893995,
          -0.8386134145646505,
          -0.8316881570667581,
          -0.8246310394615755,
          -0.8174431806207325,
          -0.8101257201442473,
          -0.8026798181798438,
          -0.7951066552390204,
          -0.7874074320098834,
          -0.7795833691667823,
          -0.7716357071767811,
          -0.7635657061029868,
          -0.7553746454047705,
          -0.7470638237349192,
          -0.7386345587337385,
          -0.7300881868201459,
          -0.7214260629797911,
          -0.7126495605502283,
          -0.7037600710031783,
          -0.6947590037239213,
          -0.6856477857878416,
          -0.676427861734175,
          -0.6671006933369836,
          -0.6576677593733955,
          -0.6481305553891562,
          -0.6384905934615157,
          -0.6287494019594931,
          -0.6189085253015659,
          -0.6089695237108073,
          -0.5989339729675189,
          -0.5888034641594025,
          -0.5785796034292985,
          -0.5682640117205375,
          -0.5578583245199538,
          -0.5473641915985793,
          -0.5367832767500872,
          -0.5261172575270021,
          -0.515367824974731,
          -0.5045366833634599,
          -0.49362554991794855,
          -0.4826361545452699,
          -0.4715702395605469,
          -0.4604295594107141,
          -0.4492158803963569,
          -0.43793098039167727,
          -0.42657664856261845,
          -0.415154685083199,
          -0.40366690085010953,
          -0.3921151171955973,
          -0.38050116559870856,
          -0.36882688739491426,
          -0.35709413348417257,
          -0.3453047640374828,
          -0.33346064820196153,
          -0.32156366380449647,
          -0.30961569705403075,
          -0.2976186422425114,
          -0.2855744014445558,
          -0.27348488421589245,
          -0.26135200729060726,
          -0.24917769427725248,
          -0.2369638753538737,
          -0.2247124869619827,
          -0.21242547149955018,
          -0.2001047770130454,
          -0.18775235688858027,
          -0.17537016954221463,
          -0.16296017810945654,
          -0.15052435013401383,
          -0.138064657255855,
          -0.12558307489861273,
          -0.11308158195638733,
          -0.10056216048000803,
          -0.08802679536278585,
          -0.07547747402581581,
          -0.06291618610288711,
          -0.05034492312502936,
          -0.03776567820477121,
          -0.025180445720139406,
          -0.012591220998457192,
          -2.4492935982947064e-16
         ]
        },
        {
         "marker": {
          "color": "blue",
          "opacity": 0.8,
          "size": 5
         },
         "mode": "markers",
         "name": "(w, b)",
         "type": "scatter",
         "x": [
          -0.8716766974866981,
          0.5317181133549121,
          -0.9497331306143858,
          0.9786239272050732,
          -0.8476262297618845,
          -0.9965100312353519,
          0.8101454557504548,
          0.9310554377235568,
          0.9935737204792457,
          0.9063626279715857,
          -0.7842986036362151,
          -0.9816472364246983,
          0.7623229000532239,
          0.8927594916721061,
          0.9577920616874847,
          0.8423925968206384,
          0.8782830054248226,
          0.8174268116443983,
          0.7532141017580383,
          0.929583134266306,
          -0.967333247303088,
          -0.9994805641601034,
          0.912466255118284,
          0.9911635387838824,
          0.7845392153347786,
          0.9995609899090637,
          0.7374328210375922,
          0.944766842013881,
          0.9686830114540342,
          0.8596269689090736,
          -0.8270124334777721,
          -0.7323544377402083,
          -0.8624431611538446,
          -0.8923478548047247,
          0.8328751834201994,
          -0.8021496739184074,
          -0.9854619345706781,
          -0.9178586124309774,
          0.7697445422496361,
          0.9888333361750048,
          0.9398484139356696,
          -0.9584583418917186,
          -0.9749386663248043,
          -0.9972725431645652,
          0.7972231771998607,
          0.8814330422026275,
          -0.9024320349805848,
          0.9216206848751622,
          0.7745356046419789,
          0.7503425803971641,
          0.7276428442964031,
          0.819031096265436,
          0.938765294449372,
          0.951379555925514,
          0.8518261137074614,
          0.8338720300730679,
          -0.963485281077544,
          0.9734350367345689,
          -0.8707872518835527,
          -0.7932903369757776,
          -0.9856937086038184,
          -0.7428763402762208,
          0.9944151357092526,
          0.9985074728137413
         ],
         "y": [
          0.4900813555509774,
          0.8469213941861975,
          -0.313060666027206,
          -0.20565799060994377,
          -0.5305937943659472,
          0.08347309535004699,
          -0.5862289147823465,
          -0.3648777492330769,
          0.11318684540630057,
          0.4225006350485653,
          -0.6203835106885766,
          -0.19070580279517615,
          -0.6471968758070781,
          -0.45053356149055407,
          -0.2874619393388238,
          -0.5388642805213399,
          0.4781411531984473,
          0.5760324709639842,
          0.6577754304569543,
          0.3686125289346943,
          -0.2535081629101181,
          -0.03222734655849699,
          -0.4091519684303312,
          -0.13264554039021145,
          -0.6200792042972334,
          -0.0296281530307329,
          -0.6754204871459989,
          -0.32774321385975097,
          -0.2483006712039722,
          -0.5109221803016564,
          0.5621836309189139,
          -0.6809236209166365,
          -0.5061539230105441,
          -0.45134832006489867,
          0.5534608647797686,
          -0.5971230196806958,
          0.1698963669776862,
          -0.39690750507678846,
          0.638352049951199,
          0.1490256127952842,
          0.34159180145695267,
          -0.28523254873554926,
          -0.22247381172805916,
          -0.07380700949151345,
          -0.6036846906584261,
          -0.47230900066949927,
          0.43083224373391604,
          -0.3880918875862221,
          -0.6325303132197572,
          -0.6610491752078096,
          -0.6859561874815624,
          -0.5737491292805925,
          -0.3445572839708717,
          -0.30802100669754917,
          -0.5238246576919066,
          -0.5519578221764961,
          0.2677612988221523,
          -0.22896337973040295,
          -0.49166000646492514,
          -0.6088435277317625,
          -0.16854647079915636,
          -0.6694286691334697,
          -0.1055392717065489,
          -0.05461526100931624
         ]
        }
       ],
       "layout": {
        "height": 600,
        "showlegend": true,
        "template": {
         "data": {
          "bar": [
           {
            "error_x": {
             "color": "#2a3f5f"
            },
            "error_y": {
             "color": "#2a3f5f"
            },
            "marker": {
             "line": {
              "color": "#E5ECF6",
              "width": 0.5
             },
             "pattern": {
              "fillmode": "overlay",
              "size": 10,
              "solidity": 0.2
             }
            },
            "type": "bar"
           }
          ],
          "barpolar": [
           {
            "marker": {
             "line": {
              "color": "#E5ECF6",
              "width": 0.5
             },
             "pattern": {
              "fillmode": "overlay",
              "size": 10,
              "solidity": 0.2
             }
            },
            "type": "barpolar"
           }
          ],
          "carpet": [
           {
            "aaxis": {
             "endlinecolor": "#2a3f5f",
             "gridcolor": "white",
             "linecolor": "white",
             "minorgridcolor": "white",
             "startlinecolor": "#2a3f5f"
            },
            "baxis": {
             "endlinecolor": "#2a3f5f",
             "gridcolor": "white",
             "linecolor": "white",
             "minorgridcolor": "white",
             "startlinecolor": "#2a3f5f"
            },
            "type": "carpet"
           }
          ],
          "choropleth": [
           {
            "colorbar": {
             "outlinewidth": 0,
             "ticks": ""
            },
            "type": "choropleth"
           }
          ],
          "contour": [
           {
            "colorbar": {
             "outlinewidth": 0,
             "ticks": ""
            },
            "colorscale": [
             [
              0,
              "#0d0887"
             ],
             [
              0.1111111111111111,
              "#46039f"
             ],
             [
              0.2222222222222222,
              "#7201a8"
             ],
             [
              0.3333333333333333,
              "#9c179e"
             ],
             [
              0.4444444444444444,
              "#bd3786"
             ],
             [
              0.5555555555555556,
              "#d8576b"
             ],
             [
              0.6666666666666666,
              "#ed7953"
             ],
             [
              0.7777777777777778,
              "#fb9f3a"
             ],
             [
              0.8888888888888888,
              "#fdca26"
             ],
             [
              1,
              "#f0f921"
             ]
            ],
            "type": "contour"
           }
          ],
          "contourcarpet": [
           {
            "colorbar": {
             "outlinewidth": 0,
             "ticks": ""
            },
            "type": "contourcarpet"
           }
          ],
          "heatmap": [
           {
            "colorbar": {
             "outlinewidth": 0,
             "ticks": ""
            },
            "colorscale": [
             [
              0,
              "#0d0887"
             ],
             [
              0.1111111111111111,
              "#46039f"
             ],
             [
              0.2222222222222222,
              "#7201a8"
             ],
             [
              0.3333333333333333,
              "#9c179e"
             ],
             [
              0.4444444444444444,
              "#bd3786"
             ],
             [
              0.5555555555555556,
              "#d8576b"
             ],
             [
              0.6666666666666666,
              "#ed7953"
             ],
             [
              0.7777777777777778,
              "#fb9f3a"
             ],
             [
              0.8888888888888888,
              "#fdca26"
             ],
             [
              1,
              "#f0f921"
             ]
            ],
            "type": "heatmap"
           }
          ],
          "heatmapgl": [
           {
            "colorbar": {
             "outlinewidth": 0,
             "ticks": ""
            },
            "colorscale": [
             [
              0,
              "#0d0887"
             ],
             [
              0.1111111111111111,
              "#46039f"
             ],
             [
              0.2222222222222222,
              "#7201a8"
             ],
             [
              0.3333333333333333,
              "#9c179e"
             ],
             [
              0.4444444444444444,
              "#bd3786"
             ],
             [
              0.5555555555555556,
              "#d8576b"
             ],
             [
              0.6666666666666666,
              "#ed7953"
             ],
             [
              0.7777777777777778,
              "#fb9f3a"
             ],
             [
              0.8888888888888888,
              "#fdca26"
             ],
             [
              1,
              "#f0f921"
             ]
            ],
            "type": "heatmapgl"
           }
          ],
          "histogram": [
           {
            "marker": {
             "pattern": {
              "fillmode": "overlay",
              "size": 10,
              "solidity": 0.2
             }
            },
            "type": "histogram"
           }
          ],
          "histogram2d": [
           {
            "colorbar": {
             "outlinewidth": 0,
             "ticks": ""
            },
            "colorscale": [
             [
              0,
              "#0d0887"
             ],
             [
              0.1111111111111111,
              "#46039f"
             ],
             [
              0.2222222222222222,
              "#7201a8"
             ],
             [
              0.3333333333333333,
              "#9c179e"
             ],
             [
              0.4444444444444444,
              "#bd3786"
             ],
             [
              0.5555555555555556,
              "#d8576b"
             ],
             [
              0.6666666666666666,
              "#ed7953"
             ],
             [
              0.7777777777777778,
              "#fb9f3a"
             ],
             [
              0.8888888888888888,
              "#fdca26"
             ],
             [
              1,
              "#f0f921"
             ]
            ],
            "type": "histogram2d"
           }
          ],
          "histogram2dcontour": [
           {
            "colorbar": {
             "outlinewidth": 0,
             "ticks": ""
            },
            "colorscale": [
             [
              0,
              "#0d0887"
             ],
             [
              0.1111111111111111,
              "#46039f"
             ],
             [
              0.2222222222222222,
              "#7201a8"
             ],
             [
              0.3333333333333333,
              "#9c179e"
             ],
             [
              0.4444444444444444,
              "#bd3786"
             ],
             [
              0.5555555555555556,
              "#d8576b"
             ],
             [
              0.6666666666666666,
              "#ed7953"
             ],
             [
              0.7777777777777778,
              "#fb9f3a"
             ],
             [
              0.8888888888888888,
              "#fdca26"
             ],
             [
              1,
              "#f0f921"
             ]
            ],
            "type": "histogram2dcontour"
           }
          ],
          "mesh3d": [
           {
            "colorbar": {
             "outlinewidth": 0,
             "ticks": ""
            },
            "type": "mesh3d"
           }
          ],
          "parcoords": [
           {
            "line": {
             "colorbar": {
              "outlinewidth": 0,
              "ticks": ""
             }
            },
            "type": "parcoords"
           }
          ],
          "pie": [
           {
            "automargin": true,
            "type": "pie"
           }
          ],
          "scatter": [
           {
            "fillpattern": {
             "fillmode": "overlay",
             "size": 10,
             "solidity": 0.2
            },
            "type": "scatter"
           }
          ],
          "scatter3d": [
           {
            "line": {
             "colorbar": {
              "outlinewidth": 0,
              "ticks": ""
             }
            },
            "marker": {
             "colorbar": {
              "outlinewidth": 0,
              "ticks": ""
             }
            },
            "type": "scatter3d"
           }
          ],
          "scattercarpet": [
           {
            "marker": {
             "colorbar": {
              "outlinewidth": 0,
              "ticks": ""
             }
            },
            "type": "scattercarpet"
           }
          ],
          "scattergeo": [
           {
            "marker": {
             "colorbar": {
              "outlinewidth": 0,
              "ticks": ""
             }
            },
            "type": "scattergeo"
           }
          ],
          "scattergl": [
           {
            "marker": {
             "colorbar": {
              "outlinewidth": 0,
              "ticks": ""
             }
            },
            "type": "scattergl"
           }
          ],
          "scattermapbox": [
           {
            "marker": {
             "colorbar": {
              "outlinewidth": 0,
              "ticks": ""
             }
            },
            "type": "scattermapbox"
           }
          ],
          "scatterpolar": [
           {
            "marker": {
             "colorbar": {
              "outlinewidth": 0,
              "ticks": ""
             }
            },
            "type": "scatterpolar"
           }
          ],
          "scatterpolargl": [
           {
            "marker": {
             "colorbar": {
              "outlinewidth": 0,
              "ticks": ""
             }
            },
            "type": "scatterpolargl"
           }
          ],
          "scatterternary": [
           {
            "marker": {
             "colorbar": {
              "outlinewidth": 0,
              "ticks": ""
             }
            },
            "type": "scatterternary"
           }
          ],
          "surface": [
           {
            "colorbar": {
             "outlinewidth": 0,
             "ticks": ""
            },
            "colorscale": [
             [
              0,
              "#0d0887"
             ],
             [
              0.1111111111111111,
              "#46039f"
             ],
             [
              0.2222222222222222,
              "#7201a8"
             ],
             [
              0.3333333333333333,
              "#9c179e"
             ],
             [
              0.4444444444444444,
              "#bd3786"
             ],
             [
              0.5555555555555556,
              "#d8576b"
             ],
             [
              0.6666666666666666,
              "#ed7953"
             ],
             [
              0.7777777777777778,
              "#fb9f3a"
             ],
             [
              0.8888888888888888,
              "#fdca26"
             ],
             [
              1,
              "#f0f921"
             ]
            ],
            "type": "surface"
           }
          ],
          "table": [
           {
            "cells": {
             "fill": {
              "color": "#EBF0F8"
             },
             "line": {
              "color": "white"
             }
            },
            "header": {
             "fill": {
              "color": "#C8D4E3"
             },
             "line": {
              "color": "white"
             }
            },
            "type": "table"
           }
          ]
         },
         "layout": {
          "annotationdefaults": {
           "arrowcolor": "#2a3f5f",
           "arrowhead": 0,
           "arrowwidth": 1
          },
          "autotypenumbers": "strict",
          "coloraxis": {
           "colorbar": {
            "outlinewidth": 0,
            "ticks": ""
           }
          },
          "colorscale": {
           "diverging": [
            [
             0,
             "#8e0152"
            ],
            [
             0.1,
             "#c51b7d"
            ],
            [
             0.2,
             "#de77ae"
            ],
            [
             0.3,
             "#f1b6da"
            ],
            [
             0.4,
             "#fde0ef"
            ],
            [
             0.5,
             "#f7f7f7"
            ],
            [
             0.6,
             "#e6f5d0"
            ],
            [
             0.7,
             "#b8e186"
            ],
            [
             0.8,
             "#7fbc41"
            ],
            [
             0.9,
             "#4d9221"
            ],
            [
             1,
             "#276419"
            ]
           ],
           "sequential": [
            [
             0,
             "#0d0887"
            ],
            [
             0.1111111111111111,
             "#46039f"
            ],
            [
             0.2222222222222222,
             "#7201a8"
            ],
            [
             0.3333333333333333,
             "#9c179e"
            ],
            [
             0.4444444444444444,
             "#bd3786"
            ],
            [
             0.5555555555555556,
             "#d8576b"
            ],
            [
             0.6666666666666666,
             "#ed7953"
            ],
            [
             0.7777777777777778,
             "#fb9f3a"
            ],
            [
             0.8888888888888888,
             "#fdca26"
            ],
            [
             1,
             "#f0f921"
            ]
           ],
           "sequentialminus": [
            [
             0,
             "#0d0887"
            ],
            [
             0.1111111111111111,
             "#46039f"
            ],
            [
             0.2222222222222222,
             "#7201a8"
            ],
            [
             0.3333333333333333,
             "#9c179e"
            ],
            [
             0.4444444444444444,
             "#bd3786"
            ],
            [
             0.5555555555555556,
             "#d8576b"
            ],
            [
             0.6666666666666666,
             "#ed7953"
            ],
            [
             0.7777777777777778,
             "#fb9f3a"
            ],
            [
             0.8888888888888888,
             "#fdca26"
            ],
            [
             1,
             "#f0f921"
            ]
           ]
          },
          "colorway": [
           "#636efa",
           "#EF553B",
           "#00cc96",
           "#ab63fa",
           "#FFA15A",
           "#19d3f3",
           "#FF6692",
           "#B6E880",
           "#FF97FF",
           "#FECB52"
          ],
          "font": {
           "color": "#2a3f5f"
          },
          "geo": {
           "bgcolor": "white",
           "lakecolor": "white",
           "landcolor": "#E5ECF6",
           "showlakes": true,
           "showland": true,
           "subunitcolor": "white"
          },
          "hoverlabel": {
           "align": "left"
          },
          "hovermode": "closest",
          "mapbox": {
           "style": "light"
          },
          "paper_bgcolor": "white",
          "plot_bgcolor": "#E5ECF6",
          "polar": {
           "angularaxis": {
            "gridcolor": "white",
            "linecolor": "white",
            "ticks": ""
           },
           "bgcolor": "#E5ECF6",
           "radialaxis": {
            "gridcolor": "white",
            "linecolor": "white",
            "ticks": ""
           }
          },
          "scene": {
           "xaxis": {
            "backgroundcolor": "#E5ECF6",
            "gridcolor": "white",
            "gridwidth": 2,
            "linecolor": "white",
            "showbackground": true,
            "ticks": "",
            "zerolinecolor": "white"
           },
           "yaxis": {
            "backgroundcolor": "#E5ECF6",
            "gridcolor": "white",
            "gridwidth": 2,
            "linecolor": "white",
            "showbackground": true,
            "ticks": "",
            "zerolinecolor": "white"
           },
           "zaxis": {
            "backgroundcolor": "#E5ECF6",
            "gridcolor": "white",
            "gridwidth": 2,
            "linecolor": "white",
            "showbackground": true,
            "ticks": "",
            "zerolinecolor": "white"
           }
          },
          "shapedefaults": {
           "line": {
            "color": "#2a3f5f"
           }
          },
          "ternary": {
           "aaxis": {
            "gridcolor": "white",
            "linecolor": "white",
            "ticks": ""
           },
           "baxis": {
            "gridcolor": "white",
            "linecolor": "white",
            "ticks": ""
           },
           "bgcolor": "#E5ECF6",
           "caxis": {
            "gridcolor": "white",
            "linecolor": "white",
            "ticks": ""
           }
          },
          "title": {
           "x": 0.05
          },
          "xaxis": {
           "automargin": true,
           "gridcolor": "white",
           "linecolor": "white",
           "ticks": "",
           "title": {
            "standoff": 15
           },
           "zerolinecolor": "white",
           "zerolinewidth": 2
          },
          "yaxis": {
           "automargin": true,
           "gridcolor": "white",
           "linecolor": "white",
           "ticks": "",
           "title": {
            "standoff": 15
           },
           "zerolinecolor": "white",
           "zerolinewidth": 2
          }
         }
        },
        "title": {
         "text": "Interactive Distribution of (w, b)"
        },
        "width": 600,
        "xaxis": {
         "scaleanchor": "y",
         "scaleratio": 1,
         "title": {
          "text": "w"
         }
        },
        "yaxis": {
         "scaleanchor": "x",
         "scaleratio": 1,
         "title": {
          "text": "b"
         }
        }
       }
      }
     },
     "metadata": {},
     "output_type": "display_data"
    }
   ],
   "source": [
    "plot_parameters_on_circle_interactive(my_model)"
   ]
  },
  {
   "cell_type": "code",
   "execution_count": 46,
   "metadata": {
    "scrolled": false
   },
   "outputs": [
    {
     "name": "stdout",
     "output_type": "stream",
     "text": [
      "epoch  1\n",
      "assembling the matrix time taken:  0.00023126602172851562\n",
      "solving Ax = b time taken:  0.00021839141845703125\n",
      "epoch  2\n",
      "assembling the matrix time taken:  0.00023055076599121094\n",
      "solving Ax = b time taken:  0.0002040863037109375\n",
      "epoch  3\n",
      "assembling the matrix time taken:  0.0002570152282714844\n",
      "solving Ax = b time taken:  0.0002110004425048828\n",
      "epoch  4\n",
      "assembling the matrix time taken:  0.0002033710479736328\n",
      "solving Ax = b time taken:  0.00017595291137695312\n",
      "epoch  5\n",
      "assembling the matrix time taken:  0.00020360946655273438\n",
      "solving Ax = b time taken:  0.00016045570373535156\n",
      "epoch  6\n",
      "assembling the matrix time taken:  0.00018548965454101562\n",
      "solving Ax = b time taken:  0.00014209747314453125\n",
      "epoch  7\n",
      "assembling the matrix time taken:  0.00016736984252929688\n",
      "solving Ax = b time taken:  0.0001308917999267578\n",
      "epoch  8\n",
      "assembling the matrix time taken:  0.0001735687255859375\n",
      "solving Ax = b time taken:  0.00013399124145507812\n",
      "epoch  9\n",
      "assembling the matrix time taken:  0.00020003318786621094\n",
      "solving Ax = b time taken:  0.00017333030700683594\n",
      "epoch  10\n",
      "assembling the matrix time taken:  0.00018715858459472656\n",
      "solving Ax = b time taken:  0.0001888275146484375\n",
      "epoch  11\n",
      "assembling the matrix time taken:  0.00018262863159179688\n",
      "solving Ax = b time taken:  0.00016236305236816406\n",
      "epoch  12\n",
      "assembling the matrix time taken:  0.0001888275146484375\n",
      "solving Ax = b time taken:  0.00015783309936523438\n",
      "epoch  13\n",
      "assembling the matrix time taken:  0.0002224445343017578\n",
      "solving Ax = b time taken:  0.0001761913299560547\n",
      "epoch  14\n",
      "assembling the matrix time taken:  0.00021600723266601562\n",
      "solving Ax = b time taken:  0.0001823902130126953\n",
      "epoch  15\n",
      "assembling the matrix time taken:  0.00020885467529296875\n",
      "solving Ax = b time taken:  0.00018215179443359375\n",
      "epoch  16\n",
      "assembling the matrix time taken:  0.0001881122589111328\n",
      "solving Ax = b time taken:  0.0001819133758544922\n",
      "epoch  17\n",
      "assembling the matrix time taken:  0.0002186298370361328\n",
      "solving Ax = b time taken:  0.00023555755615234375\n",
      "epoch  18\n",
      "assembling the matrix time taken:  0.0002465248107910156\n",
      "solving Ax = b time taken:  0.00024008750915527344\n",
      "epoch  19\n",
      "assembling the matrix time taken:  0.00023555755615234375\n",
      "solving Ax = b time taken:  0.0002536773681640625\n",
      "epoch  20\n",
      "assembling the matrix time taken:  0.00023317337036132812\n",
      "solving Ax = b time taken:  0.0002434253692626953\n",
      "epoch  21\n",
      "assembling the matrix time taken:  0.0002830028533935547\n",
      "solving Ax = b time taken:  0.0002617835998535156\n",
      "epoch  22\n",
      "assembling the matrix time taken:  0.00027871131896972656\n",
      "solving Ax = b time taken:  0.0002536773681640625\n",
      "epoch  23\n",
      "assembling the matrix time taken:  0.00020623207092285156\n",
      "solving Ax = b time taken:  0.00023365020751953125\n",
      "epoch  24\n",
      "assembling the matrix time taken:  0.00024962425231933594\n",
      "solving Ax = b time taken:  0.00025963783264160156\n",
      "epoch  25\n",
      "assembling the matrix time taken:  0.00026798248291015625\n",
      "solving Ax = b time taken:  0.0002627372741699219\n",
      "epoch  26\n",
      "assembling the matrix time taken:  0.0002665519714355469\n",
      "solving Ax = b time taken:  0.0002586841583251953\n",
      "epoch  27\n",
      "assembling the matrix time taken:  0.00022983551025390625\n",
      "solving Ax = b time taken:  0.00023126602172851562\n",
      "epoch  28\n",
      "assembling the matrix time taken:  0.00022602081298828125\n",
      "solving Ax = b time taken:  0.00022840499877929688\n",
      "epoch  29\n",
      "assembling the matrix time taken:  0.00020503997802734375\n",
      "solving Ax = b time taken:  0.0002295970916748047\n",
      "epoch  30\n",
      "assembling the matrix time taken:  0.0002124309539794922\n",
      "solving Ax = b time taken:  0.00023484230041503906\n",
      "epoch  31\n",
      "assembling the matrix time taken:  0.00022101402282714844\n",
      "solving Ax = b time taken:  0.00024318695068359375\n",
      "epoch  32\n",
      "assembling the matrix time taken:  0.00022220611572265625\n",
      "solving Ax = b time taken:  0.00024437904357910156\n"
     ]
    },
    {
     "data": {
      "image/png": "[encoded data removed]",
      "text/plain": [
       "<Figure size 640x480 with 1 Axes>"
      ]
     },
     "metadata": {},
     "output_type": "display_data"
    },
    {
     "data": {
      "image/png": "[encoded data removed]",
      "text/plain": [
       "<Figure size 1280x960 with 1 Axes>"
      ]
     },
     "metadata": {},
     "output_type": "display_data"
    },
    {
     "name": "stdout",
     "output_type": "stream",
     "text": [
      "neuron num \t\t error \t\t order\n",
      "4 \t\t 0.130401 \t\t *  \n",
      "\n",
      "8 \t\t 0.018308 \t\t 2.832383 \n",
      "\n",
      "16 \t\t 0.005469 \t\t 1.743175 \n",
      "\n",
      "32 \t\t 0.001196 \t\t 2.193025 \n",
      "\n",
      "neuron num  & \t $\\|u-u_n \\|_{L^2}$ & \t order $O(n^{-2.00})$  \\\\ \\hline \\hline \n",
      "4 \t\t & 0.130401 &\t\t *  \\\\ \\hline  \n",
      "\n",
      "8 \t\t &  1.831e-02 &  \t\t 2.83 \\\\ \\hline  \n",
      "\n",
      "16 \t\t &  5.469e-03 &  \t\t 1.74 \\\\ \\hline  \n",
      "\n",
      "32 \t\t &  1.196e-03 &  \t\t 2.19 \\\\ \\hline  \n",
      "\n",
      "epoch  1\n",
      "assembling the matrix time taken:  0.0002460479736328125\n",
      "solving Ax = b time taken:  0.00021958351135253906\n",
      "epoch  2\n",
      "assembling the matrix time taken:  0.0002453327178955078\n",
      "solving Ax = b time taken:  0.0002110004425048828\n",
      "epoch  3\n",
      "assembling the matrix time taken:  0.00023889541625976562\n",
      "solving Ax = b time taken:  0.00022912025451660156\n",
      "epoch  4\n",
      "assembling the matrix time taken:  0.00028014183044433594\n",
      "solving Ax = b time taken:  0.0002663135528564453\n",
      "epoch  5\n",
      "assembling the matrix time taken:  0.00024700164794921875\n",
      "solving Ax = b time taken:  0.00020885467529296875\n",
      "epoch  6\n",
      "assembling the matrix time taken:  0.00022172927856445312\n",
      "solving Ax = b time taken:  0.0001971721649169922\n",
      "epoch  7\n",
      "assembling the matrix time taken:  0.00022459030151367188\n",
      "solving Ax = b time taken:  0.000194549560546875\n",
      "epoch  8\n",
      "assembling the matrix time taken:  0.00022602081298828125\n",
      "solving Ax = b time taken:  0.00021338462829589844\n",
      "epoch  9\n",
      "assembling the matrix time taken:  0.00023293495178222656\n",
      "solving Ax = b time taken:  0.00024175643920898438\n",
      "epoch  10\n",
      "assembling the matrix time taken:  0.00026488304138183594\n",
      "solving Ax = b time taken:  0.00021600723266601562\n",
      "epoch  11\n",
      "assembling the matrix time taken:  0.00021457672119140625\n",
      "solving Ax = b time taken:  0.0002231597900390625\n",
      "epoch  12\n",
      "assembling the matrix time taken:  0.00022649765014648438\n",
      "solving Ax = b time taken:  0.0002124309539794922\n",
      "epoch  13\n",
      "assembling the matrix time taken:  0.00019693374633789062\n",
      "solving Ax = b time taken:  0.00021719932556152344\n",
      "epoch  14\n",
      "assembling the matrix time taken:  0.00022935867309570312\n",
      "solving Ax = b time taken:  0.00019478797912597656\n",
      "epoch  15\n",
      "assembling the matrix time taken:  0.00019860267639160156\n",
      "solving Ax = b time taken:  0.00018262863159179688\n",
      "epoch  16\n",
      "assembling the matrix time taken:  0.0001881122589111328\n",
      "solving Ax = b time taken:  0.00016570091247558594\n",
      "epoch  17\n",
      "assembling the matrix time taken:  0.00018167495727539062\n",
      "solving Ax = b time taken:  0.00019502639770507812\n",
      "epoch  18\n",
      "assembling the matrix time taken:  0.0002193450927734375\n",
      "solving Ax = b time taken:  0.00021314620971679688\n",
      "epoch  19\n",
      "assembling the matrix time taken:  0.00021123886108398438\n",
      "solving Ax = b time taken:  0.00021910667419433594\n",
      "epoch  20\n",
      "assembling the matrix time taken:  0.00021505355834960938\n",
      "solving Ax = b time taken:  0.0002498626708984375\n",
      "epoch  21\n",
      "assembling the matrix time taken:  0.00023365020751953125\n",
      "solving Ax = b time taken:  0.00021958351135253906\n",
      "epoch  22\n",
      "assembling the matrix time taken:  0.00019979476928710938\n",
      "solving Ax = b time taken:  0.0002117156982421875\n",
      "epoch  23\n",
      "assembling the matrix time taken:  0.0002288818359375\n",
      "solving Ax = b time taken:  0.00022029876708984375\n",
      "epoch  24\n",
      "assembling the matrix time taken:  0.00024771690368652344\n",
      "solving Ax = b time taken:  0.00024771690368652344\n",
      "epoch  25\n",
      "assembling the matrix time taken:  0.0002028942108154297\n",
      "solving Ax = b time taken:  0.00021910667419433594\n",
      "epoch  26\n",
      "assembling the matrix time taken:  0.0002124309539794922\n",
      "solving Ax = b time taken:  0.0002186298370361328\n",
      "epoch  27\n",
      "assembling the matrix time taken:  0.00020933151245117188\n",
      "solving Ax = b time taken:  0.00021839141845703125\n",
      "epoch  28\n",
      "assembling the matrix time taken:  0.00021219253540039062\n",
      "solving Ax = b time taken:  0.00022292137145996094\n",
      "epoch  29\n",
      "assembling the matrix time taken:  0.00021338462829589844\n",
      "solving Ax = b time taken:  0.00023627281188964844\n",
      "epoch  30\n",
      "assembling the matrix time taken:  0.00023317337036132812\n",
      "solving Ax = b time taken:  0.00022554397583007812\n",
      "epoch  31\n",
      "assembling the matrix time taken:  0.00020599365234375\n",
      "solving Ax = b time taken:  0.0002300739288330078\n",
      "epoch  32\n",
      "assembling the matrix time taken:  0.0002498626708984375\n",
      "solving Ax = b time taken:  0.00025844573974609375\n"
     ]
    },
    {
     "data": {
      "image/png": "[encoded data removed]",
      "text/plain": [
       "<Figure size 640x480 with 1 Axes>"
      ]
     },
     "metadata": {},
     "output_type": "display_data"
    },
    {
     "data": {
      "image/png": "[encoded data removed]",
      "text/plain": [
       "<Figure size 1280x960 with 1 Axes>"
      ]
     },
     "metadata": {},
     "output_type": "display_data"
    },
    {
     "name": "stdout",
     "output_type": "stream",
     "text": [
      "neuron num \t\t error \t\t order\n",
      "4 \t\t 0.243685 \t\t *  \n",
      "\n",
      "8 \t\t 0.032768 \t\t 2.894653 \n",
      "\n",
      "16 \t\t 0.007315 \t\t 2.163328 \n",
      "\n",
      "32 \t\t 0.001991 \t\t 1.877472 \n",
      "\n",
      "neuron num  & \t $\\|u-u_n \\|_{L^2}$ & \t order $O(n^{-2.00})$  \\\\ \\hline \\hline \n",
      "4 \t\t & 0.243685 &\t\t *  \\\\ \\hline  \n",
      "\n",
      "8 \t\t &  3.277e-02 &  \t\t 2.89 \\\\ \\hline  \n",
      "\n",
      "16 \t\t &  7.315e-03 &  \t\t 2.16 \\\\ \\hline  \n",
      "\n",
      "32 \t\t &  1.991e-03 &  \t\t 1.88 \\\\ \\hline  \n",
      "\n",
      "epoch  1\n",
      "assembling the matrix time taken:  0.0002779960632324219\n",
      "solving Ax = b time taken:  0.00021958351135253906\n",
      "epoch  2\n",
      "assembling the matrix time taken:  0.0002429485321044922\n",
      "solving Ax = b time taken:  0.00020360946655273438\n",
      "epoch  3\n",
      "assembling the matrix time taken:  0.00019240379333496094\n",
      "solving Ax = b time taken:  0.00016880035400390625\n",
      "epoch  4\n",
      "assembling the matrix time taken:  0.0002040863037109375\n",
      "solving Ax = b time taken:  0.00015044212341308594\n",
      "epoch  5\n",
      "assembling the matrix time taken:  0.00020647048950195312\n",
      "solving Ax = b time taken:  0.0001773834228515625\n",
      "epoch  6\n",
      "assembling the matrix time taken:  0.00021576881408691406\n",
      "solving Ax = b time taken:  0.00018978118896484375\n",
      "epoch  7\n",
      "assembling the matrix time taken:  0.0002117156982421875\n",
      "solving Ax = b time taken:  0.00019884109497070312\n",
      "epoch  8\n",
      "assembling the matrix time taken:  0.00022912025451660156\n",
      "solving Ax = b time taken:  0.0002048015594482422\n",
      "epoch  9\n",
      "assembling the matrix time taken:  0.00019216537475585938\n",
      "solving Ax = b time taken:  0.00020360946655273438\n",
      "epoch  10\n",
      "assembling the matrix time taken:  0.00018405914306640625\n",
      "solving Ax = b time taken:  0.0001571178436279297\n",
      "epoch  11\n",
      "assembling the matrix time taken:  0.00020956993103027344\n",
      "solving Ax = b time taken:  0.0001914501190185547\n",
      "epoch  12\n",
      "assembling the matrix time taken:  0.0002570152282714844\n",
      "solving Ax = b time taken:  0.0002167224884033203\n",
      "epoch  13\n",
      "assembling the matrix time taken:  0.0002675056457519531\n",
      "solving Ax = b time taken:  0.00021505355834960938\n",
      "epoch  14\n",
      "assembling the matrix time taken:  0.0002410411834716797\n",
      "solving Ax = b time taken:  0.0002048015594482422\n",
      "epoch  15\n",
      "assembling the matrix time taken:  0.00019478797912597656\n",
      "solving Ax = b time taken:  0.00018906593322753906\n",
      "epoch  16\n",
      "assembling the matrix time taken:  0.0002086162567138672\n",
      "solving Ax = b time taken:  0.00022077560424804688\n",
      "epoch  17\n",
      "assembling the matrix time taken:  0.00026535987854003906\n",
      "solving Ax = b time taken:  0.0002410411834716797\n",
      "epoch  18\n",
      "assembling the matrix time taken:  0.000240325927734375\n",
      "solving Ax = b time taken:  0.0002715587615966797\n",
      "epoch  19\n",
      "assembling the matrix time taken:  0.0002498626708984375\n",
      "solving Ax = b time taken:  0.0002608299255371094\n",
      "epoch  20\n",
      "assembling the matrix time taken:  0.00025010108947753906\n",
      "solving Ax = b time taken:  0.00027370452880859375\n",
      "epoch  21\n",
      "assembling the matrix time taken:  0.00022745132446289062\n",
      "solving Ax = b time taken:  0.00023865699768066406\n",
      "epoch  22\n",
      "assembling the matrix time taken:  0.00021696090698242188\n",
      "solving Ax = b time taken:  0.0002377033233642578\n",
      "epoch  23\n",
      "assembling the matrix time taken:  0.00019788742065429688\n",
      "solving Ax = b time taken:  0.00021958351135253906\n",
      "epoch  24\n",
      "assembling the matrix time taken:  0.00022363662719726562\n",
      "solving Ax = b time taken:  0.00022339820861816406\n",
      "epoch  25\n",
      "assembling the matrix time taken:  0.00020885467529296875\n",
      "solving Ax = b time taken:  0.00024318695068359375\n",
      "epoch  26\n",
      "assembling the matrix time taken:  0.00020122528076171875\n",
      "solving Ax = b time taken:  0.0002186298370361328\n",
      "epoch  27\n",
      "assembling the matrix time taken:  0.00020933151245117188\n",
      "solving Ax = b time taken:  0.0002453327178955078\n",
      "epoch  28\n",
      "assembling the matrix time taken:  0.0002067089080810547\n",
      "solving Ax = b time taken:  0.0002334117889404297\n",
      "epoch  29\n",
      "assembling the matrix time taken:  0.00021386146545410156\n",
      "solving Ax = b time taken:  0.00024819374084472656\n",
      "epoch  30\n",
      "assembling the matrix time taken:  0.00023937225341796875\n",
      "solving Ax = b time taken:  0.00024056434631347656\n",
      "epoch  31\n",
      "assembling the matrix time taken:  0.00022482872009277344\n",
      "solving Ax = b time taken:  0.0002510547637939453\n",
      "epoch  32\n",
      "assembling the matrix time taken:  0.00021266937255859375\n",
      "solving Ax = b time taken:  0.00023698806762695312\n"
     ]
    },
    {
     "data": {
      "image/png": "[encoded data removed]",
      "text/plain": [
       "<Figure size 640x480 with 1 Axes>"
      ]
     },
     "metadata": {},
     "output_type": "display_data"
    },
    {
     "data": {
      "image/png": "[encoded data removed]",
      "text/plain": [
       "<Figure size 1280x960 with 1 Axes>"
      ]
     },
     "metadata": {},
     "output_type": "display_data"
    },
    {
     "name": "stdout",
     "output_type": "stream",
     "text": [
      "neuron num \t\t error \t\t order\n",
      "4 \t\t 0.316519 \t\t *  \n",
      "\n",
      "8 \t\t 0.068733 \t\t 2.203227 \n",
      "\n",
      "16 \t\t 0.009798 \t\t 2.810390 \n",
      "\n",
      "32 \t\t 0.002134 \t\t 2.199110 \n",
      "\n",
      "neuron num  & \t $\\|u-u_n \\|_{L^2}$ & \t order $O(n^{-2.00})$  \\\\ \\hline \\hline \n",
      "4 \t\t & 0.316519 &\t\t *  \\\\ \\hline  \n",
      "\n",
      "8 \t\t &  6.873e-02 &  \t\t 2.20 \\\\ \\hline  \n",
      "\n",
      "16 \t\t &  9.798e-03 &  \t\t 2.81 \\\\ \\hline  \n",
      "\n",
      "32 \t\t &  2.134e-03 &  \t\t 2.20 \\\\ \\hline  \n",
      "\n"
     ]
    }
   ],
   "source": [
    "import torch\n",
    "\n",
    "def make_target(alpha):\n",
    "    return lambda x: torch.atan(alpha * x)\n",
    "\n",
    "Nx = 2**11\n",
    "order = 3\n",
    "save = True\n",
    "write2file = True\n",
    "\n",
    "alphas = [20, 50, 100]\n",
    "\n",
    "for alpha in alphas:\n",
    "    function_name = f\"arctan1d_alpha{alpha}\"\n",
    "    filename_write = f\"1DMCOGA-{function_name}-order.txt\"\n",
    "\n",
    "    # Clear or prepare output file\n",
    "    with open(filename_write, \"a\") as f_write:\n",
    "        f_write.write(\"\\n\")\n",
    "\n",
    "    target = make_target(alpha)\n",
    "\n",
    "    for N in [2**11]:  # Can add more dictionary sizes here\n",
    "        exponent = 5\n",
    "        num_epochs = 2**exponent\n",
    "        plot_freq = num_epochs\n",
    "        relu_k = 1\n",
    "        my_model = None\n",
    "\n",
    "        err_QMC2, my_model = OGAL2FittingReLU1D_MC(\n",
    "            None, target, N, num_epochs, plot_freq,\n",
    "            Nx, order, k=relu_k, solver=\"direct\"\n",
    "        )\n",
    "\n",
    "        # Plotting\n",
    "        plot_solution_adaptive(-1/2, 1/2, my_model, target, name=f\"$\\\\alpha = {alpha}$\")\n",
    "    #     plot_parameters_on_circle_interactive(my_model)\n",
    "\n",
    "        if save:\n",
    "            folder = \"data_parameter_distribution_compare/\"\n",
    "            torch.save(err_QMC2, f\"{folder}err_OGA_1D_{function_name}_neuron_{num_epochs}_N_{N}_randomized.pt\")\n",
    "            torch.save(my_model.state_dict(), f\"{folder}model_OGA_1D_{function_name}_neuron_{num_epochs}_N_{N}_randomized.pt\")\n",
    "\n",
    "        show_convergence_order(err_QMC2, exponent, N, filename_write, write2file=write2file)\n",
    "        show_convergence_order_latex(err_QMC2, exponent, k=relu_k, d=1)\n",
    "\n"
   ]
  },
  {
   "cell_type": "code",
   "execution_count": 80,
   "metadata": {},
   "outputs": [
    {
     "data": {
      "application/vnd.plotly.v1+json": {
       "config": {
        "plotlyServerURL": "https://plot.ly"
       },
       "data": [
        {
         "line": {
          "color": "red",
          "dash": "dash",
          "width": 1
         },
         "mode": "lines",
         "name": "Unit Circle",
         "type": "scatter",
         "x": [
          1,
          0.9999207274348142,
          0.9996829223075361,
          0.9992866223210104,
          0.9987318903066703,
          0.9980188142145753,
          0.9971475070994674,
          0.9961181071028467,
          0.99493077743107,
          0.9935857063294746,
          0.992083107052534,
          0.9904232178300463,
          0.9886063018293647,
          0.9866326471136735,
          0.9845025665963167,
          0.9822163979911878,
          0.9797745037591863,
          0.9771772710507515,
          0.9744251116444819,
          0.9715184618818493,
          0.9684577825980192,
          0.9652435590487878,
          0.9618763008336467,
          0.9583565418149885,
          0.954684840033466,
          0.9508617776195164,
          0.946887960701069,
          0.9427640193074448,
          0.93849060726947,
          0.9340684021158131,
          0.9294981049655668,
          0.9247804404170886,
          0.9199161564331194,
          0.9149060242221977,
          0.9097508381163878,
          0.9044514154453432,
          0.899008596406722,
          0.8934232439329785,
          0.8876962435545485,
          0.8818285032594538,
          0.8758209533493445,
          0.8696745462920044,
          0.8633902565703414,
          0.856969080527889,
          0.8504120362108399,
          0.8437201632066402,
          0.8368945224791678,
          0.8299361962005216,
          0.8228462875794489,
          0.815625920686436,
          0.8082762402754935,
          0.8007984116026603,
          0.7931936202412582,
          0.7854630718939251,
          0.7776079922014563,
          0.7696296265484861,
          0.761529239866037,
          0.7533081164309715,
          0.7449675596623766,
          0.7365088919149123,
          0.7279334542691597,
          0.7192426063189981,
          0.7104377259560487,
          0.7015202091512169,
          0.692491469733367,
          0.6833529391651669,
          0.6741060663161371,
          0.6647523172329389,
          0.6552931749069403,
          0.6457301390390944,
          0.6360647258021697,
          0.626298467600368,
          0.616432912826369,
          0.6064696256158407,
          0.5964101855994527,
          0.5862561876524338,
          0.5760092416417125,
          0.56567097217068,
          0.5552430183216172,
          0.5447270333958267,
          0.5341246846515094,
          0.5234376530394296,
          0.5126676329364072,
          0.5018163318766836,
          0.4908854702811999,
          0.4798767811848332,
          0.468792009961631,
          0.4576329140480923,
          0.4464012626645338,
          0.43509883653458786,
          0.42372742760287924,
          0.4122888387509191,
          0.4007848835112687,
          0.3892173857800108,
          0.37758817952758156,
          0.3658991085080025,
          0.3541520259665621,
          0.3423487943459936,
          0.3304912849911928,
          0.31858137785252655,
          0.3066209611877746,
          0.2946119312627564,
          0.2825561920506874,
          0.2704556549303122,
          0.25831223838286654,
          0.2461278676879097,
          0.2339044746180824,
          0.2216439971328321,
          0.20934837907116027,
          0.19701956984343574,
          0.18465952412232445,
          0.17227020153288702,
          0.15985356634188821,
          0.14741158714637362,
          0.13494623656155638,
          0.12245949090807033,
          0.10995332989863325,
          0.09742973632417239,
          0.08489069573946416,
          0.07233819614833235,
          0.05977422768846161,
          0.04720078231586891,
          0.034619853489090295,
          0.02203343585312703,
          0.009443524923203677,
          -0.00314788323160957,
          -0.01573879230486569,
          -0.02832720606924372,
          -0.04091112869304266,
          -0.053488565056609316,
          -0.06605752106865548,
          -0.07861600398241199,
          -0.0911620227115676,
          -0.10369358814594769,
          -0.11620871346687627,
          -0.12870541446217815,
          -0.14118170984076459,
          -0.15363562154675803,
          -0.16606517507310384,
          -0.1784683997746173,
          -0.1908433291804215,
          -0.20318800130572,
          -0.21550045896286182,
          -0.22777875007164222,
          -0.2400209279687964,
          -0.2522250517166341,
          -0.2643891864107642,
          -0.27651140348686615,
          -0.2885897810264529,
          -0.3006224040615831,
          -0.3126073648784687,
          -0.3245427633199343,
          -0.3364267070866785,
          -0.3482573120372869,
          -0.36003270248695574,
          -0.3717510115048705,
          -0.3834103812102007,
          -0.3950089630666561,
          -0.40654491817556393,
          -0.41801641756741775,
          -0.42942164249185133,
          -0.4407587847059912,
          -0.4520260467611475,
          -0.46322164228778867,
          -0.4743437962787628,
          -0.4853907453707145,
          -0.49636073812366033,
          -0.5072520352986695,
          -0.5180629101336104,
          -0.5287916486169236,
          -0.5394365497593675,
          -0.5499959258637029,
          -0.5604681027922681,
          -0.570851420232407,
          -0.5811442319597027,
          -0.5913449060989773,
          -0.6014518253830198,
          -0.6114633874089948,
          -0.621378004892496,
          -0.6311941059192011,
          -0.6409101341940935,
          -0.6505245492882039,
          -0.6600358268828372,
          -0.6694424590112475,
          -0.6787429542977176,
          -0.68793583819401,
          -0.6970196532131485,
          -0.7059929591604966,
          -0.7148543333620937,
          -0.7236023708902108,
          -0.732235684786098,
          -0.7407529062798781,
          -0.749152685007559,
          -0.7574336892251271,
          -0.7655946060196892,
          -0.7736341415176283,
          -0.7815510210897404,
          -0.7893439895533217,
          -0.7970118113711714,
          -0.8045532708474797,
          -0.8119671723205705,
          -0.8192523403524682,
          -0.8264076199152578,
          -0.8334318765742076,
          -0.8403239966676301,
          -0.8470828874834466,
          -0.8537074774324318,
          -0.860196716218108,
          -0.8665495750032662,
          -0.8727650465730824,
          -0.8788421454948057,
          -0.8847799082739953,
          -0.8905773935072777,
          -0.8962336820316006,
          -0.9017478770699623,
          -0.9071191043735916,
          -0.9123465123605555,
          -0.9174292722507732,
          -0.9223665781974151,
          -0.9271576474146663,
          -0.9318017203018334,
          -0.9362980605637745,
          -0.940645955327637,
          -0.9448447152558787,
          -0.9488936746555591,
          -0.9527921915838825,
          -0.9565396479499741,
          -0.9601354496128762,
          -0.9635790264757449,
          -0.9668698325762377,
          -0.9700073461730725,
          -0.9729910698287467,
          -0.9758205304884047,
          -0.9784952795548371,
          -0.9810148929596045,
          -0.9833789712302712,
          -0.9855871395537394,
          -0.9876390478356747,
          -0.9895343707560108,
          -0.9912728078205282,
          -0.9928540834084959,
          -0.9942779468163697,
          -0.9955441722975399,
          -0.9966525590981226,
          -0.9976029314887879,
          -0.9983951387926212,
          -0.9990290554090123,
          -0.9995045808335686,
          -0.9998216396740497,
          -0.9999801816623203,
          -0.9999801816623203,
          -0.9998216396740497,
          -0.9995045808335686,
          -0.9990290554090123,
          -0.9983951387926212,
          -0.9976029314887879,
          -0.9966525590981226,
          -0.99554417229754,
          -0.9942779468163697,
          -0.992854083408496,
          -0.9912728078205283,
          -0.9895343707560109,
          -0.9876390478356748,
          -0.9855871395537396,
          -0.9833789712302713,
          -0.9810148929596045,
          -0.9784952795548372,
          -0.9758205304884048,
          -0.972991069828747,
          -0.9700073461730725,
          -0.9668698325762379,
          -0.9635790264757451,
          -0.9601354496128763,
          -0.9565396479499744,
          -0.9527921915838826,
          -0.9488936746555593,
          -0.9448447152558788,
          -0.9406459553276372,
          -0.9362980605637747,
          -0.9318017203018334,
          -0.9271576474146666,
          -0.9223665781974153,
          -0.9174292722507734,
          -0.9123465123605556,
          -0.9071191043735918,
          -0.9017478770699625,
          -0.8962336820316007,
          -0.890577393507278,
          -0.8847799082739957,
          -0.878842145494806,
          -0.8727650465730825,
          -0.8665495750032666,
          -0.8601967162181083,
          -0.8537074774324319,
          -0.8470828874834471,
          -0.8403239966676305,
          -0.8334318765742079,
          -0.8264076199152579,
          -0.8192523403524685,
          -0.8119671723205708,
          -0.8045532708474799,
          -0.7970118113711717,
          -0.7893439895533222,
          -0.7815510210897408,
          -0.7736341415176284,
          -0.7655946060196896,
          -0.7574336892251275,
          -0.7491526850075592,
          -0.7407529062798784,
          -0.7322356847860985,
          -0.7236023708902113,
          -0.7148543333620938,
          -0.7059929591604972,
          -0.6970196532131491,
          -0.6879358381940103,
          -0.6787429542977181,
          -0.6694424590112481,
          -0.6600358268828378,
          -0.6505245492882045,
          -0.640910134194094,
          -0.6311941059192013,
          -0.6213780048924966,
          -0.6114633874089954,
          -0.6014518253830201,
          -0.5913449060989778,
          -0.5811442319597029,
          -0.570851420232408,
          -0.5604681027922688,
          -0.5499959258637032,
          -0.5394365497593685,
          -0.5287916486169243,
          -0.5180629101336107,
          -0.5072520352986701,
          -0.49636073812366105,
          -0.4853907453707148,
          -0.4743437962787634,
          -0.4632216422877893,
          -0.45202604676114766,
          -0.44075878470599184,
          -0.4294216424918515,
          -0.4180164175674188,
          -0.40654491817556454,
          -0.3950089630666563,
          -0.3834103812102015,
          -0.3717510115048711,
          -0.3600327024869559,
          -0.3482573120372877,
          -0.33642670708667893,
          -0.32454276331993454,
          -0.3126073648784693,
          -0.30062240406158347,
          -0.2885897810264531,
          -0.2765114034868668,
          -0.2643891864107646,
          -0.25222505171663495,
          -0.24002092796879707,
          -0.22777875007164244,
          -0.2155004589628627,
          -0.2031880013057207,
          -0.19084332918042174,
          -0.1784683997746182,
          -0.1660651750731043,
          -0.15363562154675828,
          -0.14118170984076528,
          -0.12870541446217862,
          -0.1162087134668765,
          -0.10369358814594837,
          -0.09116202271156805,
          -0.07861600398241289,
          -0.06605752106865616,
          -0.05348856505660956,
          -0.04091112869304357,
          -0.02832720606924441,
          -0.015738792304865933,
          -0.003147883231610481,
          0.00944352492320321,
          0.022033435853126785,
          0.03461985348908961,
          0.047200782315868446,
          0.05977422768846137,
          0.07233819614833169,
          0.0848906957394637,
          0.09742973632417148,
          0.10995332989863257,
          0.1224594909080701,
          0.13494623656155547,
          0.14741158714637292,
          0.159853566341888,
          0.17227020153288614,
          0.18465952412232398,
          0.19701956984343552,
          0.20934837907115958,
          0.22164399713283162,
          0.23390447461808217,
          0.246127867687909,
          0.2583122383828661,
          0.2704556549303113,
          0.28255619205068677,
          0.2946119312627562,
          0.3066209611877737,
          0.31858137785252594,
          0.33049128499119257,
          0.34234879434599275,
          0.35415202596656165,
          0.36589910850800234,
          0.37758817952758095,
          0.38921738578001036,
          0.40078488351126845,
          0.4122888387509185,
          0.42372742760287885,
          0.43509883653458703,
          0.44640126266453317,
          0.45763291404809214,
          0.46879200996163023,
          0.4798767811848325,
          0.4908854702811996,
          0.5018163318766827,
          0.5126676329364066,
          0.5234376530394294,
          0.5341246846515088,
          0.5447270333958262,
          0.555243018321617,
          0.5656709721706793,
          0.5760092416417122,
          0.586256187652433,
          0.5964101855994521,
          0.6064696256158404,
          0.6164329128263683,
          0.6262984676003674,
          0.6360647258021694,
          0.6457301390390937,
          0.6552931749069398,
          0.6647523172329387,
          0.6741060663161365,
          0.6833529391651665,
          0.6924914697333668,
          0.7015202091512164,
          0.7104377259560486,
          0.7192426063189974,
          0.7279334542691592,
          0.7365088919149121,
          0.744967559662376,
          0.7533081164309712,
          0.7615292398660368,
          0.7696296265484857,
          0.777607992201456,
          0.7854630718939248,
          0.7931936202412577,
          0.80079841160266,
          0.8082762402754935,
          0.8156259206864356,
          0.8228462875794487,
          0.8299361962005212,
          0.8368945224791675,
          0.84372016320664,
          0.8504120362108394,
          0.8569690805278887,
          0.8633902565703413,
          0.8696745462920039,
          0.8758209533493443,
          0.8818285032594537,
          0.8876962435545481,
          0.8934232439329782,
          0.899008596406722,
          0.9044514154453429,
          0.9097508381163877,
          0.9149060242221972,
          0.9199161564331192,
          0.9247804404170885,
          0.9294981049655665,
          0.9340684021158129,
          0.9384906072694699,
          0.9427640193074446,
          0.9468879607010687,
          0.9508617776195164,
          0.9546848400334658,
          0.9583565418149884,
          0.9618763008336466,
          0.9652435590487877,
          0.9684577825980192,
          0.9715184618818491,
          0.9744251116444818,
          0.9771772710507515,
          0.9797745037591861,
          0.9822163979911877,
          0.9845025665963166,
          0.9866326471136733,
          0.9886063018293646,
          0.9904232178300463,
          0.9920831070525339,
          0.9935857063294745,
          0.9949307774310698,
          0.9961181071028467,
          0.9971475070994673,
          0.9980188142145753,
          0.9987318903066703,
          0.9992866223210104,
          0.9996829223075361,
          0.9999207274348142,
          1
         ],
         "y": [
          0,
          0.01259122099845663,
          0.025180445720138524,
          0.037765678204770906,
          0.05034492312502874,
          0.06291618610288617,
          0.07547747402581544,
          0.08802679536278515,
          0.1005621604800079,
          0.11308158195638689,
          0.125583074898612,
          0.13806465725585482,
          0.15052435013401333,
          0.1629601781094557,
          0.1753701695422144,
          0.1877523568885797,
          0.20010477701304455,
          0.2124254714995499,
          0.2247124869619821,
          0.23696387535387278,
          0.24917769427725217,
          0.26135200729060665,
          0.27348488421589234,
          0.2855744014445554,
          0.2976186422425107,
          0.3096156970540306,
          0.32156366380449597,
          0.33346064820196075,
          0.34530476403748256,
          0.35709413348417207,
          0.3688268873949134,
          0.3805011655987083,
          0.39211511719559666,
          0.40366690085010865,
          0.41515468508319875,
          0.42657664856261784,
          0.43793098039167716,
          0.4492158803963565,
          0.4604295594107135,
          0.4715702395605467,
          0.48263615454526954,
          0.4936255499179479,
          0.5045366833634598,
          0.5153678249747305,
          0.5261172575270014,
          0.5367832767500869,
          0.5473641915985787,
          0.557858324519953,
          0.5682640117205373,
          0.5785796034292979,
          0.5888034641594024,
          0.5989339729675186,
          0.6089695237108067,
          0.6189085253015657,
          0.6287494019594928,
          0.6384905934615152,
          0.6481305553891561,
          0.6576677593733951,
          0.667100693336983,
          0.6764278617341748,
          0.685647785787841,
          0.6947590037239207,
          0.7037600710031781,
          0.7126495605502278,
          0.721426062979791,
          0.7300881868201454,
          0.738634558733738,
          0.747063823734919,
          0.7553746454047702,
          0.7635657061029861,
          0.7716357071767809,
          0.7795833691667818,
          0.7874074320098827,
          0.7951066552390201,
          0.8026798181798434,
          0.8101257201442467,
          0.8174431806207323,
          0.8246310394615751,
          0.831688157066758,
          0.8386134145646502,
          0.8454057139893991,
          0.8520639784550065,
          0.8585871523260649,
          0.8649742013851223,
          0.8712241129966533,
          0.8773358962676061,
          0.8833085822045057,
          0.8891412238670814,
          0.8948328965184003,
          0.9003826977714798,
          0.9057897477323569,
          0.9110531891395905,
          0.9161721875001766,
          0.9211459312218527,
          0.925973631741772,
          0.9306545236515261,
          0.935187864818497,
          0.9395729365035184,
          0.9438090434748282,
          0.9478955141182944,
          0.9518317005438962,
          0.9556169786884434,
          0.9592507484145191,
          0.9627324336056285,
          0.9660614822575389,
          0.9692373665657978,
          0.9722595830094136,
          0.9751276524306862,
          0.9778411201111752,
          0.9803995558437935,
          0.9828025540010144,
          0.9850497335991816,
          0.9871407383589128,
          0.9890752367615858,
          0.9908529221018992,
          0.992473512536499,
          0.9939367511286633,
          0.9952424058890388,
          0.9963902698124213,
          0.9973801609105755,
          0.998211922241088,
          0.9988854219322504,
          0.9994005532039664,
          0.9997572343846811,
          0.9999554089243304,
          0.9999950454033061,
          0.9998761375374373,
          0.9995987041789873,
          0.999162789313664,
          0.9985684620536465,
          0.9978158166266278,
          0.9969049723608752,
          0.9958360736663117,
          0.9946092900116199,
          0.9932248158973744,
          0.9916828708252043,
          0.989983699262992,
          0.9881275706061142,
          0.986114779134731,
          0.9839456439671286,
          0.9816205090091248,
          0.9791397428995449,
          0.9765037389517748,
          0.9737129150914043,
          0.9707677137899663,
          0.9676686019947848,
          0.9644160710549436,
          0.9610106366433847,
          0.9574528386751506,
          0.9537432412217841,
          0.9498824324218971,
          0.9458710243879241,
          0.941709653109075,
          0.9373989783505013,
          0.932939683548695,
          0.9283324757031317,
          0.9235780852641798,
          0.9186772660172914,
          0.9136307949634929,
          0.9084394721961955,
          0.9031041207743439,
          0.8976255865919252,
          0.8920047382438554,
          0.8862424668882687,
          0.8803396861052282,
          0.874297331751883,
          0.8681163618140917,
          0.8617977562545388,
          0.8553425168573667,
          0.8487516670693471,
          0.842026251837619,
          0.8351673374440167,
          0.8281760113360176,
          0.8210533819543306,
          0.8138005785571594,
          0.8064187510411646,
          0.7989090697591519,
          0.7912727253345192,
          0.7835109284724887,
          0.7756249097681562,
          0.767615919511385,
          0.7594852274885794,
          0.7512341227813666,
          0.7428639135622178,
          0.7343759268870451,
          0.7257715084848019,
          0.7170520225441264,
          0.7082188514970533,
          0.6992733957998378,
          0.6902170737109201,
          0.6810513210660664,
          0.6717775910507243,
          0.6623973539696282,
          0.6529120970136896,
          0.6433233240242087,
          0.633632555254449,
          0.6238413271286091,
          0.6139511919982283,
          0.6039637178960706,
          0.5938804882875189,
          0.5837031018195269,
          0.5734331720671587,
          0.5630723272777653,
          0.5526222101128354,
          0.5420844773875569,
          0.5314607998081387,
          0.5207528617069271,
          0.5099623607753652,
          0.49909100779482957,
          0.4881405263653954,
          0.4771126526325694,
          0.4660091350120299,
          0.45483173391242554,
          0.4435822214562705,
          0.4322623811989846,
          0.4208740078461167,
          0.4094189069688045,
          0.3978988947175108,
          0.3863157975340793,
          0.3746714518621632,
          0.36296770385606475,
          0.35120640908803813,
          0.33938943225409535,
          0.3275186468783687,
          0.31559593501607397,
          0.3036231869551174,
          0.29160230091640127,
          0.2795351827528692,
          0.26742374564734456,
          0.25526990980920183,
          0.24307560216992805,
          0.2308427560776185,
          0.2185733109904513,
          0.20626921216919736,
          0.19393241036880798,
          0.18156486152913387,
          0.1691685264648177,
          0.15674537055441798,
          0.144297363428809,
          0.13182647865890293,
          0.11933469344275147,
          0.10682398829206982,
          0.09429634671823804,
          0.08175375491782225,
          0.0691982014576742,
          0.05663167695965503,
          0.044056173785029115,
          0.03147368571858678,
          0.018886207652538477,
          0.006295735270236124,
          -0.006295735270235435,
          -0.018886207652538234,
          -0.03147368571858609,
          -0.04405617378502842,
          -0.056631676959654334,
          -0.06919820145767396,
          -0.08175375491782155,
          -0.09429634671823735,
          -0.10682398829206957,
          -0.11933469344275077,
          -0.13182647865890226,
          -0.14429736342880833,
          -0.15674537055441776,
          -0.16916852646481706,
          -0.1815648615291332,
          -0.1939324103688078,
          -0.20626921216919672,
          -0.21857331099045063,
          -0.23084275607761784,
          -0.24307560216992782,
          -0.2552699098092012,
          -0.26742374564734395,
          -0.279535182752869,
          -0.2916023009164006,
          -0.3036231869551168,
          -0.31559593501607336,
          -0.32751864687836846,
          -0.33938943225409474,
          -0.3512064090880375,
          -0.3629677038560645,
          -0.3746714518621626,
          -0.3863157975340787,
          -0.39789889471751017,
          -0.40941890696880434,
          -0.4208740078461161,
          -0.43226238119898397,
          -0.4435822214562703,
          -0.45483173391242493,
          -0.46600913501202934,
          -0.47711265263256886,
          -0.48814052636539523,
          -0.49909100779482896,
          -0.5099623607753646,
          -0.5207528617069269,
          -0.5314607998081381,
          -0.5420844773875564,
          -0.5526222101128349,
          -0.5630723272777651,
          -0.5734331720671582,
          -0.5837031018195264,
          -0.5938804882875187,
          -0.6039637178960701,
          -0.6139511919982279,
          -0.6238413271286085,
          -0.6336325552544487,
          -0.6433233240242081,
          -0.652912097013689,
          -0.6623973539696281,
          -0.6717775910507239,
          -0.6810513210660658,
          -0.6902170737109197,
          -0.6992733957998376,
          -0.7082188514970529,
          -0.7170520225441258,
          -0.7257715084848017,
          -0.7343759268870445,
          -0.7428639135622173,
          -0.751234122781366,
          -0.7594852274885789,
          -0.7676159195113845,
          -0.775624909768156,
          -0.7835109284724882,
          -0.7912727253345188,
          -0.7989090697591518,
          -0.8064187510411641,
          -0.8138005785571591,
          -0.82105338195433,
          -0.8281760113360173,
          -0.8351673374440166,
          -0.8420262518376184,
          -0.8487516670693468,
          -0.8553425168573665,
          -0.8617977562545384,
          -0.8681163618140914,
          -0.8742973317518828,
          -0.8803396861052278,
          -0.8862424668882684,
          -0.8920047382438553,
          -0.8976255865919248,
          -0.9031041207743438,
          -0.908439472196195,
          -0.9136307949634926,
          -0.9186772660172913,
          -0.9235780852641795,
          -0.9283324757031315,
          -0.9329396835486949,
          -0.9373989783505011,
          -0.9417096531090747,
          -0.9458710243879241,
          -0.9498824324218968,
          -0.953743241221784,
          -0.9574528386751505,
          -0.9610106366433845,
          -0.9644160710549435,
          -0.9676686019947845,
          -0.9707677137899661,
          -0.9737129150914042,
          -0.9765037389517746,
          -0.9791397428995446,
          -0.9816205090091248,
          -0.9839456439671285,
          -0.986114779134731,
          -0.9881275706061142,
          -0.9899836992629919,
          -0.9916828708252043,
          -0.9932248158973744,
          -0.9946092900116198,
          -0.9958360736663115,
          -0.9969049723608752,
          -0.9978158166266278,
          -0.9985684620536465,
          -0.999162789313664,
          -0.9995987041789873,
          -0.9998761375374373,
          -0.9999950454033061,
          -0.9999554089243304,
          -0.9997572343846811,
          -0.9994005532039664,
          -0.9988854219322505,
          -0.998211922241088,
          -0.9973801609105755,
          -0.9963902698124213,
          -0.9952424058890389,
          -0.9939367511286633,
          -0.9924735125364991,
          -0.9908529221018993,
          -0.9890752367615859,
          -0.9871407383589128,
          -0.9850497335991817,
          -0.9828025540010145,
          -0.9803995558437936,
          -0.9778411201111754,
          -0.9751276524306863,
          -0.9722595830094137,
          -0.9692373665657981,
          -0.966061482257539,
          -0.9627324336056288,
          -0.9592507484145193,
          -0.9556169786884434,
          -0.9518317005438964,
          -0.9478955141182946,
          -0.9438090434748283,
          -0.9395729365035187,
          -0.9351878648184972,
          -0.9306545236515262,
          -0.9259736317417723,
          -0.921145931221853,
          -0.9161721875001767,
          -0.9110531891395909,
          -0.9057897477323571,
          -0.9003826977714802,
          -0.8948328965184005,
          -0.8891412238670815,
          -0.8833085822045061,
          -0.8773358962676064,
          -0.8712241129966534,
          -0.8649742013851228,
          -0.8585871523260652,
          -0.8520639784550066,
          -0.8454057139893995,
          -0.8386134145646505,
          -0.8316881570667581,
          -0.8246310394615755,
          -0.8174431806207325,
          -0.8101257201442473,
          -0.8026798181798438,
          -0.7951066552390204,
          -0.7874074320098834,
          -0.7795833691667823,
          -0.7716357071767811,
          -0.7635657061029868,
          -0.7553746454047705,
          -0.7470638237349192,
          -0.7386345587337385,
          -0.7300881868201459,
          -0.7214260629797911,
          -0.7126495605502283,
          -0.7037600710031783,
          -0.6947590037239213,
          -0.6856477857878416,
          -0.676427861734175,
          -0.6671006933369836,
          -0.6576677593733955,
          -0.6481305553891562,
          -0.6384905934615157,
          -0.6287494019594931,
          -0.6189085253015659,
          -0.6089695237108073,
          -0.5989339729675189,
          -0.5888034641594025,
          -0.5785796034292985,
          -0.5682640117205375,
          -0.5578583245199538,
          -0.5473641915985793,
          -0.5367832767500872,
          -0.5261172575270021,
          -0.515367824974731,
          -0.5045366833634599,
          -0.49362554991794855,
          -0.4826361545452699,
          -0.4715702395605469,
          -0.4604295594107141,
          -0.4492158803963569,
          -0.43793098039167727,
          -0.42657664856261845,
          -0.415154685083199,
          -0.40366690085010953,
          -0.3921151171955973,
          -0.38050116559870856,
          -0.36882688739491426,
          -0.35709413348417257,
          -0.3453047640374828,
          -0.33346064820196153,
          -0.32156366380449647,
          -0.30961569705403075,
          -0.2976186422425114,
          -0.2855744014445558,
          -0.27348488421589245,
          -0.26135200729060726,
          -0.24917769427725248,
          -0.2369638753538737,
          -0.2247124869619827,
          -0.21242547149955018,
          -0.2001047770130454,
          -0.18775235688858027,
          -0.17537016954221463,
          -0.16296017810945654,
          -0.15052435013401383,
          -0.138064657255855,
          -0.12558307489861273,
          -0.11308158195638733,
          -0.10056216048000803,
          -0.08802679536278585,
          -0.07547747402581581,
          -0.06291618610288711,
          -0.05034492312502936,
          -0.03776567820477121,
          -0.025180445720139406,
          -0.012591220998457192,
          -2.4492935982947064e-16
         ]
        },
        {
         "marker": {
          "color": "blue",
          "opacity": 0.8,
          "size": 4
         },
         "mode": "markers",
         "name": "(w, b)",
         "type": "scatter",
         "x": [
          -0.8590573874051167,
          0.5658553270859009,
          -0.9682733156013372,
          0.983762294705159,
          0.87189126756097,
          0.9969194149634306,
          0.9985679882742783,
          -0.9996933235351104,
          -0.9246556560993441,
          0.8174110316710169,
          0.8994983411162786,
          -0.9997292551150793,
          -0.9891188483461523,
          -0.99996493543289,
          0.9999675911735403,
          -0.9939947461875352,
          -0.7806623343908874,
          -0.886081457636988,
          -0.9671709798825834,
          0.9005773178543985,
          0.9445488456946516,
          0.8480370950559106,
          -0.835821015910079,
          0.7651280009796138,
          -0.7451533731157184,
          0.7403664286835299,
          -0.725400466323664,
          0.7482986503959363,
          -0.756096870274793,
          -0.7365493083848729,
          0.8056125973715438,
          0.9987878861590707,
          0.7321948026878339,
          0.9400264341619992,
          0.7219726587060259,
          -0.7172815398498075,
          0.9999884519470199,
          -0.9999993447932121,
          -0.9998731669944773,
          -0.9938219113980274,
          -0.9807507872782534,
          -0.8554210261900129,
          0.9966925780563596,
          0.9992305856745188,
          0.9899649850858754,
          0.9998568045062551,
          -0.9992371401483869,
          0.9999901283079736,
          -0.9999337800240164,
          0.7583740558731689,
          0.9559772151224737,
          -0.9764081251601651,
          0.9999990994854031,
          -0.9978243839486416,
          -0.9213972077192282,
          0.9977626952571826,
          0.9995730549119589,
          0.9565723126492871,
          -0.9959426404037484,
          -0.9994602561006661,
          -0.8791525159691754,
          0.9999330248487639,
          0.9952622384109006,
          0.9931102631719464,
          -0.8304768305875184,
          -0.9999966292734342,
          0.9854291140579275,
          0.9750580371140989,
          0.9916339854078888,
          0.9997721085321575,
          -0.987633700838671,
          -0.9989109446706903,
          0.9984000931485583,
          0.7828900403586097,
          -0.9994213917755278,
          0.7360414940300284,
          0.9950847004596723,
          -0.9999963773605411,
          -0.9803908294402843,
          -0.9915793104093046,
          -0.9999833883693567,
          0.9347300172085381,
          0.915161938169606,
          0.9719987131025225,
          -0.9999774559762635,
          0.999901825907732,
          -0.9622371790356185,
          -0.9483122369598048,
          -0.9995871717674677,
          0.9998059667411922,
          0.7993265512836639,
          -0.9315670388956162,
          -0.9116832033979623,
          0.9981854754518806,
          0.9622998584049229,
          -0.9990062974107593,
          0.9501798575136865,
          0.9972515733583207,
          -0.9998167404655282,
          -0.9999072462512381,
          -0.9961879059005777,
          -0.9999527599304272,
          -0.9999554618964359,
          0.999651016427075,
          -0.9874297562197791,
          -0.9830531517203255,
          -0.9782380981356765,
          0.9855279111154558,
          0.9999927968456672,
          -0.9717692785151943,
          -0.8890814732741005,
          -0.8690037589440934,
          -0.9973743493105965,
          -0.9927717661634007,
          -0.8430583515634024,
          -0.9903866555774582,
          0.9990534569095295,
          -0.815729179684307,
          0.9999789493293466,
          0.9964698888717153,
          -0.9980927377984833,
          -0.7218424256053255,
          0.9076292537195272,
          0.9985855958300042,
          0.9399073968626878,
          -0.9999831468946846,
          -0.9946741583676272,
          0.9993790465337165,
          0.9653027751414587,
          -0.9999925460261071,
          -0.79556833786977,
          -0.7721943895637642,
          0.9886770423812482,
          0.8932338104564881,
          -0.9944755603946124,
          0.9288869129880462,
          0.9987568363577235,
          0.8288304660959971,
          0.9994967074591783,
          0.9993253706996391,
          -0.7472551932660995,
          0.9821824229992496,
          0.9786350719642951,
          0.9750537327628782,
          0.9957970321566093,
          0.8798426454217362,
          0.9694952796990096,
          0.9997658092435949,
          -0.9999999447071646,
          -0.9057602993022685,
          0.999850900349354,
          0.992260824268061,
          -0.9530401944785367,
          -0.959361487648925,
          -0.9441946339439484,
          0.9908216994295407,
          0.9199793348909561,
          0.9999982704125571,
          0.999128666006605,
          0.9998789939208448,
          0.9983795261528499,
          -0.92572352386962,
          0.9360623517398231,
          -0.808225303967136,
          0.999972775546337,
          0.790412804170261,
          -0.9997325026506554,
          -0.9996495802716434,
          -0.9955517647902815,
          0.9999223368039848,
          -0.9995257951985834,
          -0.9158701449204946,
          0.9999872929111663,
          0.999943176021926,
          -0.9540413990598078,
          -0.9591984216404391,
          -0.9998377848258372,
          -0.9644135233684529,
          -0.997989079056025,
          -0.997444010035548,
          -0.996923825501656,
          -0.9999724458869597,
          0.9866083950772074,
          0.8650892617553118,
          0.8622064178175114,
          -0.9842742242882236,
          -0.9999426153358997,
          0.99969375410368,
          -0.999891168787928,
          -0.9999254298979252,
          0.9975778006288524,
          0.8227811176351847,
          -0.893846762673542,
          0.9864119411132165,
          -0.9991348086832964,
          0.9884426491461962,
          -0.7729831494282895,
          0.9766989364223296,
          0.998880050910254,
          0.9932401599472037,
          -0.9473870668061649,
          -0.9992998651610506,
          -0.9999946124630799,
          -0.9736159601327122,
          0.998212623014122,
          0.8491667105524309,
          0.8379620888678452,
          0.9923099965037416,
          0.9735449401766741,
          -0.999997995527445,
          0.969917621457757,
          -0.8235129786220857,
          0.9971976180291521,
          -0.9996190884074276,
          -0.9113358798453455,
          0.9910163908586995,
          0.9895615342504669,
          0.9818793701951629,
          -0.979665190266658,
          -0.9893712628497638,
          0.9999583206861357,
          -0.9999941612585169,
          -0.9999628720329284,
          0.9999999648997495,
          0.8837986334122165,
          0.8743055067221145,
          -0.841945262670128,
          -0.8532801810351178,
          0.9510682206201342,
          -0.9846552307068716,
          -0.9964349004533192,
          -0.9317790811795518,
          -0.9042495073060514,
          -0.8978267160717751,
          -0.9935092888969007,
          -0.9927007644730724,
          -0.9371444381799101,
          -0.9417015628470488,
          -0.9995352168558082,
          0.9286833438914702,
          0.765245960999692,
          -0.8759256107872168,
          -0.9705765314707916,
          0.9999900857351123,
          0.9997964012095751,
          0.9980081492320484,
          -0.9999153366222446,
          0.9998299539807088,
          0.9961657585272269,
          0.7883471551533403,
          -0.999783493926524,
          -0.9999855440666783,
          0.9999139993473637,
          0.9986963293920684,
          0.9999794784291898,
          0.9967119857700072
         ],
         "y": [
          0.5118792876691685,
          0.8245045474759422,
          -0.24989354992554969,
          -0.179476314639119,
          -0.4896995176135309,
          0.07843264670385261,
          -0.05349740922568774,
          -0.024764064273153308,
          0.3808043036042157,
          -0.5760548631011839,
          0.43692417457616484,
          0.023268357635392804,
          -0.14711867266387885,
          -0.00837424054444387,
          -0.0080508758894593,
          0.10942780520314384,
          0.6249530539675523,
          0.46352955723654854,
          0.25412653476755115,
          -0.4346958644456807,
          -0.3283709458781352,
          -0.5299368692675878,
          0.5490020303815311,
          -0.6438782044120924,
          0.666893132768862,
          -0.6722035043633703,
          0.6883270759293223,
          -0.6633619900292902,
          0.6544597182108789,
          0.6763838527920115,
          0.5924426917063581,
          0.04922152437598406,
          -0.6810952730102625,
          0.3411016022780846,
          -0.6919215852110354,
          0.6967834617660562,
          0.004805826942660208,
          0.001144732783988469,
          -0.015926390816317113,
          -0.11098652361963342,
          -0.1952636506190696,
          -0.5179332659252784,
          -0.08126441316694404,
          -0.039220360178839495,
          -0.14131287380816612,
          -0.01692248452622,
          -0.039053012023058026,
          -0.004443341828235038,
          0.011508065297089292,
          0.6518196003331593,
          0.29344090404488554,
          0.21593326080345124,
          0.0013420239874460907,
          -0.0659279819008122,
          -0.38862216304170005,
          -0.06685509668770503,
          -0.0292182801337421,
          -0.29149512975827696,
          -0.08999031628797843,
          -0.03285112593490353,
          -0.4765405057967988,
          0.011573496308431186,
          -0.09722693450543263,
          -0.11718363871525517,
          -0.5570531696860815,
          -0.0025964286567909233,
          0.17008662841919148,
          0.22195004901824303,
          0.1290815206916428,
          0.021347857062569742,
          0.15677905780974197,
          0.04665752476406134,
          0.0565442658538449,
          0.6221600957207836,
          0.034012963138587,
          0.6769364217310541,
          0.09902746543804962,
          0.00269170314004705,
          0.1970629887863049,
          0.1295008539284895,
          0.005763938353275131,
          -0.3553586848936241,
          -0.4030863765071334,
          -0.2349861734805695,
          -0.006714725552099542,
          -0.014012085725665936,
          -0.27221243777898024,
          -0.3173387799060978,
          -0.028731272821005308,
          -0.01969844838331808,
          -0.6008968833443589,
          -0.3635695972482485,
          -0.4108938264832289,
          -0.06021425576143266,
          -0.27199077652351583,
          -0.044569246500761,
          -0.31170216293004877,
          -0.07408980654822625,
          -0.019143810615615018,
          -0.013619797879046113,
          0.08723334303706225,
          -0.009719974666716551,
          0.0094379141490783,
          -0.02641676279023638,
          -0.1580584592223634,
          -0.1833207595793094,
          -0.20748547745780782,
          -0.169513233738273,
          0.003795557505854774,
          -0.23593318828443502,
          -0.457748985668734,
          -0.4948054839439798,
          -0.07241828040808554,
          -0.12001758333178468,
          -0.5378221042865372,
          -0.1383266874254473,
          -0.043499313064907875,
          -0.5784340112852698,
          -0.006488520492068937,
          0.08395094145982804,
          -0.06173238010904966,
          -0.692057448913181,
          -0.41977272159173756,
          0.05316773270354555,
          -0.3414294734243163,
          -0.005805680546128792,
          0.10306948469674435,
          0.035235228810948725,
          0.26113320796903383,
          0.0038610739728735066,
          -0.605863862413935,
          -0.6353863586246132,
          -0.15005900795442992,
          -0.44959243750021255,
          -0.10496837513185417,
          -0.370363474008356,
          -0.04984758598680114,
          -0.5594998288391984,
          -0.03172273283091963,
          -0.0367260599034091,
          -0.6645371894309937,
          -0.187930008118243,
          -0.20560495111120022,
          -0.22196895779630468,
          -0.09158750323100287,
          -0.47526510422845153,
          -0.24510998070527257,
          -0.02164085644099651,
          -0.0003325442342844236,
          -0.4237903729532622,
          0.017267804451820738,
          -0.12417107804504307,
          -0.3028438338621293,
          -0.2821799709689571,
          -0.32938805872625887,
          -0.13517529337699596,
          -0.39196686514754564,
          -0.0018598849142919267,
          0.041736180513575534,
          -0.01555626934195448,
          -0.05690625412738986,
          -0.3782009483785217,
          0.3518341564648205,
          0.5888733803010887,
          0.007378900064048335,
          -0.6125745660764121,
          -0.02312840556236606,
          -0.026471053298412876,
          -0.09421615372618453,
          -0.012462758942486215,
          -0.030792608409153457,
          -0.4014746288911822,
          -0.005041231615140176,
          -0.010660428095694879,
          0.29967483858342947,
          0.2827337757016138,
          0.018011219685599503,
          0.26439847946621586,
          0.06338610324753623,
          0.07145240964590242,
          0.07837656631381378,
          0.007423440364916316,
          -0.16310694271911552,
          -0.5016179514288236,
          0.5065570975460665,
          -0.17664725132822065,
          -0.010712891075740904,
          -0.024746676667604404,
          -0.014752985457566738,
          -0.012212069580933283,
          0.06955955500505646,
          0.5683583662294385,
          -0.4483725737130102,
          0.16429084706475938,
          0.04158886963350696,
          0.15159528142013481,
          0.634426552644136,
          0.21461404332310183,
          0.04731430960637964,
          0.11607749423576208,
          0.3200902148588913,
          -0.03741362705092854,
          -0.0032825363387168757,
          0.22819281797387245,
          0.05976252383614853,
          0.5281248883451374,
          0.5457284467757177,
          0.12377750538261859,
          0.22849562240094623,
          -0.0020022340253587046,
          0.2434333740178764,
          0.5672974299615503,
          0.07481250294560017,
          0.0275985161105336,
          0.41166359337025415,
          0.133740469003953,
          0.1441109639543848,
          0.1895069982484824,
          -0.20063926579758212,
          0.145411499707085,
          0.009129999483212761,
          0.003417228244523547,
          0.008617108311793941,
          -0.00026495376849384366,
          0.46786747651305965,
          0.48537602012809256,
          0.5395629478265987,
          0.5214527137264476,
          0.3089809698451536,
          0.17451096424465018,
          0.08436521296472732,
          0.3630258170932067,
          0.4270044830405922,
          0.4403489388062293,
          0.11375101263538184,
          0.12060345025983975,
          0.34894168852182256,
          0.3364493521043339,
          0.030485246677903158,
          0.3708736264262493,
          0.6437380050716734,
          0.48244618805317696,
          0.2407928498899569,
          0.004452912696526664,
          0.020178110129102575,
          0.06308513348183842,
          0.01301228602602564,
          0.01844080049600891,
          0.08748589336501374,
          0.6152306583401346,
          0.020807817571096805,
          -0.0053769561714375755,
          0.013114644835467426,
          0.05104548617467714,
          0.00640645927839793,
          0.08102602928941365
         ]
        }
       ],
       "layout": {
        "height": 600,
        "showlegend": true,
        "template": {
         "data": {
          "bar": [
           {
            "error_x": {
             "color": "#2a3f5f"
            },
            "error_y": {
             "color": "#2a3f5f"
            },
            "marker": {
             "line": {
              "color": "#E5ECF6",
              "width": 0.5
             },
             "pattern": {
              "fillmode": "overlay",
              "size": 10,
              "solidity": 0.2
             }
            },
            "type": "bar"
           }
          ],
          "barpolar": [
           {
            "marker": {
             "line": {
              "color": "#E5ECF6",
              "width": 0.5
             },
             "pattern": {
              "fillmode": "overlay",
              "size": 10,
              "solidity": 0.2
             }
            },
            "type": "barpolar"
           }
          ],
          "carpet": [
           {
            "aaxis": {
             "endlinecolor": "#2a3f5f",
             "gridcolor": "white",
             "linecolor": "white",
             "minorgridcolor": "white",
             "startlinecolor": "#2a3f5f"
            },
            "baxis": {
             "endlinecolor": "#2a3f5f",
             "gridcolor": "white",
             "linecolor": "white",
             "minorgridcolor": "white",
             "startlinecolor": "#2a3f5f"
            },
            "type": "carpet"
           }
          ],
          "choropleth": [
           {
            "colorbar": {
             "outlinewidth": 0,
             "ticks": ""
            },
            "type": "choropleth"
           }
          ],
          "contour": [
           {
            "colorbar": {
             "outlinewidth": 0,
             "ticks": ""
            },
            "colorscale": [
             [
              0,
              "#0d0887"
             ],
             [
              0.1111111111111111,
              "#46039f"
             ],
             [
              0.2222222222222222,
              "#7201a8"
             ],
             [
              0.3333333333333333,
              "#9c179e"
             ],
             [
              0.4444444444444444,
              "#bd3786"
             ],
             [
              0.5555555555555556,
              "#d8576b"
             ],
             [
              0.6666666666666666,
              "#ed7953"
             ],
             [
              0.7777777777777778,
              "#fb9f3a"
             ],
             [
              0.8888888888888888,
              "#fdca26"
             ],
             [
              1,
              "#f0f921"
             ]
            ],
            "type": "contour"
           }
          ],
          "contourcarpet": [
           {
            "colorbar": {
             "outlinewidth": 0,
             "ticks": ""
            },
            "type": "contourcarpet"
           }
          ],
          "heatmap": [
           {
            "colorbar": {
             "outlinewidth": 0,
             "ticks": ""
            },
            "colorscale": [
             [
              0,
              "#0d0887"
             ],
             [
              0.1111111111111111,
              "#46039f"
             ],
             [
              0.2222222222222222,
              "#7201a8"
             ],
             [
              0.3333333333333333,
              "#9c179e"
             ],
             [
              0.4444444444444444,
              "#bd3786"
             ],
             [
              0.5555555555555556,
              "#d8576b"
             ],
             [
              0.6666666666666666,
              "#ed7953"
             ],
             [
              0.7777777777777778,
              "#fb9f3a"
             ],
             [
              0.8888888888888888,
              "#fdca26"
             ],
             [
              1,
              "#f0f921"
             ]
            ],
            "type": "heatmap"
           }
          ],
          "heatmapgl": [
           {
            "colorbar": {
             "outlinewidth": 0,
             "ticks": ""
            },
            "colorscale": [
             [
              0,
              "#0d0887"
             ],
             [
              0.1111111111111111,
              "#46039f"
             ],
             [
              0.2222222222222222,
              "#7201a8"
             ],
             [
              0.3333333333333333,
              "#9c179e"
             ],
             [
              0.4444444444444444,
              "#bd3786"
             ],
             [
              0.5555555555555556,
              "#d8576b"
             ],
             [
              0.6666666666666666,
              "#ed7953"
             ],
             [
              0.7777777777777778,
              "#fb9f3a"
             ],
             [
              0.8888888888888888,
              "#fdca26"
             ],
             [
              1,
              "#f0f921"
             ]
            ],
            "type": "heatmapgl"
           }
          ],
          "histogram": [
           {
            "marker": {
             "pattern": {
              "fillmode": "overlay",
              "size": 10,
              "solidity": 0.2
             }
            },
            "type": "histogram"
           }
          ],
          "histogram2d": [
           {
            "colorbar": {
             "outlinewidth": 0,
             "ticks": ""
            },
            "colorscale": [
             [
              0,
              "#0d0887"
             ],
             [
              0.1111111111111111,
              "#46039f"
             ],
             [
              0.2222222222222222,
              "#7201a8"
             ],
             [
              0.3333333333333333,
              "#9c179e"
             ],
             [
              0.4444444444444444,
              "#bd3786"
             ],
             [
              0.5555555555555556,
              "#d8576b"
             ],
             [
              0.6666666666666666,
              "#ed7953"
             ],
             [
              0.7777777777777778,
              "#fb9f3a"
             ],
             [
              0.8888888888888888,
              "#fdca26"
             ],
             [
              1,
              "#f0f921"
             ]
            ],
            "type": "histogram2d"
           }
          ],
          "histogram2dcontour": [
           {
            "colorbar": {
             "outlinewidth": 0,
             "ticks": ""
            },
            "colorscale": [
             [
              0,
              "#0d0887"
             ],
             [
              0.1111111111111111,
              "#46039f"
             ],
             [
              0.2222222222222222,
              "#7201a8"
             ],
             [
              0.3333333333333333,
              "#9c179e"
             ],
             [
              0.4444444444444444,
              "#bd3786"
             ],
             [
              0.5555555555555556,
              "#d8576b"
             ],
             [
              0.6666666666666666,
              "#ed7953"
             ],
             [
              0.7777777777777778,
              "#fb9f3a"
             ],
             [
              0.8888888888888888,
              "#fdca26"
             ],
             [
              1,
              "#f0f921"
             ]
            ],
            "type": "histogram2dcontour"
           }
          ],
          "mesh3d": [
           {
            "colorbar": {
             "outlinewidth": 0,
             "ticks": ""
            },
            "type": "mesh3d"
           }
          ],
          "parcoords": [
           {
            "line": {
             "colorbar": {
              "outlinewidth": 0,
              "ticks": ""
             }
            },
            "type": "parcoords"
           }
          ],
          "pie": [
           {
            "automargin": true,
            "type": "pie"
           }
          ],
          "scatter": [
           {
            "fillpattern": {
             "fillmode": "overlay",
             "size": 10,
             "solidity": 0.2
            },
            "type": "scatter"
           }
          ],
          "scatter3d": [
           {
            "line": {
             "colorbar": {
              "outlinewidth": 0,
              "ticks": ""
             }
            },
            "marker": {
             "colorbar": {
              "outlinewidth": 0,
              "ticks": ""
             }
            },
            "type": "scatter3d"
           }
          ],
          "scattercarpet": [
           {
            "marker": {
             "colorbar": {
              "outlinewidth": 0,
              "ticks": ""
             }
            },
            "type": "scattercarpet"
           }
          ],
          "scattergeo": [
           {
            "marker": {
             "colorbar": {
              "outlinewidth": 0,
              "ticks": ""
             }
            },
            "type": "scattergeo"
           }
          ],
          "scattergl": [
           {
            "marker": {
             "colorbar": {
              "outlinewidth": 0,
              "ticks": ""
             }
            },
            "type": "scattergl"
           }
          ],
          "scattermapbox": [
           {
            "marker": {
             "colorbar": {
              "outlinewidth": 0,
              "ticks": ""
             }
            },
            "type": "scattermapbox"
           }
          ],
          "scatterpolar": [
           {
            "marker": {
             "colorbar": {
              "outlinewidth": 0,
              "ticks": ""
             }
            },
            "type": "scatterpolar"
           }
          ],
          "scatterpolargl": [
           {
            "marker": {
             "colorbar": {
              "outlinewidth": 0,
              "ticks": ""
             }
            },
            "type": "scatterpolargl"
           }
          ],
          "scatterternary": [
           {
            "marker": {
             "colorbar": {
              "outlinewidth": 0,
              "ticks": ""
             }
            },
            "type": "scatterternary"
           }
          ],
          "surface": [
           {
            "colorbar": {
             "outlinewidth": 0,
             "ticks": ""
            },
            "colorscale": [
             [
              0,
              "#0d0887"
             ],
             [
              0.1111111111111111,
              "#46039f"
             ],
             [
              0.2222222222222222,
              "#7201a8"
             ],
             [
              0.3333333333333333,
              "#9c179e"
             ],
             [
              0.4444444444444444,
              "#bd3786"
             ],
             [
              0.5555555555555556,
              "#d8576b"
             ],
             [
              0.6666666666666666,
              "#ed7953"
             ],
             [
              0.7777777777777778,
              "#fb9f3a"
             ],
             [
              0.8888888888888888,
              "#fdca26"
             ],
             [
              1,
              "#f0f921"
             ]
            ],
            "type": "surface"
           }
          ],
          "table": [
           {
            "cells": {
             "fill": {
              "color": "#EBF0F8"
             },
             "line": {
              "color": "white"
             }
            },
            "header": {
             "fill": {
              "color": "#C8D4E3"
             },
             "line": {
              "color": "white"
             }
            },
            "type": "table"
           }
          ]
         },
         "layout": {
          "annotationdefaults": {
           "arrowcolor": "#2a3f5f",
           "arrowhead": 0,
           "arrowwidth": 1
          },
          "autotypenumbers": "strict",
          "coloraxis": {
           "colorbar": {
            "outlinewidth": 0,
            "ticks": ""
           }
          },
          "colorscale": {
           "diverging": [
            [
             0,
             "#8e0152"
            ],
            [
             0.1,
             "#c51b7d"
            ],
            [
             0.2,
             "#de77ae"
            ],
            [
             0.3,
             "#f1b6da"
            ],
            [
             0.4,
             "#fde0ef"
            ],
            [
             0.5,
             "#f7f7f7"
            ],
            [
             0.6,
             "#e6f5d0"
            ],
            [
             0.7,
             "#b8e186"
            ],
            [
             0.8,
             "#7fbc41"
            ],
            [
             0.9,
             "#4d9221"
            ],
            [
             1,
             "#276419"
            ]
           ],
           "sequential": [
            [
             0,
             "#0d0887"
            ],
            [
             0.1111111111111111,
             "#46039f"
            ],
            [
             0.2222222222222222,
             "#7201a8"
            ],
            [
             0.3333333333333333,
             "#9c179e"
            ],
            [
             0.4444444444444444,
             "#bd3786"
            ],
            [
             0.5555555555555556,
             "#d8576b"
            ],
            [
             0.6666666666666666,
             "#ed7953"
            ],
            [
             0.7777777777777778,
             "#fb9f3a"
            ],
            [
             0.8888888888888888,
             "#fdca26"
            ],
            [
             1,
             "#f0f921"
            ]
           ],
           "sequentialminus": [
            [
             0,
             "#0d0887"
            ],
            [
             0.1111111111111111,
             "#46039f"
            ],
            [
             0.2222222222222222,
             "#7201a8"
            ],
            [
             0.3333333333333333,
             "#9c179e"
            ],
            [
             0.4444444444444444,
             "#bd3786"
            ],
            [
             0.5555555555555556,
             "#d8576b"
            ],
            [
             0.6666666666666666,
             "#ed7953"
            ],
            [
             0.7777777777777778,
             "#fb9f3a"
            ],
            [
             0.8888888888888888,
             "#fdca26"
            ],
            [
             1,
             "#f0f921"
            ]
           ]
          },
          "colorway": [
           "#636efa",
           "#EF553B",
           "#00cc96",
           "#ab63fa",
           "#FFA15A",
           "#19d3f3",
           "#FF6692",
           "#B6E880",
           "#FF97FF",
           "#FECB52"
          ],
          "font": {
           "color": "#2a3f5f"
          },
          "geo": {
           "bgcolor": "white",
           "lakecolor": "white",
           "landcolor": "#E5ECF6",
           "showlakes": true,
           "showland": true,
           "subunitcolor": "white"
          },
          "hoverlabel": {
           "align": "left"
          },
          "hovermode": "closest",
          "mapbox": {
           "style": "light"
          },
          "paper_bgcolor": "white",
          "plot_bgcolor": "#E5ECF6",
          "polar": {
           "angularaxis": {
            "gridcolor": "white",
            "linecolor": "white",
            "ticks": ""
           },
           "bgcolor": "#E5ECF6",
           "radialaxis": {
            "gridcolor": "white",
            "linecolor": "white",
            "ticks": ""
           }
          },
          "scene": {
           "xaxis": {
            "backgroundcolor": "#E5ECF6",
            "gridcolor": "white",
            "gridwidth": 2,
            "linecolor": "white",
            "showbackground": true,
            "ticks": "",
            "zerolinecolor": "white"
           },
           "yaxis": {
            "backgroundcolor": "#E5ECF6",
            "gridcolor": "white",
            "gridwidth": 2,
            "linecolor": "white",
            "showbackground": true,
            "ticks": "",
            "zerolinecolor": "white"
           },
           "zaxis": {
            "backgroundcolor": "#E5ECF6",
            "gridcolor": "white",
            "gridwidth": 2,
            "linecolor": "white",
            "showbackground": true,
            "ticks": "",
            "zerolinecolor": "white"
           }
          },
          "shapedefaults": {
           "line": {
            "color": "#2a3f5f"
           }
          },
          "ternary": {
           "aaxis": {
            "gridcolor": "white",
            "linecolor": "white",
            "ticks": ""
           },
           "baxis": {
            "gridcolor": "white",
            "linecolor": "white",
            "ticks": ""
           },
           "bgcolor": "#E5ECF6",
           "caxis": {
            "gridcolor": "white",
            "linecolor": "white",
            "ticks": ""
           }
          },
          "title": {
           "x": 0.05
          },
          "xaxis": {
           "automargin": true,
           "gridcolor": "white",
           "linecolor": "white",
           "ticks": "",
           "title": {
            "standoff": 15
           },
           "zerolinecolor": "white",
           "zerolinewidth": 2
          },
          "yaxis": {
           "automargin": true,
           "gridcolor": "white",
           "linecolor": "white",
           "ticks": "",
           "title": {
            "standoff": 15
           },
           "zerolinecolor": "white",
           "zerolinewidth": 2
          }
         }
        },
        "title": {
         "text": "Interactive Distribution of (w, b)"
        },
        "width": 600,
        "xaxis": {
         "scaleanchor": "y",
         "scaleratio": 1,
         "title": {
          "text": "w"
         }
        },
        "yaxis": {
         "scaleanchor": "x",
         "scaleratio": 1,
         "title": {
          "text": "b"
         }
        }
       }
      }
     },
     "metadata": {},
     "output_type": "display_data"
    }
   ],
   "source": [
    "def plot_parameters_on_circle(my_model): \n",
    "\n",
    "    # Extract weights and biases\n",
    "    w = my_model.fc1.weight.data.view(-1).cpu().numpy()\n",
    "    b = my_model.fc1.bias.data.view(-1).cpu().numpy()\n",
    "\n",
    "    # Plot setup\n",
    "    plt.figure(figsize=(7, 7))\n",
    "\n",
    "    # Draw the unit circle with transparency\n",
    "    theta = np.linspace(0, 2 * np.pi, 500)\n",
    "    plt.plot(np.cos(theta), np.sin(theta), 'r--', linewidth=1.5, alpha=0.3, label='Unit Circle')  # <-- transparency\n",
    "\n",
    "    # Normalize (w, b) for later use (optional)\n",
    "    norms = np.sqrt(w**2 + b**2)\n",
    "    print(\"Max norm:\", np.max(norms))\n",
    "    print(\"Min norm:\", np.min(norms))\n",
    "    w_norm = w / norms\n",
    "    b_norm = b / norms\n",
    "\n",
    "    # Scatter plot of original (w, b)\n",
    "    plt.scatter(w, b, c='blue', s=10, alpha=0.8, label='(w, b)')\n",
    "\n",
    "    # Decorations\n",
    "    plt.title(r'Distribution of $(w, b)$ with Unit Circle', fontsize=14)\n",
    "    plt.xlabel(r'$w$', fontsize=12)\n",
    "    plt.ylabel(r'$b$', fontsize=12)\n",
    "    plt.axis('equal')\n",
    "    plt.grid(True, linestyle='--', alpha=0.5)\n",
    "    plt.legend()\n",
    "    plt.tight_layout()\n",
    "    plt.show()\n",
    "\n",
    "plot_parameters_on_circle_interactive(my_model)"
   ]
  },
  {
   "cell_type": "code",
   "execution_count": 73,
   "metadata": {},
   "outputs": [
    {
     "data": {
      "application/vnd.plotly.v1+json": {
       "config": {
        "plotlyServerURL": "https://plot.ly"
       },
       "data": [
        {
         "line": {
          "color": "red",
          "dash": "dash",
          "width": 1
         },
         "mode": "lines",
         "name": "Unit Circle",
         "type": "scatter",
         "x": [
          1,
          0.9999207274348142,
          0.9996829223075361,
          0.9992866223210104,
          0.9987318903066703,
          0.9980188142145753,
          0.9971475070994674,
          0.9961181071028467,
          0.99493077743107,
          0.9935857063294746,
          0.992083107052534,
          0.9904232178300463,
          0.9886063018293647,
          0.9866326471136735,
          0.9845025665963167,
          0.9822163979911878,
          0.9797745037591863,
          0.9771772710507515,
          0.9744251116444819,
          0.9715184618818493,
          0.9684577825980192,
          0.9652435590487878,
          0.9618763008336467,
          0.9583565418149885,
          0.954684840033466,
          0.9508617776195164,
          0.946887960701069,
          0.9427640193074448,
          0.93849060726947,
          0.9340684021158131,
          0.9294981049655668,
          0.9247804404170886,
          0.9199161564331194,
          0.9149060242221977,
          0.9097508381163878,
          0.9044514154453432,
          0.899008596406722,
          0.8934232439329785,
          0.8876962435545485,
          0.8818285032594538,
          0.8758209533493445,
          0.8696745462920044,
          0.8633902565703414,
          0.856969080527889,
          0.8504120362108399,
          0.8437201632066402,
          0.8368945224791678,
          0.8299361962005216,
          0.8228462875794489,
          0.815625920686436,
          0.8082762402754935,
          0.8007984116026603,
          0.7931936202412582,
          0.7854630718939251,
          0.7776079922014563,
          0.7696296265484861,
          0.761529239866037,
          0.7533081164309715,
          0.7449675596623766,
          0.7365088919149123,
          0.7279334542691597,
          0.7192426063189981,
          0.7104377259560487,
          0.7015202091512169,
          0.692491469733367,
          0.6833529391651669,
          0.6741060663161371,
          0.6647523172329389,
          0.6552931749069403,
          0.6457301390390944,
          0.6360647258021697,
          0.626298467600368,
          0.616432912826369,
          0.6064696256158407,
          0.5964101855994527,
          0.5862561876524338,
          0.5760092416417125,
          0.56567097217068,
          0.5552430183216172,
          0.5447270333958267,
          0.5341246846515094,
          0.5234376530394296,
          0.5126676329364072,
          0.5018163318766836,
          0.4908854702811999,
          0.4798767811848332,
          0.468792009961631,
          0.4576329140480923,
          0.4464012626645338,
          0.43509883653458786,
          0.42372742760287924,
          0.4122888387509191,
          0.4007848835112687,
          0.3892173857800108,
          0.37758817952758156,
          0.3658991085080025,
          0.3541520259665621,
          0.3423487943459936,
          0.3304912849911928,
          0.31858137785252655,
          0.3066209611877746,
          0.2946119312627564,
          0.2825561920506874,
          0.2704556549303122,
          0.25831223838286654,
          0.2461278676879097,
          0.2339044746180824,
          0.2216439971328321,
          0.20934837907116027,
          0.19701956984343574,
          0.18465952412232445,
          0.17227020153288702,
          0.15985356634188821,
          0.14741158714637362,
          0.13494623656155638,
          0.12245949090807033,
          0.10995332989863325,
          0.09742973632417239,
          0.08489069573946416,
          0.07233819614833235,
          0.05977422768846161,
          0.04720078231586891,
          0.034619853489090295,
          0.02203343585312703,
          0.009443524923203677,
          -0.00314788323160957,
          -0.01573879230486569,
          -0.02832720606924372,
          -0.04091112869304266,
          -0.053488565056609316,
          -0.06605752106865548,
          -0.07861600398241199,
          -0.0911620227115676,
          -0.10369358814594769,
          -0.11620871346687627,
          -0.12870541446217815,
          -0.14118170984076459,
          -0.15363562154675803,
          -0.16606517507310384,
          -0.1784683997746173,
          -0.1908433291804215,
          -0.20318800130572,
          -0.21550045896286182,
          -0.22777875007164222,
          -0.2400209279687964,
          -0.2522250517166341,
          -0.2643891864107642,
          -0.27651140348686615,
          -0.2885897810264529,
          -0.3006224040615831,
          -0.3126073648784687,
          -0.3245427633199343,
          -0.3364267070866785,
          -0.3482573120372869,
          -0.36003270248695574,
          -0.3717510115048705,
          -0.3834103812102007,
          -0.3950089630666561,
          -0.40654491817556393,
          -0.41801641756741775,
          -0.42942164249185133,
          -0.4407587847059912,
          -0.4520260467611475,
          -0.46322164228778867,
          -0.4743437962787628,
          -0.4853907453707145,
          -0.49636073812366033,
          -0.5072520352986695,
          -0.5180629101336104,
          -0.5287916486169236,
          -0.5394365497593675,
          -0.5499959258637029,
          -0.5604681027922681,
          -0.570851420232407,
          -0.5811442319597027,
          -0.5913449060989773,
          -0.6014518253830198,
          -0.6114633874089948,
          -0.621378004892496,
          -0.6311941059192011,
          -0.6409101341940935,
          -0.6505245492882039,
          -0.6600358268828372,
          -0.6694424590112475,
          -0.6787429542977176,
          -0.68793583819401,
          -0.6970196532131485,
          -0.7059929591604966,
          -0.7148543333620937,
          -0.7236023708902108,
          -0.732235684786098,
          -0.7407529062798781,
          -0.749152685007559,
          -0.7574336892251271,
          -0.7655946060196892,
          -0.7736341415176283,
          -0.7815510210897404,
          -0.7893439895533217,
          -0.7970118113711714,
          -0.8045532708474797,
          -0.8119671723205705,
          -0.8192523403524682,
          -0.8264076199152578,
          -0.8334318765742076,
          -0.8403239966676301,
          -0.8470828874834466,
          -0.8537074774324318,
          -0.860196716218108,
          -0.8665495750032662,
          -0.8727650465730824,
          -0.8788421454948057,
          -0.8847799082739953,
          -0.8905773935072777,
          -0.8962336820316006,
          -0.9017478770699623,
          -0.9071191043735916,
          -0.9123465123605555,
          -0.9174292722507732,
          -0.9223665781974151,
          -0.9271576474146663,
          -0.9318017203018334,
          -0.9362980605637745,
          -0.940645955327637,
          -0.9448447152558787,
          -0.9488936746555591,
          -0.9527921915838825,
          -0.9565396479499741,
          -0.9601354496128762,
          -0.9635790264757449,
          -0.9668698325762377,
          -0.9700073461730725,
          -0.9729910698287467,
          -0.9758205304884047,
          -0.9784952795548371,
          -0.9810148929596045,
          -0.9833789712302712,
          -0.9855871395537394,
          -0.9876390478356747,
          -0.9895343707560108,
          -0.9912728078205282,
          -0.9928540834084959,
          -0.9942779468163697,
          -0.9955441722975399,
          -0.9966525590981226,
          -0.9976029314887879,
          -0.9983951387926212,
          -0.9990290554090123,
          -0.9995045808335686,
          -0.9998216396740497,
          -0.9999801816623203,
          -0.9999801816623203,
          -0.9998216396740497,
          -0.9995045808335686,
          -0.9990290554090123,
          -0.9983951387926212,
          -0.9976029314887879,
          -0.9966525590981226,
          -0.99554417229754,
          -0.9942779468163697,
          -0.992854083408496,
          -0.9912728078205283,
          -0.9895343707560109,
          -0.9876390478356748,
          -0.9855871395537396,
          -0.9833789712302713,
          -0.9810148929596045,
          -0.9784952795548372,
          -0.9758205304884048,
          -0.972991069828747,
          -0.9700073461730725,
          -0.9668698325762379,
          -0.9635790264757451,
          -0.9601354496128763,
          -0.9565396479499744,
          -0.9527921915838826,
          -0.9488936746555593,
          -0.9448447152558788,
          -0.9406459553276372,
          -0.9362980605637747,
          -0.9318017203018334,
          -0.9271576474146666,
          -0.9223665781974153,
          -0.9174292722507734,
          -0.9123465123605556,
          -0.9071191043735918,
          -0.9017478770699625,
          -0.8962336820316007,
          -0.890577393507278,
          -0.8847799082739957,
          -0.878842145494806,
          -0.8727650465730825,
          -0.8665495750032666,
          -0.8601967162181083,
          -0.8537074774324319,
          -0.8470828874834471,
          -0.8403239966676305,
          -0.8334318765742079,
          -0.8264076199152579,
          -0.8192523403524685,
          -0.8119671723205708,
          -0.8045532708474799,
          -0.7970118113711717,
          -0.7893439895533222,
          -0.7815510210897408,
          -0.7736341415176284,
          -0.7655946060196896,
          -0.7574336892251275,
          -0.7491526850075592,
          -0.7407529062798784,
          -0.7322356847860985,
          -0.7236023708902113,
          -0.7148543333620938,
          -0.7059929591604972,
          -0.6970196532131491,
          -0.6879358381940103,
          -0.6787429542977181,
          -0.6694424590112481,
          -0.6600358268828378,
          -0.6505245492882045,
          -0.640910134194094,
          -0.6311941059192013,
          -0.6213780048924966,
          -0.6114633874089954,
          -0.6014518253830201,
          -0.5913449060989778,
          -0.5811442319597029,
          -0.570851420232408,
          -0.5604681027922688,
          -0.5499959258637032,
          -0.5394365497593685,
          -0.5287916486169243,
          -0.5180629101336107,
          -0.5072520352986701,
          -0.49636073812366105,
          -0.4853907453707148,
          -0.4743437962787634,
          -0.4632216422877893,
          -0.45202604676114766,
          -0.44075878470599184,
          -0.4294216424918515,
          -0.4180164175674188,
          -0.40654491817556454,
          -0.3950089630666563,
          -0.3834103812102015,
          -0.3717510115048711,
          -0.3600327024869559,
          -0.3482573120372877,
          -0.33642670708667893,
          -0.32454276331993454,
          -0.3126073648784693,
          -0.30062240406158347,
          -0.2885897810264531,
          -0.2765114034868668,
          -0.2643891864107646,
          -0.25222505171663495,
          -0.24002092796879707,
          -0.22777875007164244,
          -0.2155004589628627,
          -0.2031880013057207,
          -0.19084332918042174,
          -0.1784683997746182,
          -0.1660651750731043,
          -0.15363562154675828,
          -0.14118170984076528,
          -0.12870541446217862,
          -0.1162087134668765,
          -0.10369358814594837,
          -0.09116202271156805,
          -0.07861600398241289,
          -0.06605752106865616,
          -0.05348856505660956,
          -0.04091112869304357,
          -0.02832720606924441,
          -0.015738792304865933,
          -0.003147883231610481,
          0.00944352492320321,
          0.022033435853126785,
          0.03461985348908961,
          0.047200782315868446,
          0.05977422768846137,
          0.07233819614833169,
          0.0848906957394637,
          0.09742973632417148,
          0.10995332989863257,
          0.1224594909080701,
          0.13494623656155547,
          0.14741158714637292,
          0.159853566341888,
          0.17227020153288614,
          0.18465952412232398,
          0.19701956984343552,
          0.20934837907115958,
          0.22164399713283162,
          0.23390447461808217,
          0.246127867687909,
          0.2583122383828661,
          0.2704556549303113,
          0.28255619205068677,
          0.2946119312627562,
          0.3066209611877737,
          0.31858137785252594,
          0.33049128499119257,
          0.34234879434599275,
          0.35415202596656165,
          0.36589910850800234,
          0.37758817952758095,
          0.38921738578001036,
          0.40078488351126845,
          0.4122888387509185,
          0.42372742760287885,
          0.43509883653458703,
          0.44640126266453317,
          0.45763291404809214,
          0.46879200996163023,
          0.4798767811848325,
          0.4908854702811996,
          0.5018163318766827,
          0.5126676329364066,
          0.5234376530394294,
          0.5341246846515088,
          0.5447270333958262,
          0.555243018321617,
          0.5656709721706793,
          0.5760092416417122,
          0.586256187652433,
          0.5964101855994521,
          0.6064696256158404,
          0.6164329128263683,
          0.6262984676003674,
          0.6360647258021694,
          0.6457301390390937,
          0.6552931749069398,
          0.6647523172329387,
          0.6741060663161365,
          0.6833529391651665,
          0.6924914697333668,
          0.7015202091512164,
          0.7104377259560486,
          0.7192426063189974,
          0.7279334542691592,
          0.7365088919149121,
          0.744967559662376,
          0.7533081164309712,
          0.7615292398660368,
          0.7696296265484857,
          0.777607992201456,
          0.7854630718939248,
          0.7931936202412577,
          0.80079841160266,
          0.8082762402754935,
          0.8156259206864356,
          0.8228462875794487,
          0.8299361962005212,
          0.8368945224791675,
          0.84372016320664,
          0.8504120362108394,
          0.8569690805278887,
          0.8633902565703413,
          0.8696745462920039,
          0.8758209533493443,
          0.8818285032594537,
          0.8876962435545481,
          0.8934232439329782,
          0.899008596406722,
          0.9044514154453429,
          0.9097508381163877,
          0.9149060242221972,
          0.9199161564331192,
          0.9247804404170885,
          0.9294981049655665,
          0.9340684021158129,
          0.9384906072694699,
          0.9427640193074446,
          0.9468879607010687,
          0.9508617776195164,
          0.9546848400334658,
          0.9583565418149884,
          0.9618763008336466,
          0.9652435590487877,
          0.9684577825980192,
          0.9715184618818491,
          0.9744251116444818,
          0.9771772710507515,
          0.9797745037591861,
          0.9822163979911877,
          0.9845025665963166,
          0.9866326471136733,
          0.9886063018293646,
          0.9904232178300463,
          0.9920831070525339,
          0.9935857063294745,
          0.9949307774310698,
          0.9961181071028467,
          0.9971475070994673,
          0.9980188142145753,
          0.9987318903066703,
          0.9992866223210104,
          0.9996829223075361,
          0.9999207274348142,
          1
         ],
         "y": [
          0,
          0.01259122099845663,
          0.025180445720138524,
          0.037765678204770906,
          0.05034492312502874,
          0.06291618610288617,
          0.07547747402581544,
          0.08802679536278515,
          0.1005621604800079,
          0.11308158195638689,
          0.125583074898612,
          0.13806465725585482,
          0.15052435013401333,
          0.1629601781094557,
          0.1753701695422144,
          0.1877523568885797,
          0.20010477701304455,
          0.2124254714995499,
          0.2247124869619821,
          0.23696387535387278,
          0.24917769427725217,
          0.26135200729060665,
          0.27348488421589234,
          0.2855744014445554,
          0.2976186422425107,
          0.3096156970540306,
          0.32156366380449597,
          0.33346064820196075,
          0.34530476403748256,
          0.35709413348417207,
          0.3688268873949134,
          0.3805011655987083,
          0.39211511719559666,
          0.40366690085010865,
          0.41515468508319875,
          0.42657664856261784,
          0.43793098039167716,
          0.4492158803963565,
          0.4604295594107135,
          0.4715702395605467,
          0.48263615454526954,
          0.4936255499179479,
          0.5045366833634598,
          0.5153678249747305,
          0.5261172575270014,
          0.5367832767500869,
          0.5473641915985787,
          0.557858324519953,
          0.5682640117205373,
          0.5785796034292979,
          0.5888034641594024,
          0.5989339729675186,
          0.6089695237108067,
          0.6189085253015657,
          0.6287494019594928,
          0.6384905934615152,
          0.6481305553891561,
          0.6576677593733951,
          0.667100693336983,
          0.6764278617341748,
          0.685647785787841,
          0.6947590037239207,
          0.7037600710031781,
          0.7126495605502278,
          0.721426062979791,
          0.7300881868201454,
          0.738634558733738,
          0.747063823734919,
          0.7553746454047702,
          0.7635657061029861,
          0.7716357071767809,
          0.7795833691667818,
          0.7874074320098827,
          0.7951066552390201,
          0.8026798181798434,
          0.8101257201442467,
          0.8174431806207323,
          0.8246310394615751,
          0.831688157066758,
          0.8386134145646502,
          0.8454057139893991,
          0.8520639784550065,
          0.8585871523260649,
          0.8649742013851223,
          0.8712241129966533,
          0.8773358962676061,
          0.8833085822045057,
          0.8891412238670814,
          0.8948328965184003,
          0.9003826977714798,
          0.9057897477323569,
          0.9110531891395905,
          0.9161721875001766,
          0.9211459312218527,
          0.925973631741772,
          0.9306545236515261,
          0.935187864818497,
          0.9395729365035184,
          0.9438090434748282,
          0.9478955141182944,
          0.9518317005438962,
          0.9556169786884434,
          0.9592507484145191,
          0.9627324336056285,
          0.9660614822575389,
          0.9692373665657978,
          0.9722595830094136,
          0.9751276524306862,
          0.9778411201111752,
          0.9803995558437935,
          0.9828025540010144,
          0.9850497335991816,
          0.9871407383589128,
          0.9890752367615858,
          0.9908529221018992,
          0.992473512536499,
          0.9939367511286633,
          0.9952424058890388,
          0.9963902698124213,
          0.9973801609105755,
          0.998211922241088,
          0.9988854219322504,
          0.9994005532039664,
          0.9997572343846811,
          0.9999554089243304,
          0.9999950454033061,
          0.9998761375374373,
          0.9995987041789873,
          0.999162789313664,
          0.9985684620536465,
          0.9978158166266278,
          0.9969049723608752,
          0.9958360736663117,
          0.9946092900116199,
          0.9932248158973744,
          0.9916828708252043,
          0.989983699262992,
          0.9881275706061142,
          0.986114779134731,
          0.9839456439671286,
          0.9816205090091248,
          0.9791397428995449,
          0.9765037389517748,
          0.9737129150914043,
          0.9707677137899663,
          0.9676686019947848,
          0.9644160710549436,
          0.9610106366433847,
          0.9574528386751506,
          0.9537432412217841,
          0.9498824324218971,
          0.9458710243879241,
          0.941709653109075,
          0.9373989783505013,
          0.932939683548695,
          0.9283324757031317,
          0.9235780852641798,
          0.9186772660172914,
          0.9136307949634929,
          0.9084394721961955,
          0.9031041207743439,
          0.8976255865919252,
          0.8920047382438554,
          0.8862424668882687,
          0.8803396861052282,
          0.874297331751883,
          0.8681163618140917,
          0.8617977562545388,
          0.8553425168573667,
          0.8487516670693471,
          0.842026251837619,
          0.8351673374440167,
          0.8281760113360176,
          0.8210533819543306,
          0.8138005785571594,
          0.8064187510411646,
          0.7989090697591519,
          0.7912727253345192,
          0.7835109284724887,
          0.7756249097681562,
          0.767615919511385,
          0.7594852274885794,
          0.7512341227813666,
          0.7428639135622178,
          0.7343759268870451,
          0.7257715084848019,
          0.7170520225441264,
          0.7082188514970533,
          0.6992733957998378,
          0.6902170737109201,
          0.6810513210660664,
          0.6717775910507243,
          0.6623973539696282,
          0.6529120970136896,
          0.6433233240242087,
          0.633632555254449,
          0.6238413271286091,
          0.6139511919982283,
          0.6039637178960706,
          0.5938804882875189,
          0.5837031018195269,
          0.5734331720671587,
          0.5630723272777653,
          0.5526222101128354,
          0.5420844773875569,
          0.5314607998081387,
          0.5207528617069271,
          0.5099623607753652,
          0.49909100779482957,
          0.4881405263653954,
          0.4771126526325694,
          0.4660091350120299,
          0.45483173391242554,
          0.4435822214562705,
          0.4322623811989846,
          0.4208740078461167,
          0.4094189069688045,
          0.3978988947175108,
          0.3863157975340793,
          0.3746714518621632,
          0.36296770385606475,
          0.35120640908803813,
          0.33938943225409535,
          0.3275186468783687,
          0.31559593501607397,
          0.3036231869551174,
          0.29160230091640127,
          0.2795351827528692,
          0.26742374564734456,
          0.25526990980920183,
          0.24307560216992805,
          0.2308427560776185,
          0.2185733109904513,
          0.20626921216919736,
          0.19393241036880798,
          0.18156486152913387,
          0.1691685264648177,
          0.15674537055441798,
          0.144297363428809,
          0.13182647865890293,
          0.11933469344275147,
          0.10682398829206982,
          0.09429634671823804,
          0.08175375491782225,
          0.0691982014576742,
          0.05663167695965503,
          0.044056173785029115,
          0.03147368571858678,
          0.018886207652538477,
          0.006295735270236124,
          -0.006295735270235435,
          -0.018886207652538234,
          -0.03147368571858609,
          -0.04405617378502842,
          -0.056631676959654334,
          -0.06919820145767396,
          -0.08175375491782155,
          -0.09429634671823735,
          -0.10682398829206957,
          -0.11933469344275077,
          -0.13182647865890226,
          -0.14429736342880833,
          -0.15674537055441776,
          -0.16916852646481706,
          -0.1815648615291332,
          -0.1939324103688078,
          -0.20626921216919672,
          -0.21857331099045063,
          -0.23084275607761784,
          -0.24307560216992782,
          -0.2552699098092012,
          -0.26742374564734395,
          -0.279535182752869,
          -0.2916023009164006,
          -0.3036231869551168,
          -0.31559593501607336,
          -0.32751864687836846,
          -0.33938943225409474,
          -0.3512064090880375,
          -0.3629677038560645,
          -0.3746714518621626,
          -0.3863157975340787,
          -0.39789889471751017,
          -0.40941890696880434,
          -0.4208740078461161,
          -0.43226238119898397,
          -0.4435822214562703,
          -0.45483173391242493,
          -0.46600913501202934,
          -0.47711265263256886,
          -0.48814052636539523,
          -0.49909100779482896,
          -0.5099623607753646,
          -0.5207528617069269,
          -0.5314607998081381,
          -0.5420844773875564,
          -0.5526222101128349,
          -0.5630723272777651,
          -0.5734331720671582,
          -0.5837031018195264,
          -0.5938804882875187,
          -0.6039637178960701,
          -0.6139511919982279,
          -0.6238413271286085,
          -0.6336325552544487,
          -0.6433233240242081,
          -0.652912097013689,
          -0.6623973539696281,
          -0.6717775910507239,
          -0.6810513210660658,
          -0.6902170737109197,
          -0.6992733957998376,
          -0.7082188514970529,
          -0.7170520225441258,
          -0.7257715084848017,
          -0.7343759268870445,
          -0.7428639135622173,
          -0.751234122781366,
          -0.7594852274885789,
          -0.7676159195113845,
          -0.775624909768156,
          -0.7835109284724882,
          -0.7912727253345188,
          -0.7989090697591518,
          -0.8064187510411641,
          -0.8138005785571591,
          -0.82105338195433,
          -0.8281760113360173,
          -0.8351673374440166,
          -0.8420262518376184,
          -0.8487516670693468,
          -0.8553425168573665,
          -0.8617977562545384,
          -0.8681163618140914,
          -0.8742973317518828,
          -0.8803396861052278,
          -0.8862424668882684,
          -0.8920047382438553,
          -0.8976255865919248,
          -0.9031041207743438,
          -0.908439472196195,
          -0.9136307949634926,
          -0.9186772660172913,
          -0.9235780852641795,
          -0.9283324757031315,
          -0.9329396835486949,
          -0.9373989783505011,
          -0.9417096531090747,
          -0.9458710243879241,
          -0.9498824324218968,
          -0.953743241221784,
          -0.9574528386751505,
          -0.9610106366433845,
          -0.9644160710549435,
          -0.9676686019947845,
          -0.9707677137899661,
          -0.9737129150914042,
          -0.9765037389517746,
          -0.9791397428995446,
          -0.9816205090091248,
          -0.9839456439671285,
          -0.986114779134731,
          -0.9881275706061142,
          -0.9899836992629919,
          -0.9916828708252043,
          -0.9932248158973744,
          -0.9946092900116198,
          -0.9958360736663115,
          -0.9969049723608752,
          -0.9978158166266278,
          -0.9985684620536465,
          -0.999162789313664,
          -0.9995987041789873,
          -0.9998761375374373,
          -0.9999950454033061,
          -0.9999554089243304,
          -0.9997572343846811,
          -0.9994005532039664,
          -0.9988854219322505,
          -0.998211922241088,
          -0.9973801609105755,
          -0.9963902698124213,
          -0.9952424058890389,
          -0.9939367511286633,
          -0.9924735125364991,
          -0.9908529221018993,
          -0.9890752367615859,
          -0.9871407383589128,
          -0.9850497335991817,
          -0.9828025540010145,
          -0.9803995558437936,
          -0.9778411201111754,
          -0.9751276524306863,
          -0.9722595830094137,
          -0.9692373665657981,
          -0.966061482257539,
          -0.9627324336056288,
          -0.9592507484145193,
          -0.9556169786884434,
          -0.9518317005438964,
          -0.9478955141182946,
          -0.9438090434748283,
          -0.9395729365035187,
          -0.9351878648184972,
          -0.9306545236515262,
          -0.9259736317417723,
          -0.921145931221853,
          -0.9161721875001767,
          -0.9110531891395909,
          -0.9057897477323571,
          -0.9003826977714802,
          -0.8948328965184005,
          -0.8891412238670815,
          -0.8833085822045061,
          -0.8773358962676064,
          -0.8712241129966534,
          -0.8649742013851228,
          -0.8585871523260652,
          -0.8520639784550066,
          -0.8454057139893995,
          -0.8386134145646505,
          -0.8316881570667581,
          -0.8246310394615755,
          -0.8174431806207325,
          -0.8101257201442473,
          -0.8026798181798438,
          -0.7951066552390204,
          -0.7874074320098834,
          -0.7795833691667823,
          -0.7716357071767811,
          -0.7635657061029868,
          -0.7553746454047705,
          -0.7470638237349192,
          -0.7386345587337385,
          -0.7300881868201459,
          -0.7214260629797911,
          -0.7126495605502283,
          -0.7037600710031783,
          -0.6947590037239213,
          -0.6856477857878416,
          -0.676427861734175,
          -0.6671006933369836,
          -0.6576677593733955,
          -0.6481305553891562,
          -0.6384905934615157,
          -0.6287494019594931,
          -0.6189085253015659,
          -0.6089695237108073,
          -0.5989339729675189,
          -0.5888034641594025,
          -0.5785796034292985,
          -0.5682640117205375,
          -0.5578583245199538,
          -0.5473641915985793,
          -0.5367832767500872,
          -0.5261172575270021,
          -0.515367824974731,
          -0.5045366833634599,
          -0.49362554991794855,
          -0.4826361545452699,
          -0.4715702395605469,
          -0.4604295594107141,
          -0.4492158803963569,
          -0.43793098039167727,
          -0.42657664856261845,
          -0.415154685083199,
          -0.40366690085010953,
          -0.3921151171955973,
          -0.38050116559870856,
          -0.36882688739491426,
          -0.35709413348417257,
          -0.3453047640374828,
          -0.33346064820196153,
          -0.32156366380449647,
          -0.30961569705403075,
          -0.2976186422425114,
          -0.2855744014445558,
          -0.27348488421589245,
          -0.26135200729060726,
          -0.24917769427725248,
          -0.2369638753538737,
          -0.2247124869619827,
          -0.21242547149955018,
          -0.2001047770130454,
          -0.18775235688858027,
          -0.17537016954221463,
          -0.16296017810945654,
          -0.15052435013401383,
          -0.138064657255855,
          -0.12558307489861273,
          -0.11308158195638733,
          -0.10056216048000803,
          -0.08802679536278585,
          -0.07547747402581581,
          -0.06291618610288711,
          -0.05034492312502936,
          -0.03776567820477121,
          -0.025180445720139406,
          -0.012591220998457192,
          -2.4492935982947064e-16
         ]
        },
        {
         "marker": {
          "color": "blue",
          "opacity": 0.8,
          "size": 4
         },
         "mode": "markers",
         "name": "(w, b)",
         "type": "scatter",
         "x": [
          -0.8716766974866981,
          0.5317181133549121,
          -0.9497331306143858,
          0.9786239272050732,
          -0.8476262297618845,
          -0.9965100312353519,
          0.8101454557504548,
          0.9310554377235568,
          0.9935737204792457,
          0.9063626279715857,
          -0.7842986036362151,
          -0.9816472364246983,
          0.7623229000532239,
          0.8927594916721061,
          0.9577920616874847,
          0.8423925968206384,
          0.8782830054248226,
          0.8174268116443983,
          0.7532141017580383,
          0.929583134266306,
          -0.967333247303088,
          -0.9994805641601034,
          0.912466255118284,
          0.9911635387838824,
          0.7845392153347786,
          0.9995609899090637,
          0.7374328210375922,
          0.944766842013881,
          0.9686830114540342,
          0.8596269689090736,
          -0.8270124334777721,
          -0.7323544377402083,
          -0.8624431611538446,
          -0.8923478548047247,
          0.8328751834201994,
          -0.8021496739184074,
          -0.9854619345706781,
          -0.9178586124309774,
          0.7697445422496361,
          0.9888333361750048,
          0.9398484139356696,
          -0.9584583418917186,
          -0.9749386663248043,
          -0.9972725431645652,
          0.7972231771998607,
          0.8814330422026275,
          -0.9024320349805848,
          0.9216206848751622,
          0.7745356046419789,
          0.7503425803971641,
          0.7276428442964031,
          0.819031096265436,
          0.938765294449372,
          0.951379555925514,
          0.8518261137074614,
          0.8338720300730679,
          -0.963485281077544,
          0.9734350367345689,
          -0.8707872518835527,
          -0.7932903369757776,
          -0.9856937086038184,
          -0.7428763402762208,
          0.9944151357092526,
          0.9985074728137413
         ],
         "y": [
          0.4900813555509774,
          0.8469213941861975,
          -0.313060666027206,
          -0.20565799060994377,
          -0.5305937943659472,
          0.08347309535004699,
          -0.5862289147823465,
          -0.3648777492330769,
          0.11318684540630057,
          0.4225006350485653,
          -0.6203835106885766,
          -0.19070580279517615,
          -0.6471968758070781,
          -0.45053356149055407,
          -0.2874619393388238,
          -0.5388642805213399,
          0.4781411531984473,
          0.5760324709639842,
          0.6577754304569543,
          0.3686125289346943,
          -0.2535081629101181,
          -0.03222734655849699,
          -0.4091519684303312,
          -0.13264554039021145,
          -0.6200792042972334,
          -0.0296281530307329,
          -0.6754204871459989,
          -0.32774321385975097,
          -0.2483006712039722,
          -0.5109221803016564,
          0.5621836309189139,
          -0.6809236209166365,
          -0.5061539230105441,
          -0.45134832006489867,
          0.5534608647797686,
          -0.5971230196806958,
          0.1698963669776862,
          -0.39690750507678846,
          0.638352049951199,
          0.1490256127952842,
          0.34159180145695267,
          -0.28523254873554926,
          -0.22247381172805916,
          -0.07380700949151345,
          -0.6036846906584261,
          -0.47230900066949927,
          0.43083224373391604,
          -0.3880918875862221,
          -0.6325303132197572,
          -0.6610491752078096,
          -0.6859561874815624,
          -0.5737491292805925,
          -0.3445572839708717,
          -0.30802100669754917,
          -0.5238246576919066,
          -0.5519578221764961,
          0.2677612988221523,
          -0.22896337973040295,
          -0.49166000646492514,
          -0.6088435277317625,
          -0.16854647079915636,
          -0.6694286691334697,
          -0.1055392717065489,
          -0.05461526100931624
         ]
        }
       ],
       "layout": {
        "height": 600,
        "showlegend": true,
        "template": {
         "data": {
          "bar": [
           {
            "error_x": {
             "color": "#2a3f5f"
            },
            "error_y": {
             "color": "#2a3f5f"
            },
            "marker": {
             "line": {
              "color": "#E5ECF6",
              "width": 0.5
             },
             "pattern": {
              "fillmode": "overlay",
              "size": 10,
              "solidity": 0.2
             }
            },
            "type": "bar"
           }
          ],
          "barpolar": [
           {
            "marker": {
             "line": {
              "color": "#E5ECF6",
              "width": 0.5
             },
             "pattern": {
              "fillmode": "overlay",
              "size": 10,
              "solidity": 0.2
             }
            },
            "type": "barpolar"
           }
          ],
          "carpet": [
           {
            "aaxis": {
             "endlinecolor": "#2a3f5f",
             "gridcolor": "white",
             "linecolor": "white",
             "minorgridcolor": "white",
             "startlinecolor": "#2a3f5f"
            },
            "baxis": {
             "endlinecolor": "#2a3f5f",
             "gridcolor": "white",
             "linecolor": "white",
             "minorgridcolor": "white",
             "startlinecolor": "#2a3f5f"
            },
            "type": "carpet"
           }
          ],
          "choropleth": [
           {
            "colorbar": {
             "outlinewidth": 0,
             "ticks": ""
            },
            "type": "choropleth"
           }
          ],
          "contour": [
           {
            "colorbar": {
             "outlinewidth": 0,
             "ticks": ""
            },
            "colorscale": [
             [
              0,
              "#0d0887"
             ],
             [
              0.1111111111111111,
              "#46039f"
             ],
             [
              0.2222222222222222,
              "#7201a8"
             ],
             [
              0.3333333333333333,
              "#9c179e"
             ],
             [
              0.4444444444444444,
              "#bd3786"
             ],
             [
              0.5555555555555556,
              "#d8576b"
             ],
             [
              0.6666666666666666,
              "#ed7953"
             ],
             [
              0.7777777777777778,
              "#fb9f3a"
             ],
             [
              0.8888888888888888,
              "#fdca26"
             ],
             [
              1,
              "#f0f921"
             ]
            ],
            "type": "contour"
           }
          ],
          "contourcarpet": [
           {
            "colorbar": {
             "outlinewidth": 0,
             "ticks": ""
            },
            "type": "contourcarpet"
           }
          ],
          "heatmap": [
           {
            "colorbar": {
             "outlinewidth": 0,
             "ticks": ""
            },
            "colorscale": [
             [
              0,
              "#0d0887"
             ],
             [
              0.1111111111111111,
              "#46039f"
             ],
             [
              0.2222222222222222,
              "#7201a8"
             ],
             [
              0.3333333333333333,
              "#9c179e"
             ],
             [
              0.4444444444444444,
              "#bd3786"
             ],
             [
              0.5555555555555556,
              "#d8576b"
             ],
             [
              0.6666666666666666,
              "#ed7953"
             ],
             [
              0.7777777777777778,
              "#fb9f3a"
             ],
             [
              0.8888888888888888,
              "#fdca26"
             ],
             [
              1,
              "#f0f921"
             ]
            ],
            "type": "heatmap"
           }
          ],
          "heatmapgl": [
           {
            "colorbar": {
             "outlinewidth": 0,
             "ticks": ""
            },
            "colorscale": [
             [
              0,
              "#0d0887"
             ],
             [
              0.1111111111111111,
              "#46039f"
             ],
             [
              0.2222222222222222,
              "#7201a8"
             ],
             [
              0.3333333333333333,
              "#9c179e"
             ],
             [
              0.4444444444444444,
              "#bd3786"
             ],
             [
              0.5555555555555556,
              "#d8576b"
             ],
             [
              0.6666666666666666,
              "#ed7953"
             ],
             [
              0.7777777777777778,
              "#fb9f3a"
             ],
             [
              0.8888888888888888,
              "#fdca26"
             ],
             [
              1,
              "#f0f921"
             ]
            ],
            "type": "heatmapgl"
           }
          ],
          "histogram": [
           {
            "marker": {
             "pattern": {
              "fillmode": "overlay",
              "size": 10,
              "solidity": 0.2
             }
            },
            "type": "histogram"
           }
          ],
          "histogram2d": [
           {
            "colorbar": {
             "outlinewidth": 0,
             "ticks": ""
            },
            "colorscale": [
             [
              0,
              "#0d0887"
             ],
             [
              0.1111111111111111,
              "#46039f"
             ],
             [
              0.2222222222222222,
              "#7201a8"
             ],
             [
              0.3333333333333333,
              "#9c179e"
             ],
             [
              0.4444444444444444,
              "#bd3786"
             ],
             [
              0.5555555555555556,
              "#d8576b"
             ],
             [
              0.6666666666666666,
              "#ed7953"
             ],
             [
              0.7777777777777778,
              "#fb9f3a"
             ],
             [
              0.8888888888888888,
              "#fdca26"
             ],
             [
              1,
              "#f0f921"
             ]
            ],
            "type": "histogram2d"
           }
          ],
          "histogram2dcontour": [
           {
            "colorbar": {
             "outlinewidth": 0,
             "ticks": ""
            },
            "colorscale": [
             [
              0,
              "#0d0887"
             ],
             [
              0.1111111111111111,
              "#46039f"
             ],
             [
              0.2222222222222222,
              "#7201a8"
             ],
             [
              0.3333333333333333,
              "#9c179e"
             ],
             [
              0.4444444444444444,
              "#bd3786"
             ],
             [
              0.5555555555555556,
              "#d8576b"
             ],
             [
              0.6666666666666666,
              "#ed7953"
             ],
             [
              0.7777777777777778,
              "#fb9f3a"
             ],
             [
              0.8888888888888888,
              "#fdca26"
             ],
             [
              1,
              "#f0f921"
             ]
            ],
            "type": "histogram2dcontour"
           }
          ],
          "mesh3d": [
           {
            "colorbar": {
             "outlinewidth": 0,
             "ticks": ""
            },
            "type": "mesh3d"
           }
          ],
          "parcoords": [
           {
            "line": {
             "colorbar": {
              "outlinewidth": 0,
              "ticks": ""
             }
            },
            "type": "parcoords"
           }
          ],
          "pie": [
           {
            "automargin": true,
            "type": "pie"
           }
          ],
          "scatter": [
           {
            "fillpattern": {
             "fillmode": "overlay",
             "size": 10,
             "solidity": 0.2
            },
            "type": "scatter"
           }
          ],
          "scatter3d": [
           {
            "line": {
             "colorbar": {
              "outlinewidth": 0,
              "ticks": ""
             }
            },
            "marker": {
             "colorbar": {
              "outlinewidth": 0,
              "ticks": ""
             }
            },
            "type": "scatter3d"
           }
          ],
          "scattercarpet": [
           {
            "marker": {
             "colorbar": {
              "outlinewidth": 0,
              "ticks": ""
             }
            },
            "type": "scattercarpet"
           }
          ],
          "scattergeo": [
           {
            "marker": {
             "colorbar": {
              "outlinewidth": 0,
              "ticks": ""
             }
            },
            "type": "scattergeo"
           }
          ],
          "scattergl": [
           {
            "marker": {
             "colorbar": {
              "outlinewidth": 0,
              "ticks": ""
             }
            },
            "type": "scattergl"
           }
          ],
          "scattermapbox": [
           {
            "marker": {
             "colorbar": {
              "outlinewidth": 0,
              "ticks": ""
             }
            },
            "type": "scattermapbox"
           }
          ],
          "scatterpolar": [
           {
            "marker": {
             "colorbar": {
              "outlinewidth": 0,
              "ticks": ""
             }
            },
            "type": "scatterpolar"
           }
          ],
          "scatterpolargl": [
           {
            "marker": {
             "colorbar": {
              "outlinewidth": 0,
              "ticks": ""
             }
            },
            "type": "scatterpolargl"
           }
          ],
          "scatterternary": [
           {
            "marker": {
             "colorbar": {
              "outlinewidth": 0,
              "ticks": ""
             }
            },
            "type": "scatterternary"
           }
          ],
          "surface": [
           {
            "colorbar": {
             "outlinewidth": 0,
             "ticks": ""
            },
            "colorscale": [
             [
              0,
              "#0d0887"
             ],
             [
              0.1111111111111111,
              "#46039f"
             ],
             [
              0.2222222222222222,
              "#7201a8"
             ],
             [
              0.3333333333333333,
              "#9c179e"
             ],
             [
              0.4444444444444444,
              "#bd3786"
             ],
             [
              0.5555555555555556,
              "#d8576b"
             ],
             [
              0.6666666666666666,
              "#ed7953"
             ],
             [
              0.7777777777777778,
              "#fb9f3a"
             ],
             [
              0.8888888888888888,
              "#fdca26"
             ],
             [
              1,
              "#f0f921"
             ]
            ],
            "type": "surface"
           }
          ],
          "table": [
           {
            "cells": {
             "fill": {
              "color": "#EBF0F8"
             },
             "line": {
              "color": "white"
             }
            },
            "header": {
             "fill": {
              "color": "#C8D4E3"
             },
             "line": {
              "color": "white"
             }
            },
            "type": "table"
           }
          ]
         },
         "layout": {
          "annotationdefaults": {
           "arrowcolor": "#2a3f5f",
           "arrowhead": 0,
           "arrowwidth": 1
          },
          "autotypenumbers": "strict",
          "coloraxis": {
           "colorbar": {
            "outlinewidth": 0,
            "ticks": ""
           }
          },
          "colorscale": {
           "diverging": [
            [
             0,
             "#8e0152"
            ],
            [
             0.1,
             "#c51b7d"
            ],
            [
             0.2,
             "#de77ae"
            ],
            [
             0.3,
             "#f1b6da"
            ],
            [
             0.4,
             "#fde0ef"
            ],
            [
             0.5,
             "#f7f7f7"
            ],
            [
             0.6,
             "#e6f5d0"
            ],
            [
             0.7,
             "#b8e186"
            ],
            [
             0.8,
             "#7fbc41"
            ],
            [
             0.9,
             "#4d9221"
            ],
            [
             1,
             "#276419"
            ]
           ],
           "sequential": [
            [
             0,
             "#0d0887"
            ],
            [
             0.1111111111111111,
             "#46039f"
            ],
            [
             0.2222222222222222,
             "#7201a8"
            ],
            [
             0.3333333333333333,
             "#9c179e"
            ],
            [
             0.4444444444444444,
             "#bd3786"
            ],
            [
             0.5555555555555556,
             "#d8576b"
            ],
            [
             0.6666666666666666,
             "#ed7953"
            ],
            [
             0.7777777777777778,
             "#fb9f3a"
            ],
            [
             0.8888888888888888,
             "#fdca26"
            ],
            [
             1,
             "#f0f921"
            ]
           ],
           "sequentialminus": [
            [
             0,
             "#0d0887"
            ],
            [
             0.1111111111111111,
             "#46039f"
            ],
            [
             0.2222222222222222,
             "#7201a8"
            ],
            [
             0.3333333333333333,
             "#9c179e"
            ],
            [
             0.4444444444444444,
             "#bd3786"
            ],
            [
             0.5555555555555556,
             "#d8576b"
            ],
            [
             0.6666666666666666,
             "#ed7953"
            ],
            [
             0.7777777777777778,
             "#fb9f3a"
            ],
            [
             0.8888888888888888,
             "#fdca26"
            ],
            [
             1,
             "#f0f921"
            ]
           ]
          },
          "colorway": [
           "#636efa",
           "#EF553B",
           "#00cc96",
           "#ab63fa",
           "#FFA15A",
           "#19d3f3",
           "#FF6692",
           "#B6E880",
           "#FF97FF",
           "#FECB52"
          ],
          "font": {
           "color": "#2a3f5f"
          },
          "geo": {
           "bgcolor": "white",
           "lakecolor": "white",
           "landcolor": "#E5ECF6",
           "showlakes": true,
           "showland": true,
           "subunitcolor": "white"
          },
          "hoverlabel": {
           "align": "left"
          },
          "hovermode": "closest",
          "mapbox": {
           "style": "light"
          },
          "paper_bgcolor": "white",
          "plot_bgcolor": "#E5ECF6",
          "polar": {
           "angularaxis": {
            "gridcolor": "white",
            "linecolor": "white",
            "ticks": ""
           },
           "bgcolor": "#E5ECF6",
           "radialaxis": {
            "gridcolor": "white",
            "linecolor": "white",
            "ticks": ""
           }
          },
          "scene": {
           "xaxis": {
            "backgroundcolor": "#E5ECF6",
            "gridcolor": "white",
            "gridwidth": 2,
            "linecolor": "white",
            "showbackground": true,
            "ticks": "",
            "zerolinecolor": "white"
           },
           "yaxis": {
            "backgroundcolor": "#E5ECF6",
            "gridcolor": "white",
            "gridwidth": 2,
            "linecolor": "white",
            "showbackground": true,
            "ticks": "",
            "zerolinecolor": "white"
           },
           "zaxis": {
            "backgroundcolor": "#E5ECF6",
            "gridcolor": "white",
            "gridwidth": 2,
            "linecolor": "white",
            "showbackground": true,
            "ticks": "",
            "zerolinecolor": "white"
           }
          },
          "shapedefaults": {
           "line": {
            "color": "#2a3f5f"
           }
          },
          "ternary": {
           "aaxis": {
            "gridcolor": "white",
            "linecolor": "white",
            "ticks": ""
           },
           "baxis": {
            "gridcolor": "white",
            "linecolor": "white",
            "ticks": ""
           },
           "bgcolor": "#E5ECF6",
           "caxis": {
            "gridcolor": "white",
            "linecolor": "white",
            "ticks": ""
           }
          },
          "title": {
           "x": 0.05
          },
          "xaxis": {
           "automargin": true,
           "gridcolor": "white",
           "linecolor": "white",
           "ticks": "",
           "title": {
            "standoff": 15
           },
           "zerolinecolor": "white",
           "zerolinewidth": 2
          },
          "yaxis": {
           "automargin": true,
           "gridcolor": "white",
           "linecolor": "white",
           "ticks": "",
           "title": {
            "standoff": 15
           },
           "zerolinecolor": "white",
           "zerolinewidth": 2
          }
         }
        },
        "title": {
         "text": "Interactive Distribution of (w, b)"
        },
        "width": 600,
        "xaxis": {
         "scaleanchor": "y",
         "scaleratio": 1,
         "title": {
          "text": "w"
         }
        },
        "yaxis": {
         "scaleanchor": "x",
         "scaleratio": 1,
         "title": {
          "text": "b"
         }
        }
       }
      }
     },
     "metadata": {},
     "output_type": "display_data"
    }
   ],
   "source": [
    "import torch\n",
    "import numpy as np\n",
    "import plotly.graph_objects as go\n",
    "\n",
    "def plot_parameters_on_circle_interactive(my_model):\n",
    "    w = my_model.fc1.weight.data.view(-1).cpu().numpy()\n",
    "    b = my_model.fc1.bias.data.view(-1).cpu().numpy()\n",
    "    norms = np.sqrt(w**2 + b**2)\n",
    "    w_norm = w / norms\n",
    "    b_norm = b / norms\n",
    "\n",
    "    # Unit circle\n",
    "    theta = np.linspace(0, 2 * np.pi, 500)\n",
    "    x_circle = np.cos(theta)\n",
    "    y_circle = np.sin(theta)\n",
    "\n",
    "    fig = go.Figure()\n",
    "\n",
    "    # Add unit circle\n",
    "    fig.add_trace(go.Scatter(\n",
    "        x=x_circle, y=y_circle,\n",
    "        mode='lines',\n",
    "        name='Unit Circle',\n",
    "        line=dict(color='red', dash='dash', width=1)\n",
    "    ))\n",
    "\n",
    "    # Add (w, b) points\n",
    "    fig.add_trace(go.Scatter(\n",
    "        x=w, y=b,\n",
    "        mode='markers',\n",
    "        name='(w, b)',\n",
    "        marker=dict(color='blue', size=4, opacity=0.8)\n",
    "    ))\n",
    "\n",
    "    # Plot layout\n",
    "    fig.update_layout(\n",
    "        title=\"Interactive Distribution of (w, b)\",\n",
    "        xaxis_title=\"w\",\n",
    "        yaxis_title=\"b\",\n",
    "        width=600, height=600,\n",
    "        showlegend=True,\n",
    "        xaxis=dict(scaleanchor='y', scaleratio=1),\n",
    "        yaxis=dict(scaleanchor='x', scaleratio=1),\n",
    "    )\n",
    "\n",
    "    fig.show()\n",
    "\n",
    "plot_parameters_on_circle_interactive(my_model) "
   ]
  },
  {
   "cell_type": "code",
   "execution_count": 29,
   "metadata": {},
   "outputs": [
    {
     "name": "stdout",
     "output_type": "stream",
     "text": [
      "torch.Size([2, 128])\n",
      "tensor([1.0000, 1.0000, 1.0000, 1.0000, 1.0000, 1.0000, 1.0000, 1.0000, 1.0000,\n",
      "        1.0000, 1.0000, 1.0000, 1.0000, 1.0000, 1.0000, 1.0000, 1.0000, 1.0000,\n",
      "        1.0000, 1.0000, 1.0000, 1.0000, 1.0000, 1.0000, 1.0000, 1.0000, 1.0000,\n",
      "        1.0000, 1.0000, 1.0000, 1.0000, 1.0000, 1.0000, 1.0000, 1.0000, 1.0000,\n",
      "        1.0000, 1.0000, 1.0000, 1.0000, 1.0000, 1.0000, 1.0000, 1.0000, 1.0000,\n",
      "        1.0000, 1.0000, 1.0000, 1.0000, 1.0000, 1.0000, 1.0000, 1.0000, 1.0000,\n",
      "        1.0000, 1.0000, 1.0000, 1.0000, 1.0000, 1.0000, 1.0000, 1.0000, 1.0000,\n",
      "        1.0000, 1.0000, 1.0000, 1.0000, 1.0000, 1.0000, 1.0000, 1.0000, 1.0000,\n",
      "        1.0000, 1.0000, 1.0000, 1.0000, 1.0000, 1.0000, 1.0000, 1.0000, 1.0000,\n",
      "        1.0000, 1.0000, 1.0000, 1.0000, 1.0000, 1.0000, 1.0000, 1.0000, 1.0000,\n",
      "        1.0000, 1.0000, 1.0000, 1.0000, 1.0000, 1.0000, 1.0000, 1.0000, 1.0000,\n",
      "        1.0000, 1.0000, 1.0000, 1.0000, 1.0000, 1.0000, 1.0000, 1.0000, 1.0000,\n",
      "        1.0000, 1.0000, 1.0000, 1.0000, 1.0000, 1.0000, 1.0000, 1.0000, 1.0000,\n",
      "        1.0000, 1.0000, 1.0000, 1.0000, 1.0000, 1.0000, 1.0000, 1.0000, 1.0000,\n",
      "        1.0000, 1.0000])\n"
     ]
    }
   ],
   "source": [
    "w_uns = w.squeeze(1)  \n",
    "w_uns \n",
    "combined = torch.cat((w_uns.view(1,-1), b.view(1,-1)), dim=0) \n",
    "print(combined.shape)\n",
    "print(combined.norm(dim = 0))"
   ]
  },
  {
   "cell_type": "code",
   "execution_count": null,
   "metadata": {},
   "outputs": [],
   "source": []
  },
  {
   "cell_type": "code",
   "execution_count": null,
   "metadata": {},
   "outputs": [],
   "source": []
  },
  {
   "cell_type": "markdown",
   "metadata": {},
   "source": [
    "## An oscillatory example  (added to thesis defense)"
   ]
  },
  {
   "cell_type": "code",
   "execution_count": 5,
   "metadata": {},
   "outputs": [],
   "source": [
    "\n",
    "\n",
    "def target(x):\n",
    "    return 10*(torch.sin(2*pi*x) + torch.sin(2*pi*3*x)) + 10*( \\\n",
    "            torch.sin(2*pi*4*x) + torch.sin(2*pi*9*x) + torch.sin(2*pi*13*x)- torch.sin(2*pi*x) - torch.sin(2*pi*3*x) \\\n",
    "            )* torch.heaviside(x-0.5,torch.tensor([0.0]))\n"
   ]
  },
  {
   "cell_type": "code",
   "execution_count": 12,
   "metadata": {},
   "outputs": [
    {
     "data": {
      "image/png": "[encoded data removed]",
      "text/plain": [
       "<Figure size 640x480 with 1 Axes>"
      ]
     },
     "metadata": {},
     "output_type": "display_data"
    }
   ],
   "source": [
    "x_coord = torch.linspace(0,1,1000)\n",
    "u_true = target(x_coord) \n",
    "plt.plot(x_coord,u_true)\n",
    "plt.show() "
   ]
  },
  {
   "cell_type": "code",
   "execution_count": 16,
   "metadata": {},
   "outputs": [
    {
     "name": "stdout",
     "output_type": "stream",
     "text": [
      "epoch  1\n",
      "assembling the matrix time taken:  0.017663955688476562\n",
      "solving Ax = b time taken:  0.0002741813659667969\n",
      "epoch  2\n",
      "assembling the matrix time taken:  0.0016820430755615234\n",
      "solving Ax = b time taken:  0.00013589859008789062\n",
      "epoch  3\n",
      "assembling the matrix time taken:  0.0025742053985595703\n",
      "solving Ax = b time taken:  0.00016617774963378906\n",
      "epoch  4\n",
      "assembling the matrix time taken:  0.0037980079650878906\n",
      "solving Ax = b time taken:  0.00013685226440429688\n",
      "epoch  5\n",
      "assembling the matrix time taken:  0.0015358924865722656\n",
      "solving Ax = b time taken:  0.00011396408081054688\n",
      "epoch  6\n",
      "assembling the matrix time taken:  0.0034761428833007812\n",
      "solving Ax = b time taken:  0.00017976760864257812\n",
      "epoch  7\n",
      "assembling the matrix time taken:  0.006040811538696289\n",
      "solving Ax = b time taken:  0.0005030632019042969\n",
      "epoch  8\n",
      "assembling the matrix time taken:  0.00426173210144043\n",
      "solving Ax = b time taken:  0.00019693374633789062\n",
      "epoch  9\n",
      "assembling the matrix time taken:  0.003911256790161133\n",
      "solving Ax = b time taken:  0.00013208389282226562\n",
      "epoch  10\n",
      "assembling the matrix time taken:  0.001867055892944336\n",
      "solving Ax = b time taken:  0.00016379356384277344\n",
      "epoch  11\n",
      "assembling the matrix time taken:  0.002146005630493164\n",
      "solving Ax = b time taken:  0.00013375282287597656\n",
      "epoch  12\n",
      "assembling the matrix time taken:  0.003072023391723633\n",
      "solving Ax = b time taken:  0.0001430511474609375\n",
      "epoch  13\n",
      "assembling the matrix time taken:  0.0038781166076660156\n",
      "solving Ax = b time taken:  0.00013589859008789062\n",
      "epoch  14\n",
      "assembling the matrix time taken:  0.0019218921661376953\n",
      "solving Ax = b time taken:  0.00011873245239257812\n",
      "epoch  15\n",
      "assembling the matrix time taken:  0.002207040786743164\n",
      "solving Ax = b time taken:  0.0003719329833984375\n",
      "epoch  16\n",
      "assembling the matrix time taken:  0.0019268989562988281\n",
      "solving Ax = b time taken:  0.00013113021850585938\n",
      "epoch  17\n",
      "assembling the matrix time taken:  0.0013339519500732422\n",
      "solving Ax = b time taken:  0.00014781951904296875\n",
      "epoch  18\n",
      "assembling the matrix time taken:  0.0017080307006835938\n",
      "solving Ax = b time taken:  0.00015306472778320312\n",
      "epoch  19\n",
      "assembling the matrix time taken:  0.0011029243469238281\n",
      "solving Ax = b time taken:  0.00013518333435058594\n",
      "epoch  20\n",
      "assembling the matrix time taken:  0.0019712448120117188\n",
      "solving Ax = b time taken:  0.0001690387725830078\n",
      "epoch  21\n",
      "assembling the matrix time taken:  0.0014491081237792969\n",
      "solving Ax = b time taken:  0.0002570152282714844\n",
      "epoch  22\n",
      "assembling the matrix time taken:  0.0014719963073730469\n",
      "solving Ax = b time taken:  0.00013494491577148438\n",
      "epoch  23\n",
      "assembling the matrix time taken:  0.0009617805480957031\n",
      "solving Ax = b time taken:  0.00014328956604003906\n",
      "epoch  24\n",
      "assembling the matrix time taken:  0.0009140968322753906\n",
      "solving Ax = b time taken:  0.00015091896057128906\n",
      "epoch  25\n",
      "assembling the matrix time taken:  0.0013270378112792969\n",
      "solving Ax = b time taken:  0.00015926361083984375\n",
      "epoch  26\n",
      "assembling the matrix time taken:  0.0014090538024902344\n",
      "solving Ax = b time taken:  0.0001609325408935547\n",
      "epoch  27\n",
      "assembling the matrix time taken:  0.0014009475708007812\n",
      "solving Ax = b time taken:  0.00015091896057128906\n",
      "epoch  28\n",
      "assembling the matrix time taken:  0.002270936965942383\n",
      "solving Ax = b time taken:  0.0004000663757324219\n",
      "epoch  29\n",
      "assembling the matrix time taken:  0.0014955997467041016\n",
      "solving Ax = b time taken:  0.00018095970153808594\n",
      "epoch  30\n",
      "assembling the matrix time taken:  0.0012450218200683594\n",
      "solving Ax = b time taken:  0.0001499652862548828\n",
      "epoch  31\n",
      "assembling the matrix time taken:  0.0019071102142333984\n",
      "solving Ax = b time taken:  0.00019097328186035156\n",
      "epoch  32\n",
      "assembling the matrix time taken:  0.0023097991943359375\n",
      "solving Ax = b time taken:  0.000164031982421875\n",
      "epoch  33\n",
      "assembling the matrix time taken:  0.0013680458068847656\n",
      "solving Ax = b time taken:  0.00015687942504882812\n",
      "epoch  34\n",
      "assembling the matrix time taken:  0.0018761157989501953\n",
      "solving Ax = b time taken:  0.00016570091247558594\n",
      "epoch  35\n",
      "assembling the matrix time taken:  0.0017910003662109375\n",
      "solving Ax = b time taken:  0.00016617774963378906\n",
      "epoch  36\n",
      "assembling the matrix time taken:  0.004410982131958008\n",
      "solving Ax = b time taken:  0.00017976760864257812\n",
      "epoch  37\n",
      "assembling the matrix time taken:  0.0018849372863769531\n",
      "solving Ax = b time taken:  0.00017571449279785156\n",
      "epoch  38\n",
      "assembling the matrix time taken:  0.002154111862182617\n",
      "solving Ax = b time taken:  0.00015783309936523438\n",
      "epoch  39\n",
      "assembling the matrix time taken:  0.0015790462493896484\n",
      "solving Ax = b time taken:  0.0001652240753173828\n",
      "epoch  40\n",
      "assembling the matrix time taken:  0.0025861263275146484\n",
      "solving Ax = b time taken:  0.00016689300537109375\n",
      "epoch  41\n",
      "assembling the matrix time taken:  0.0026082992553710938\n",
      "solving Ax = b time taken:  0.0004570484161376953\n",
      "epoch  42\n",
      "assembling the matrix time taken:  0.0015637874603271484\n",
      "solving Ax = b time taken:  0.0001609325408935547\n",
      "epoch  43\n",
      "assembling the matrix time taken:  0.0014650821685791016\n",
      "solving Ax = b time taken:  0.00016307830810546875\n",
      "epoch  44\n",
      "assembling the matrix time taken:  0.0019221305847167969\n",
      "solving Ax = b time taken:  0.0001659393310546875\n",
      "epoch  45\n",
      "assembling the matrix time taken:  0.002196073532104492\n",
      "solving Ax = b time taken:  0.00018095970153808594\n",
      "epoch  46\n",
      "assembling the matrix time taken:  0.0018742084503173828\n",
      "solving Ax = b time taken:  0.00018596649169921875\n",
      "epoch  47\n",
      "assembling the matrix time taken:  0.0031099319458007812\n",
      "solving Ax = b time taken:  0.00024819374084472656\n",
      "epoch  48\n",
      "assembling the matrix time taken:  0.0025479793548583984\n",
      "solving Ax = b time taken:  0.00021600723266601562\n",
      "epoch  49\n",
      "assembling the matrix time taken:  0.001664876937866211\n",
      "solving Ax = b time taken:  0.0001709461212158203\n",
      "epoch  50\n",
      "assembling the matrix time taken:  0.003607034683227539\n",
      "solving Ax = b time taken:  0.00019097328186035156\n",
      "epoch  51\n",
      "assembling the matrix time taken:  0.004178762435913086\n",
      "solving Ax = b time taken:  0.00020766258239746094\n",
      "epoch  52\n",
      "assembling the matrix time taken:  0.005040884017944336\n",
      "solving Ax = b time taken:  0.0006268024444580078\n",
      "epoch  53\n",
      "assembling the matrix time taken:  0.002666950225830078\n",
      "solving Ax = b time taken:  0.0001888275146484375\n",
      "epoch  54\n",
      "assembling the matrix time taken:  0.003062725067138672\n",
      "solving Ax = b time taken:  0.0002849102020263672\n",
      "epoch  55\n",
      "assembling the matrix time taken:  0.0017137527465820312\n",
      "solving Ax = b time taken:  0.00017309188842773438\n",
      "epoch  56\n",
      "assembling the matrix time taken:  0.008507966995239258\n",
      "solving Ax = b time taken:  0.0002276897430419922\n",
      "epoch  57\n",
      "assembling the matrix time taken:  0.003473997116088867\n",
      "solving Ax = b time taken:  0.0001919269561767578\n",
      "epoch  58\n",
      "assembling the matrix time taken:  0.0017328262329101562\n",
      "solving Ax = b time taken:  0.0001747608184814453\n",
      "epoch  59\n",
      "assembling the matrix time taken:  0.004250049591064453\n",
      "solving Ax = b time taken:  0.0001990795135498047\n",
      "epoch  60\n",
      "assembling the matrix time taken:  0.0028569698333740234\n",
      "solving Ax = b time taken:  0.0003139972686767578\n",
      "epoch  61\n",
      "assembling the matrix time taken:  0.002813100814819336\n",
      "solving Ax = b time taken:  0.00023508071899414062\n",
      "epoch  62\n",
      "assembling the matrix time taken:  0.002356290817260742\n",
      "solving Ax = b time taken:  0.00018310546875\n",
      "epoch  63\n",
      "assembling the matrix time taken:  0.003403902053833008\n",
      "solving Ax = b time taken:  0.0004177093505859375\n",
      "epoch  64\n",
      "assembling the matrix time taken:  0.002531290054321289\n",
      "solving Ax = b time taken:  0.00021505355834960938\n",
      "epoch  65\n",
      "assembling the matrix time taken:  0.002206087112426758\n",
      "solving Ax = b time taken:  0.0001819133758544922\n",
      "epoch  66\n",
      "assembling the matrix time taken:  0.0019180774688720703\n",
      "solving Ax = b time taken:  0.00018787384033203125\n",
      "epoch  67\n",
      "assembling the matrix time taken:  0.0034377574920654297\n",
      "solving Ax = b time taken:  0.00024390220642089844\n",
      "epoch  68\n",
      "assembling the matrix time taken:  0.002215862274169922\n",
      "solving Ax = b time taken:  0.00018978118896484375\n",
      "epoch  69\n",
      "assembling the matrix time taken:  0.003290891647338867\n",
      "solving Ax = b time taken:  0.00021409988403320312\n",
      "epoch  70\n",
      "assembling the matrix time taken:  0.005318164825439453\n",
      "solving Ax = b time taken:  0.0002028942108154297\n",
      "epoch  71\n",
      "assembling the matrix time taken:  0.00766301155090332\n",
      "solving Ax = b time taken:  0.00020503997802734375\n",
      "epoch  72\n",
      "assembling the matrix time taken:  0.0025873184204101562\n",
      "solving Ax = b time taken:  0.00023698806762695312\n",
      "epoch  73\n",
      "assembling the matrix time taken:  0.002772092819213867\n",
      "solving Ax = b time taken:  0.0005099773406982422\n",
      "epoch  74\n",
      "assembling the matrix time taken:  0.005745887756347656\n",
      "solving Ax = b time taken:  0.00031495094299316406\n",
      "epoch  75\n",
      "assembling the matrix time taken:  0.04656791687011719\n",
      "solving Ax = b time taken:  0.0002880096435546875\n",
      "epoch  76\n",
      "assembling the matrix time taken:  0.00919795036315918\n",
      "solving Ax = b time taken:  0.00035834312438964844\n",
      "epoch  77\n",
      "assembling the matrix time taken:  0.01353001594543457\n",
      "solving Ax = b time taken:  0.0006568431854248047\n",
      "epoch  78\n",
      "assembling the matrix time taken:  0.00362396240234375\n",
      "solving Ax = b time taken:  0.00021004676818847656\n",
      "epoch  79\n",
      "assembling the matrix time taken:  0.008480072021484375\n",
      "solving Ax = b time taken:  0.000335693359375\n",
      "epoch  80\n",
      "assembling the matrix time taken:  0.0065670013427734375\n",
      "solving Ax = b time taken:  0.0002598762512207031\n",
      "epoch  81\n",
      "assembling the matrix time taken:  0.005280971527099609\n",
      "solving Ax = b time taken:  0.00021982192993164062\n",
      "epoch  82\n",
      "assembling the matrix time taken:  0.008085012435913086\n",
      "solving Ax = b time taken:  0.00026917457580566406\n",
      "epoch  83\n",
      "assembling the matrix time taken:  0.004397153854370117\n",
      "solving Ax = b time taken:  0.0004870891571044922\n",
      "epoch  84\n",
      "assembling the matrix time taken:  0.00533294677734375\n",
      "solving Ax = b time taken:  0.00028014183044433594\n",
      "epoch  85\n",
      "assembling the matrix time taken:  0.010097980499267578\n",
      "solving Ax = b time taken:  0.0003046989440917969\n",
      "epoch  86\n",
      "assembling the matrix time taken:  0.00405120849609375\n",
      "solving Ax = b time taken:  0.00025010108947753906\n",
      "epoch  87\n",
      "assembling the matrix time taken:  0.01232600212097168\n",
      "solving Ax = b time taken:  0.0002551078796386719\n",
      "epoch  88\n",
      "assembling the matrix time taken:  0.0048618316650390625\n",
      "solving Ax = b time taken:  0.00029087066650390625\n",
      "epoch  89\n",
      "assembling the matrix time taken:  0.0075380802154541016\n",
      "solving Ax = b time taken:  0.0012199878692626953\n",
      "epoch  90\n",
      "assembling the matrix time taken:  0.008533000946044922\n",
      "solving Ax = b time taken:  0.00025916099548339844\n",
      "epoch  91\n",
      "assembling the matrix time taken:  0.003927946090698242\n",
      "solving Ax = b time taken:  0.0002789497375488281\n",
      "epoch  92\n",
      "assembling the matrix time taken:  0.004086732864379883\n",
      "solving Ax = b time taken:  0.0004820823669433594\n",
      "epoch  93\n",
      "assembling the matrix time taken:  0.01667499542236328\n",
      "solving Ax = b time taken:  0.0002598762512207031\n",
      "epoch  94\n",
      "assembling the matrix time taken:  0.002816915512084961\n",
      "solving Ax = b time taken:  0.0002288818359375\n",
      "epoch  95\n",
      "assembling the matrix time taken:  0.010137081146240234\n",
      "solving Ax = b time taken:  0.00026488304138183594\n",
      "epoch  96\n",
      "assembling the matrix time taken:  0.0029282569885253906\n",
      "solving Ax = b time taken:  0.0004317760467529297\n",
      "epoch  97\n",
      "assembling the matrix time taken:  0.002991199493408203\n",
      "solving Ax = b time taken:  0.0002307891845703125\n",
      "epoch  98\n",
      "assembling the matrix time taken:  0.013267040252685547\n",
      "solving Ax = b time taken:  0.000308990478515625\n",
      "epoch  99\n",
      "assembling the matrix time taken:  0.004195690155029297\n",
      "solving Ax = b time taken:  0.0002579689025878906\n",
      "epoch  100\n",
      "assembling the matrix time taken:  0.004826068878173828\n",
      "solving Ax = b time taken:  0.00026297569274902344\n",
      "epoch  101\n",
      "assembling the matrix time taken:  0.007664203643798828\n",
      "solving Ax = b time taken:  0.0002701282501220703\n",
      "epoch  102\n",
      "assembling the matrix time taken:  0.0065021514892578125\n",
      "solving Ax = b time taken:  0.0002560615539550781\n",
      "epoch  103\n",
      "assembling the matrix time taken:  0.0034050941467285156\n",
      "solving Ax = b time taken:  0.00029277801513671875\n",
      "epoch  104\n",
      "assembling the matrix time taken:  0.004235982894897461\n",
      "solving Ax = b time taken:  0.0004971027374267578\n",
      "epoch  105\n",
      "assembling the matrix time taken:  0.004425048828125\n",
      "solving Ax = b time taken:  0.00037598609924316406\n",
      "epoch  106\n",
      "assembling the matrix time taken:  0.005137205123901367\n",
      "solving Ax = b time taken:  0.00030994415283203125\n",
      "epoch  107\n",
      "assembling the matrix time taken:  0.004971027374267578\n",
      "solving Ax = b time taken:  0.0003132820129394531\n",
      "epoch  108\n",
      "assembling the matrix time taken:  0.004629850387573242\n",
      "solving Ax = b time taken:  0.0003268718719482422\n",
      "epoch  109\n",
      "assembling the matrix time taken:  0.0037860870361328125\n",
      "solving Ax = b time taken:  0.0002522468566894531\n",
      "epoch  110\n",
      "assembling the matrix time taken:  0.005384922027587891\n",
      "solving Ax = b time taken:  0.0003161430358886719\n",
      "epoch  111\n",
      "assembling the matrix time taken:  0.008249998092651367\n",
      "solving Ax = b time taken:  0.0003180503845214844\n",
      "epoch  112\n",
      "assembling the matrix time taken:  0.004770994186401367\n",
      "solving Ax = b time taken:  0.00047588348388671875\n",
      "epoch  113\n",
      "assembling the matrix time taken:  0.00730586051940918\n",
      "solving Ax = b time taken:  0.000392913818359375\n",
      "epoch  114\n",
      "assembling the matrix time taken:  0.007443904876708984\n",
      "solving Ax = b time taken:  0.000286102294921875\n",
      "epoch  115\n",
      "assembling the matrix time taken:  0.00626373291015625\n",
      "solving Ax = b time taken:  0.0003249645233154297\n",
      "epoch  116\n",
      "assembling the matrix time taken:  0.0034379959106445312\n",
      "solving Ax = b time taken:  0.00027489662170410156\n",
      "epoch  117\n",
      "assembling the matrix time taken:  0.015107154846191406\n",
      "solving Ax = b time taken:  0.0055310726165771484\n",
      "epoch  118\n",
      "assembling the matrix time taken:  0.007687091827392578\n",
      "solving Ax = b time taken:  0.00036787986755371094\n",
      "epoch  119\n",
      "assembling the matrix time taken:  0.0038089752197265625\n",
      "solving Ax = b time taken:  0.0005121231079101562\n",
      "epoch  120\n",
      "assembling the matrix time taken:  0.007024288177490234\n",
      "solving Ax = b time taken:  0.00030803680419921875\n",
      "epoch  121\n",
      "assembling the matrix time taken:  0.006952047348022461\n",
      "solving Ax = b time taken:  0.0003209114074707031\n",
      "epoch  122\n",
      "assembling the matrix time taken:  0.009198904037475586\n",
      "solving Ax = b time taken:  0.00034308433532714844\n",
      "epoch  123\n",
      "assembling the matrix time taken:  0.026162147521972656\n",
      "solving Ax = b time taken:  0.0003829002380371094\n",
      "epoch  124\n",
      "assembling the matrix time taken:  0.005383968353271484\n",
      "solving Ax = b time taken:  0.00030493736267089844\n",
      "epoch  125\n",
      "assembling the matrix time taken:  0.004436969757080078\n",
      "solving Ax = b time taken:  0.00033783912658691406\n",
      "epoch  126\n",
      "assembling the matrix time taken:  0.0038809776306152344\n",
      "solving Ax = b time taken:  0.0002880096435546875\n",
      "epoch  127\n",
      "assembling the matrix time taken:  0.004008054733276367\n",
      "solving Ax = b time taken:  0.00044989585876464844\n",
      "epoch  128\n",
      "assembling the matrix time taken:  0.0053598880767822266\n",
      "solving Ax = b time taken:  0.00032901763916015625\n"
     ]
    },
    {
     "data": {
      "image/png": "[encoded data removed]",
      "text/plain": [
       "<Figure size 640x480 with 1 Axes>"
      ]
     },
     "metadata": {},
     "output_type": "display_data"
    },
    {
     "name": "stdout",
     "output_type": "stream",
     "text": [
      "neuron num \t\t error \t\t order\n",
      "4 \t\t 5.531760 \t\t *  \n",
      "\n",
      "8 \t\t 1.429679 \t\t 1.952047 \n",
      "\n",
      "16 \t\t 0.495487 \t\t 1.528772 \n",
      "\n",
      "32 \t\t 0.097011 \t\t 2.352626 \n",
      "\n",
      "64 \t\t 0.025017 \t\t 1.955269 \n",
      "\n",
      "128 \t\t 0.006107 \t\t 2.034390 \n",
      "\n",
      "neuron num  & \t $\\|u-u_n \\|_{L^2}$ & \t order $O(n^{-2.00})$  \\\\ \\hline \\hline \n",
      "4 \t\t & 5.531760 &\t\t *  \\\\ \\hline  \n",
      "\n",
      "8 \t\t &  1.430e+00 &  \t\t 1.95 \\\\ \\hline  \n",
      "\n",
      "16 \t\t &  4.955e-01 &  \t\t 1.53 \\\\ \\hline  \n",
      "\n",
      "32 \t\t &  9.701e-02 &  \t\t 2.35 \\\\ \\hline  \n",
      "\n",
      "64 \t\t &  2.502e-02 &  \t\t 1.96 \\\\ \\hline  \n",
      "\n",
      "128 \t\t &  6.107e-03 &  \t\t 2.03 \\\\ \\hline  \n",
      "\n"
     ]
    }
   ],
   "source": [
    "function_name = \"oscillatory1d\" \n",
    "Nx = 2**11\n",
    "order = 3    \n",
    "filename_write = \"1DMCOGA-{}-order.txt\".format(function_name)\n",
    "f_write = open(filename_write, \"a\")\n",
    "f_write.write(\"\\n\")\n",
    "f_write.close() \n",
    "\n",
    "save = True  \n",
    "write2file = True \n",
    "\n",
    "for N in [2**11]: # 2**12,2**14\n",
    "    \n",
    "    f_write = open(filename_write, \"a\")\n",
    "    my_model = None \n",
    "    exponent = 7\n",
    "    num_epochs = 2**exponent\n",
    "    plot_freq = num_epochs \n",
    "    relu_k = 1 \n",
    "    err_QMC2, my_model = OGAL2FittingReLU1D_MC(None,target,N,num_epochs,plot_freq, Nx, order, k =relu_k, solver = \"direct\")\n",
    "\n",
    "    if save: \n",
    "        folder = 'data/'\n",
    "        filename = folder + 'err_OGA_1D_{}_neuron_{}_N_{}_randomized.pt'.format(function_name,num_epochs,N)\n",
    "        torch.save(err_QMC2,filename) \n",
    "        folder = 'data/'\n",
    "        filename = folder + 'model_OGA_1D_{}_neuron_{}_N_{}_randomized.pt'.format(function_name,num_epochs,N)\n",
    "        torch.save(my_model.state_dict(),filename)\n",
    "        \n",
    "    show_convergence_order(err_QMC2,exponent,N,filename_write,write2file = write2file)\n",
    "    show_convergence_order_latex(err_QMC2,exponent,k=relu_k,d=1)\n",
    "    "
   ]
  },
  {
   "cell_type": "code",
   "execution_count": 19,
   "metadata": {},
   "outputs": [
    {
     "data": {
      "image/png": "[encoded data removed]",
      "text/plain": [
       "<Figure size 1280x960 with 1 Axes>"
      ]
     },
     "metadata": {},
     "output_type": "display_data"
    }
   ],
   "source": [
    "plot_solution_adaptive(0, 1, my_model, target, name=None)"
   ]
  },
  {
   "cell_type": "code",
   "execution_count": null,
   "metadata": {},
   "outputs": [],
   "source": []
  }
 ],
 "metadata": {
  "kernelspec": {
   "display_name": "base",
   "language": "python",
   "name": "python3"
  },
  "language_info": {
   "codemirror_mode": {
    "name": "ipython",
    "version": 3
   },
   "file_extension": ".py",
   "mimetype": "text/x-python",
   "name": "python",
   "nbconvert_exporter": "python",
   "pygments_lexer": "ipython3",
   "version": "3.9.13"
  }
 },
 "nbformat": 4,
 "nbformat_minor": 2
}
